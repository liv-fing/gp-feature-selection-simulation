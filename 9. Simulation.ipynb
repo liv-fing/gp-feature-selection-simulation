{
 "cells": [
  {
   "cell_type": "markdown",
   "metadata": {},
   "source": [
    "# 9. Simulation"
   ]
  },
  {
   "cell_type": "markdown",
   "metadata": {},
   "source": [
    "**Objective:**\n",
    "\n",
    "Testing and comparison of the performance of various methods of Gaussian process feature selection for sparse datasets. \n",
    "\n",
    "**Models:**\n",
    "\n",
    "1. Standard optimization\n",
    "\n",
    "2. ARD kernel optimization\n",
    "\n",
    "3. Lasso feature selection before optimization\n",
    "    - $\\lambda$ selected via cross-validation\n",
    "4. Lasso feature selection before ARD kernel optimization\n",
    "    - $\\lambda$ selected via cross-validation\n",
    "5. L1-penalized optimization\n",
    "    - $\\lambda$ selected via cross-validation\n",
    "    - Includes added thresholding\n",
    "\n",
    "\n",
    "**Metrics:**\n",
    "\n",
    "Three metrics will be used to compare the performance of the 5 models. \n",
    "\n",
    "- Estimation error of coefficients $$\\varepsilon_{\\beta} = \\|\\beta - \\hat{\\beta}\\|_2$$\n",
    "- Prediction error $$RMSE = \\sqrt{\\frac{1}{n}\\sum_{i=1}^{n}\\left(y_i - \\hat{y_i}\\right)^2}$$\n",
    "- Computation Time:\n",
    "    - Total runtime for model fitting, training, and prediction, measured in seconds."
   ]
  },
  {
   "cell_type": "markdown",
   "metadata": {},
   "source": [
    "### Testing on one dataset"
   ]
  },
  {
   "cell_type": "code",
   "execution_count": 1,
   "metadata": {},
   "outputs": [],
   "source": [
    "# import libraries\n",
    "\n",
    "import pandas as pd\n",
    "import numpy as np\n",
    "import seaborn as sns\n",
    "import matplotlib.pyplot as plt\n",
    "import gpflow as gpf\n",
    "import tensorflow as tf\n",
    "\n",
    "from sklearn.linear_model import LinearRegression, LassoLars\n",
    "from sklearn.metrics.pairwise import euclidean_distances\n",
    "from sklearn.metrics import mean_squared_error, r2_score\n",
    "from sklearn.model_selection import train_test_split\n",
    "from sklearn.preprocessing import StandardScaler"
   ]
  },
  {
   "cell_type": "code",
   "execution_count": 3,
   "metadata": {},
   "outputs": [],
   "source": [
    "data_path = 'Simulation Datasets/N100_AP10_noise0.1_seed0/N100_AP10_noise0.1_seed0_data.csv'\n",
    "meta_path = 'Simulation Datasets/N100_AP10_noise0.1_seed0/N100_AP10_noise0.1_seed0_meta.json'"
   ]
  },
  {
   "cell_type": "code",
   "execution_count": null,
   "metadata": {},
   "outputs": [],
   "source": []
  }
 ],
 "metadata": {
  "kernelspec": {
   "display_name": "Python 3",
   "language": "python",
   "name": "python3"
  },
  "language_info": {
   "codemirror_mode": {
    "name": "ipython",
    "version": 3
   },
   "file_extension": ".py",
   "mimetype": "text/x-python",
   "name": "python",
   "nbconvert_exporter": "python",
   "pygments_lexer": "ipython3",
   "version": "3.10.6"
  }
 },
 "nbformat": 4,
 "nbformat_minor": 2
}
