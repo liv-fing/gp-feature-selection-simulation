{
 "cells": [
  {
   "cell_type": "markdown",
   "metadata": {},
   "source": [
    "# 9. Simulation"
   ]
  },
  {
   "cell_type": "markdown",
   "metadata": {},
   "source": [
    "**Objective:**\n",
    "\n",
    "Testing and comparison of the performance of various methods of Gaussian process feature selection for sparse datasets. \n",
    "\n",
    "**Models:**\n",
    "\n",
    "1. Standard optimization\n",
    "\n",
    "2. ARD kernel optimization\n",
    "\n",
    "3. Lasso feature selection before optimization\n",
    "    - $\\lambda$ selected via cross-validation\n",
    "4. Lasso feature selection before ARD kernel optimization\n",
    "    - $\\lambda$ selected via cross-validation\n",
    "5. L1-penalized optimization\n",
    "    - $\\lambda$ selected via cross-validation\n",
    "    - Includes added thresholding\n",
    "\n",
    "\n",
    "**Metrics:**\n",
    "\n",
    "Three metrics will be used to compare the performance of the 5 models. \n",
    "\n",
    "- Estimation error of coefficients $$\\varepsilon_{\\beta} = \\|\\beta - \\hat{\\beta}\\|_2$$\n",
    "- Prediction error $$RMSE = \\sqrt{\\frac{1}{n}\\sum_{i=1}^{n}\\left(y_i - \\hat{y_i}\\right)^2}$$\n",
    "- Computation Time:\n",
    "    - Total runtime for model fitting, training, and prediction, measured in seconds."
   ]
  },
  {
   "cell_type": "markdown",
   "metadata": {},
   "source": [
    "### Testing on one dataset"
   ]
  },
  {
   "cell_type": "code",
   "execution_count": 81,
   "metadata": {},
   "outputs": [],
   "source": [
    "# import libraries\n",
    "\n",
    "import pandas as pd\n",
    "import numpy as np\n",
    "import seaborn as sns\n",
    "import matplotlib.pyplot as plt\n",
    "import gpflow as gpf\n",
    "import json\n",
    "import tensorflow as tf\n",
    "import time\n",
    "\n",
    "from sklearn.linear_model import LinearRegression, LassoLarsCV\n",
    "from sklearn.model_selection import KFold\n",
    "from sklearn.preprocessing import StandardScaler\n",
    "from sklearn.metrics.pairwise import euclidean_distances\n",
    "from sklearn.metrics import mean_squared_error, r2_score\n",
    "from sklearn.model_selection import train_test_split\n",
    "from sklearn.preprocessing import StandardScaler"
   ]
  },
  {
   "cell_type": "markdown",
   "metadata": {},
   "source": [
    "### Define a class\n"
   ]
  },
  {
   "cell_type": "code",
   "execution_count": 123,
   "metadata": {},
   "outputs": [],
   "source": [
    "class GPFeatureSelect:\n",
    "\n",
    "    def __init__(self, model_type = 'std', cv = 5):\n",
    "        self.model_type = model_type\n",
    "        self.cv = cv\n",
    "\n",
    "        self.scaler = StandardScaler()\n",
    "        self.scaledX = None\n",
    "        self.selected_features = None\n",
    "        self.lasso_model = None\n",
    "        self.lambda_val = None\n",
    "        self.beta_hat = None\n",
    "        self.runtime = None\n",
    "        self.opt = gpf.optimizers.Scipy()\n",
    "        \n",
    "    def training_loss_lasso(self):\n",
    "        base_loss = self.gp_model.training_loss()\n",
    "        l1_penalty = self.lambda_val * tf.reduce_sum(tf.abs(self.gp_model.mean_function.A))\n",
    "        total_loss = base_loss + l1_penalty\n",
    "        return total_loss\n",
    "\n",
    "    def cv_lasso_lars(self, X, y):\n",
    "        if self.model_type in ['lasso_std', 'lasso_ard']:\n",
    "            las = LassoLarsCV(cv = self.cv)\n",
    "            las.fit(X, y.ravel())\n",
    "            mask = np.abs(las.coef_) > 1e-4\n",
    "            self.selected_features = np.where(mask)[0]\n",
    "            self.beta_hat = las.coef_\n",
    "            self.lasso_model = las\n",
    "            self.lambda_val = las.alpha_\n",
    "            return X[:, self.selected_features]\n",
    "            \n",
    "        else:\n",
    "            raise ValueError(\"cv_lasso_lars called on non-lasso model\")\n",
    "\n",
    "    def tune_lambda(self, X, y):\n",
    "        def run_cv(lambda_grid):\n",
    "            best_lbda = None\n",
    "            best_rmse = np.inf\n",
    "            lambda_rmse_pairs = []\n",
    "\n",
    "            for l in lambda_grid:\n",
    "                rmses = []\n",
    "                kf = KFold(n_splits=self.cv, shuffle=True, random_state=22)\n",
    "                for train_index, val_index in kf.split(X):\n",
    "                    X_train, X_val = X[train_index], X[val_index]\n",
    "                    y_train, y_val = y[train_index], y[val_index]\n",
    "\n",
    "                    self.init_ard_gp_mod(X_train, y_train)\n",
    "                    self.lambda_val = l\n",
    "                    self.opt.minimize(\n",
    "                        lambda: self.training_loss_lasso(),\n",
    "                        self.gp_model.trainable_variables\n",
    "                    )\n",
    "\n",
    "                    y_pred = self.gp_model.predict_f(X_val)[0].numpy().flatten()\n",
    "                    rmse = np.sqrt(np.mean((y_val - y_pred) ** 2))\n",
    "                    rmses.append(rmse)\n",
    "\n",
    "                avg_rmse = np.mean(rmses)\n",
    "                lambda_rmse_pairs.append((l, avg_rmse))\n",
    "\n",
    "                #print('\\nRMSE for this fold: ', avg_rmse)\n",
    "\n",
    "                if avg_rmse < best_rmse:\n",
    "                    best_rmse = avg_rmse\n",
    "                    best_lbda = l\n",
    "\n",
    "            return best_lbda, lambda_rmse_pairs\n",
    "\n",
    "        coarse_grid = np.logspace(-1, 1, 10)\n",
    "        #print(\"Coarse grid:\", coarse_grid)\n",
    "\n",
    "        best_coarse, coarse_log = run_cv(coarse_grid)\n",
    "        #print(\"Best coarse λ:\", best_coarse)\n",
    "        return best_coarse\n",
    "\n",
    "        # fine_grid = np.linspace(best_coarse * 0.5, best_coarse * 1.5, 10)\n",
    "        # best_fine, fine_log = run_cv(fine_grid)\n",
    "        # self.lambda_val = best_fine\n",
    "        # self.lambda_rmse_log = coarse_log + fine_log\n",
    "        #return best_fine\n",
    "\n",
    "        \n",
    "    def init_gp_mod(self, X, y):\n",
    "        y = np.asarray(y).reshape(-1, 1)\n",
    "        m = X.shape[1]\n",
    "        A_init = tf.zeros((m, 1), dtype=tf.float64)\n",
    "        b_init = tf.zeros((1,), dtype=tf.float64)\n",
    "\n",
    "        kernel = gpf.kernels.SquaredExponential(lengthscales=1)\n",
    "        likelihood = gpf.likelihoods.Gaussian()\n",
    "        mean_function = gpf.mean_functions.Linear(A=A_init, b = b_init) \n",
    "\n",
    "        self.gp_model = gpf.models.GPR(data = (X, y.reshape(-1,1)), kernel = kernel, likelihood = likelihood, mean_function = mean_function)\n",
    "\n",
    "    def init_ard_gp_mod(self, X, y):\n",
    "        y = np.asarray(y).reshape(-1, 1)\n",
    "        m = X.shape[1]\n",
    "        A_init = tf.zeros((m, 1), dtype=tf.float64)\n",
    "        b_init = tf.zeros((1,), dtype=tf.float64)\n",
    "\n",
    "        kernel = gpf.kernels.SquaredExponential(lengthscales=np.ones(m))\n",
    "        likelihood = gpf.likelihoods.Gaussian()\n",
    "        mean_function = gpf.mean_functions.Linear(A=A_init, b = b_init) \n",
    "\n",
    "        self.gp_model = gpf.models.GPR(data = (X, y.reshape(-1,1)), kernel = kernel, likelihood = likelihood, mean_function = mean_function)\n",
    "\n",
    "    def fit(self, X, y):\n",
    "\n",
    "        #start_time = time.time()\n",
    "\n",
    "        X = self.scaler.fit_transform(X)\n",
    "        y = np.asarray(y).reshape(-1,1)\n",
    "\n",
    "        if self.model_type == 'std':\n",
    "            self.init_gp_mod(X, y)\n",
    "            self.opt.minimize(\n",
    "                self.gp_model.training_loss,\n",
    "                self.gp_model.trainable_variables)\n",
    "            self.beta_hat = self.gp_model.mean_function.A.numpy().flatten()\n",
    "\n",
    "        elif self.model_type =='ard':\n",
    "            self.init_ard_gp_mod(X, y)\n",
    "            self.opt.minimize(\n",
    "                self.gp_model.training_loss,\n",
    "                self.gp_model.trainable_variables)\n",
    "            self.beta_hat = self.gp_model.mean_function.A.numpy().flatten()\n",
    "\n",
    "        elif self.model_type =='lasso_std':\n",
    "            reducedX = self.cv_lasso_lars(X,y)\n",
    "            self.init_gp_mod(reducedX, y)\n",
    "            self.opt.minimize(\n",
    "                self.gp_model.training_loss,\n",
    "                self.gp_model.trainable_variables)\n",
    "            self.beta_hat = self.gp_model.mean_function.A.numpy().flatten()\n",
    "            \n",
    "        elif self.model_type == 'lasso_ard':\n",
    "            reducedX = self.cv_lasso_lars(X,y)\n",
    "            self.init_ard_gp_mod(reducedX, y)\n",
    "            self.opt.minimize(\n",
    "                self.gp_model.training_loss,\n",
    "                self.gp_model.trainable_variables)\n",
    "            self.beta_hat = self.gp_model.mean_function.A.numpy().flatten()\n",
    "\n",
    "        elif self.model_type == 'l1_gp': \n",
    "            if self.lambda_val is None:\n",
    "                self.tune_lambda(X,y)\n",
    "\n",
    "            # start by training on all features\n",
    "            self.init_ard_gp_mod(X, y)\n",
    "            self.opt.minimize(\n",
    "                lambda: self.training_loss_lasso(),\n",
    "                self.gp_model.trainable_variables   \n",
    "            )\n",
    "\n",
    "            # threshold coefficients to select features\n",
    "            beta_full = self.gp_model.mean_function.A.numpy().flatten()\n",
    "            threshold = 1e-2  ###\n",
    "            mask = np.abs(beta_full) > threshold\n",
    "\n",
    "            ### CHECK THIS\n",
    "            beta_full[~mask] = 0.0\n",
    "\n",
    "            self.beta_hat = beta_full[mask]\n",
    "            self.selected_features = np.where(mask)[0]\n",
    "\n",
    "            # if len(self.selected_features) == 0:\n",
    "            #     print ('No features selected after thresholding')\n",
    "            #     return\n",
    "            \n",
    "            # # retrain on selected features\n",
    "            # X_reduced = X[:, self.selected_features]\n",
    "            # self.init_ard_gp_mod(X_reduced, y)\n",
    "            # self.opt.minimize(\n",
    "            #     lambda: self.training_loss_lasso(),\n",
    "            #     self.gp_model.trainable_variables)\n",
    "            \n",
    "            # # update beta_hat \n",
    "            # self.beta_hat = self.gp_model.mean_function.A.numpy().flatten()\n",
    "\n",
    "        else:\n",
    "            raise ValueError(\"Unknown model type\")\n",
    "        \n",
    "    def predict(self, X):\n",
    "        X = self.scaler.transform(X)\n",
    "        if self.selected_features is not None:\n",
    "            if isinstance(X, pd.DataFrame):\n",
    "                X = X.iloc[:, self.selected_features]\n",
    "            else:\n",
    "                X = X[:, self.selected_features]\n",
    "\n",
    "        X = np.asarray(X)\n",
    "        mean, _ = self.gp_model.predict_f(X)\n",
    "        return mean.numpy().flatten()\n",
    "    \n",
    "    def get_metrics(self, Xtest, ytest, beta_true=None):\n",
    "        y_pred = self.predict(Xtest)\n",
    "        rmse = np.sqrt(np.mean((ytest - y_pred) ** 2))\n",
    "        beta_error = None\n",
    "        if beta_true is not None and self.beta_hat is not None:\n",
    "            if self.selected_features is not None:\n",
    "                beta_error = np.linalg.norm(beta_true[self.selected_features] - self.beta_hat)\n",
    "            else:\n",
    "                beta_error = np.linalg.norm(beta_true - self.beta_hat)\n",
    "        return {\n",
    "            'rmse': rmse,\n",
    "            'beta_error': beta_error,\n",
    "            'runtime': self.runtime\n",
    "        }\n",
    "         "
   ]
  },
  {
   "cell_type": "markdown",
   "metadata": {},
   "source": [
    "## Testing each model using one simulated dataset"
   ]
  },
  {
   "cell_type": "code",
   "execution_count": 83,
   "metadata": {},
   "outputs": [],
   "source": [
    "data_path = 'Simulation Datasets/N1000_AP10_seed30/N1000_AP10_seed30_data.csv'\n",
    "meta_path = 'Simulation Datasets/N1000_AP10_seed30/N1000_AP10_seed30_meta.json'"
   ]
  },
  {
   "cell_type": "code",
   "execution_count": 85,
   "metadata": {},
   "outputs": [
    {
     "data": {
      "text/plain": [
       "23"
      ]
     },
     "execution_count": 85,
     "metadata": {},
     "output_type": "execute_result"
    }
   ],
   "source": [
    "with open(meta_path, 'r') as f:\n",
    "    meta = json.load(f)\n",
    "\n",
    "beta_true = np.array(meta['beta'])\n",
    "\n",
    "beta_true.argmin()"
   ]
  },
  {
   "cell_type": "code",
   "execution_count": 109,
   "metadata": {},
   "outputs": [
    {
     "name": "stdout",
     "output_type": "stream",
     "text": [
      "{'n': 1000, 'active_prop': 0.1, 'seed': 30, 'active_indices': [29, 23, 10], 'gp_features': [10, 23, 29], 'lengthscales': [0.8698169496364162, 0.9804929866874791, 0.4304293593749552], 'beta': [0.0, 0.0, 0.0, 0.0, 0.0, 0.0, 0.0, 0.0, 0.0, 0.0, -0.14306991340722863, 0.0, 0.0, 0.0, 0.0, 0.0, 0.0, 0.0, 0.0, 0.0, 0.0, 0.0, 0.0, -4.482965427009537, 0.0, 0.0, 0.0, 0.0, 0.0, 0.42388484671118665]}\n",
      "24.701479589232694\n"
     ]
    },
    {
     "data": {
      "image/png": "[encoded data removed]",
      "text/plain": [
       "<Figure size 640x480 with 1 Axes>"
      ]
     },
     "metadata": {},
     "output_type": "display_data"
    }
   ],
   "source": [
    "dat = pd.read_csv(data_path)\n",
    "dat.head()\n",
    "X = dat.drop(columns = 'y')\n",
    "y = dat['y']\n",
    "\n",
    "Xtrain, Xtest, ytrain, ytest = train_test_split(X, y, test_size=0.2, random_state = 22)\n",
    "\n",
    "print(meta)\n",
    "\n",
    "import matplotlib.pyplot as plt\n",
    "plt.scatter(Xtrain.iloc[:, 1], ytrain)\n",
    "\n",
    "print(np.var(ytrain))"
   ]
  },
  {
   "cell_type": "code",
   "execution_count": 96,
   "metadata": {},
   "outputs": [
    {
     "data": {
      "text/plain": [
       "{'rmse': 1.4678241977454105, 'beta_error': 0.409910811454901, 'runtime': None}"
      ]
     },
     "execution_count": 96,
     "metadata": {},
     "output_type": "execute_result"
    }
   ],
   "source": [
    "mod1_std = GPFeatureSelect(model_type='std')\n",
    "mod1_std.fit(Xtrain,ytrain)\n",
    "mod1_std.get_metrics(Xtest, ytest, beta_true)"
   ]
  },
  {
   "cell_type": "code",
   "execution_count": 97,
   "metadata": {},
   "outputs": [
    {
     "data": {
      "text/plain": [
       "{'rmse': 1.4678242974598465,\n",
       " 'beta_error': 0.40991058419664683,\n",
       " 'runtime': None}"
      ]
     },
     "execution_count": 97,
     "metadata": {},
     "output_type": "execute_result"
    }
   ],
   "source": [
    "mod2_ard = GPFeatureSelect(model_type = 'ard')\n",
    "mod2_ard.fit(Xtrain, ytrain)\n",
    "mod2_ard.get_metrics(Xtest, ytest, beta_true)"
   ]
  },
  {
   "cell_type": "code",
   "execution_count": 98,
   "metadata": {},
   "outputs": [
    {
     "data": {
      "text/plain": [
       "{'rmse': 1.4654936328474515,\n",
       " 'beta_error': 0.37214117231477783,\n",
       " 'runtime': None}"
      ]
     },
     "execution_count": 98,
     "metadata": {},
     "output_type": "execute_result"
    }
   ],
   "source": [
    "mod3_las_std = GPFeatureSelect(model_type = 'lasso_std')\n",
    "mod3_las_std.fit(Xtrain, ytrain)\n",
    "mod3_las_std.get_metrics(Xtest, ytest, beta_true)\n"
   ]
  },
  {
   "cell_type": "code",
   "execution_count": 99,
   "metadata": {},
   "outputs": [
    {
     "name": "stdout",
     "output_type": "stream",
     "text": [
      "0.06848557179489526\n"
     ]
    }
   ],
   "source": [
    "print(mod3_las_std.lambda_val)"
   ]
  },
  {
   "cell_type": "code",
   "execution_count": 100,
   "metadata": {},
   "outputs": [
    {
     "data": {
      "text/plain": [
       "{'rmse': 1.4457837577451293,\n",
       " 'beta_error': 0.24527972598151362,\n",
       " 'runtime': None}"
      ]
     },
     "execution_count": 100,
     "metadata": {},
     "output_type": "execute_result"
    }
   ],
   "source": [
    "mod4_las_ard = GPFeatureSelect(model_type = 'lasso_ard')\n",
    "mod4_las_ard.fit(Xtrain, ytrain)\n",
    "mod4_las_ard.get_metrics(Xtest, ytest, beta_true)"
   ]
  },
  {
   "cell_type": "code",
   "execution_count": 115,
   "metadata": {},
   "outputs": [
    {
     "data": {
      "text/plain": [
       "array([-0.13170553, -4.62092828,  0.04052219,  0.22549836])"
      ]
     },
     "execution_count": 115,
     "metadata": {},
     "output_type": "execute_result"
    }
   ],
   "source": [
    "mod4_las_ard.beta_hat"
   ]
  },
  {
   "cell_type": "code",
   "execution_count": 101,
   "metadata": {},
   "outputs": [
    {
     "name": "stdout",
     "output_type": "stream",
     "text": [
      "0.06848557179489526\n"
     ]
    }
   ],
   "source": [
    "print(mod4_las_ard.lambda_val)"
   ]
  },
  {
   "cell_type": "code",
   "execution_count": 124,
   "metadata": {},
   "outputs": [
    {
     "ename": "ShapeMismatchError",
     "evalue": "\nTensor shape mismatch.\n  Function: Kernel.__call__\n    Declared: /Library/Frameworks/Python.framework/Versions/3.10/lib/python3.10/site-packages/gpflow/kernels/base.py:188\n    Argument: X\n      Expected: [batch..., N, D]\n      Actual:   [800, 30]\n    Argument: X2\n      Expected: [batch2..., N2, D]\n      Actual:   [200, 11]\n",
     "output_type": "error",
     "traceback": [
      "\u001b[0;31m---------------------------------------------------------------------------\u001b[0m",
      "\u001b[0;31mShapeMismatchError\u001b[0m                        Traceback (most recent call last)",
      "Cell \u001b[0;32mIn[124], line 3\u001b[0m\n\u001b[1;32m      1\u001b[0m mod5_l1_gp \u001b[38;5;241m=\u001b[39m GPFeatureSelect(model_type \u001b[38;5;241m=\u001b[39m \u001b[38;5;124m'\u001b[39m\u001b[38;5;124ml1_gp\u001b[39m\u001b[38;5;124m'\u001b[39m)\n\u001b[1;32m      2\u001b[0m mod5_l1_gp\u001b[38;5;241m.\u001b[39mfit(Xtrain, ytrain)\n\u001b[0;32m----> 3\u001b[0m \u001b[43mmod5_l1_gp\u001b[49m\u001b[38;5;241;43m.\u001b[39;49m\u001b[43mget_metrics\u001b[49m\u001b[43m(\u001b[49m\u001b[43mXtest\u001b[49m\u001b[43m,\u001b[49m\u001b[43m \u001b[49m\u001b[43mytest\u001b[49m\u001b[43m,\u001b[49m\u001b[43m \u001b[49m\u001b[43mbeta_true\u001b[49m\u001b[43m)\u001b[49m\n\u001b[1;32m      5\u001b[0m mod5_l1_gp\u001b[38;5;241m.\u001b[39mbeta_hat\n",
      "Cell \u001b[0;32mIn[123], line 198\u001b[0m, in \u001b[0;36mGPFeatureSelect.get_metrics\u001b[0;34m(self, Xtest, ytest, beta_true)\u001b[0m\n\u001b[1;32m    197\u001b[0m \u001b[38;5;28;01mdef\u001b[39;00m\u001b[38;5;250m \u001b[39m\u001b[38;5;21mget_metrics\u001b[39m(\u001b[38;5;28mself\u001b[39m, Xtest, ytest, beta_true\u001b[38;5;241m=\u001b[39m\u001b[38;5;28;01mNone\u001b[39;00m):\n\u001b[0;32m--> 198\u001b[0m     y_pred \u001b[38;5;241m=\u001b[39m \u001b[38;5;28;43mself\u001b[39;49m\u001b[38;5;241;43m.\u001b[39;49m\u001b[43mpredict\u001b[49m\u001b[43m(\u001b[49m\u001b[43mXtest\u001b[49m\u001b[43m)\u001b[49m\n\u001b[1;32m    199\u001b[0m     rmse \u001b[38;5;241m=\u001b[39m np\u001b[38;5;241m.\u001b[39msqrt(np\u001b[38;5;241m.\u001b[39mmean((ytest \u001b[38;5;241m-\u001b[39m y_pred) \u001b[38;5;241m*\u001b[39m\u001b[38;5;241m*\u001b[39m \u001b[38;5;241m2\u001b[39m))\n\u001b[1;32m    200\u001b[0m     beta_error \u001b[38;5;241m=\u001b[39m \u001b[38;5;28;01mNone\u001b[39;00m\n",
      "Cell \u001b[0;32mIn[123], line 194\u001b[0m, in \u001b[0;36mGPFeatureSelect.predict\u001b[0;34m(self, X)\u001b[0m\n\u001b[1;32m    191\u001b[0m         X \u001b[38;5;241m=\u001b[39m X[:, \u001b[38;5;28mself\u001b[39m\u001b[38;5;241m.\u001b[39mselected_features]\n\u001b[1;32m    193\u001b[0m X \u001b[38;5;241m=\u001b[39m np\u001b[38;5;241m.\u001b[39masarray(X)\n\u001b[0;32m--> 194\u001b[0m mean, _ \u001b[38;5;241m=\u001b[39m \u001b[38;5;28;43mself\u001b[39;49m\u001b[38;5;241;43m.\u001b[39;49m\u001b[43mgp_model\u001b[49m\u001b[38;5;241;43m.\u001b[39;49m\u001b[43mpredict_f\u001b[49m\u001b[43m(\u001b[49m\u001b[43mX\u001b[49m\u001b[43m)\u001b[49m\n\u001b[1;32m    195\u001b[0m \u001b[38;5;28;01mreturn\u001b[39;00m mean\u001b[38;5;241m.\u001b[39mnumpy()\u001b[38;5;241m.\u001b[39mflatten()\n",
      "File \u001b[0;32m/Library/Frameworks/Python.framework/Versions/3.10/lib/python3.10/site-packages/check_shapes/integration/tf.py:76\u001b[0m, in \u001b[0;36minstall_tf_integration.<locals>.TfWrapperPostProcessor.on_wrap.<locals>.wrapped_method\u001b[0;34m(self, *args, **kwargs)\u001b[0m\n\u001b[1;32m     75\u001b[0m \u001b[38;5;28;01mdef\u001b[39;00m\u001b[38;5;250m \u001b[39m\u001b[38;5;21mwrapped_method\u001b[39m(\u001b[38;5;28mself\u001b[39m: Any, \u001b[38;5;241m*\u001b[39margs: Any, \u001b[38;5;241m*\u001b[39m\u001b[38;5;241m*\u001b[39mkwargs: Any) \u001b[38;5;241m-\u001b[39m\u001b[38;5;241m>\u001b[39m Any:\n\u001b[0;32m---> 76\u001b[0m     \u001b[38;5;28;01mreturn\u001b[39;00m \u001b[43mwrapped_function\u001b[49m\u001b[43m(\u001b[49m\u001b[38;5;28;43mself\u001b[39;49m\u001b[43m,\u001b[49m\u001b[43m \u001b[49m\u001b[38;5;241;43m*\u001b[39;49m\u001b[43margs\u001b[49m\u001b[43m,\u001b[49m\u001b[43m \u001b[49m\u001b[38;5;241;43m*\u001b[39;49m\u001b[38;5;241;43m*\u001b[39;49m\u001b[43mkwargs\u001b[49m\u001b[43m)\u001b[49m\n",
      "File \u001b[0;32m/Library/Frameworks/Python.framework/Versions/3.10/lib/python3.10/site-packages/gpflow/models/gpr.py:188\u001b[0m, in \u001b[0;36mGPR_with_posterior.predict_f\u001b[0;34m(self, Xnew, full_cov, full_output_cov)\u001b[0m\n\u001b[1;32m    177\u001b[0m \u001b[38;5;129m@inherit_check_shapes\u001b[39m\n\u001b[1;32m    178\u001b[0m \u001b[38;5;28;01mdef\u001b[39;00m\u001b[38;5;250m \u001b[39m\u001b[38;5;21mpredict_f\u001b[39m(\n\u001b[1;32m    179\u001b[0m     \u001b[38;5;28mself\u001b[39m, Xnew: InputData, full_cov: \u001b[38;5;28mbool\u001b[39m \u001b[38;5;241m=\u001b[39m \u001b[38;5;28;01mFalse\u001b[39;00m, full_output_cov: \u001b[38;5;28mbool\u001b[39m \u001b[38;5;241m=\u001b[39m \u001b[38;5;28;01mFalse\u001b[39;00m\n\u001b[1;32m    180\u001b[0m ) \u001b[38;5;241m-\u001b[39m\u001b[38;5;241m>\u001b[39m MeanAndVariance:\n\u001b[1;32m    181\u001b[0m \u001b[38;5;250m    \u001b[39m\u001b[38;5;124;03m\"\"\"\u001b[39;00m\n\u001b[1;32m    182\u001b[0m \u001b[38;5;124;03m    For backwards compatibility, GPR's predict_f uses the fused (no-cache)\u001b[39;00m\n\u001b[1;32m    183\u001b[0m \u001b[38;5;124;03m    computation, which is more efficient during training.\u001b[39;00m\n\u001b[0;32m   (...)\u001b[0m\n\u001b[1;32m    186\u001b[0m \u001b[38;5;124;03m        model.posterior().predict_f(Xnew, ...)\u001b[39;00m\n\u001b[1;32m    187\u001b[0m \u001b[38;5;124;03m    \"\"\"\u001b[39;00m\n\u001b[0;32m--> 188\u001b[0m     \u001b[38;5;28;01mreturn\u001b[39;00m \u001b[38;5;28;43mself\u001b[39;49m\u001b[38;5;241;43m.\u001b[39;49m\u001b[43mposterior\u001b[49m\u001b[43m(\u001b[49m\u001b[43mposteriors\u001b[49m\u001b[38;5;241;43m.\u001b[39;49m\u001b[43mPrecomputeCacheType\u001b[49m\u001b[38;5;241;43m.\u001b[39;49m\u001b[43mNOCACHE\u001b[49m\u001b[43m)\u001b[49m\u001b[38;5;241;43m.\u001b[39;49m\u001b[43mfused_predict_f\u001b[49m\u001b[43m(\u001b[49m\n\u001b[1;32m    189\u001b[0m \u001b[43m        \u001b[49m\u001b[43mXnew\u001b[49m\u001b[43m,\u001b[49m\u001b[43m \u001b[49m\u001b[43mfull_cov\u001b[49m\u001b[38;5;241;43m=\u001b[39;49m\u001b[43mfull_cov\u001b[49m\u001b[43m,\u001b[49m\u001b[43m \u001b[49m\u001b[43mfull_output_cov\u001b[49m\u001b[38;5;241;43m=\u001b[39;49m\u001b[43mfull_output_cov\u001b[49m\n\u001b[1;32m    190\u001b[0m \u001b[43m    \u001b[49m\u001b[43m)\u001b[49m\n",
      "File \u001b[0;32m/Library/Frameworks/Python.framework/Versions/3.10/lib/python3.10/site-packages/check_shapes/integration/tf.py:76\u001b[0m, in \u001b[0;36minstall_tf_integration.<locals>.TfWrapperPostProcessor.on_wrap.<locals>.wrapped_method\u001b[0;34m(self, *args, **kwargs)\u001b[0m\n\u001b[1;32m     75\u001b[0m \u001b[38;5;28;01mdef\u001b[39;00m\u001b[38;5;250m \u001b[39m\u001b[38;5;21mwrapped_method\u001b[39m(\u001b[38;5;28mself\u001b[39m: Any, \u001b[38;5;241m*\u001b[39margs: Any, \u001b[38;5;241m*\u001b[39m\u001b[38;5;241m*\u001b[39mkwargs: Any) \u001b[38;5;241m-\u001b[39m\u001b[38;5;241m>\u001b[39m Any:\n\u001b[0;32m---> 76\u001b[0m     \u001b[38;5;28;01mreturn\u001b[39;00m \u001b[43mwrapped_function\u001b[49m\u001b[43m(\u001b[49m\u001b[38;5;28;43mself\u001b[39;49m\u001b[43m,\u001b[49m\u001b[43m \u001b[49m\u001b[38;5;241;43m*\u001b[39;49m\u001b[43margs\u001b[49m\u001b[43m,\u001b[49m\u001b[43m \u001b[49m\u001b[38;5;241;43m*\u001b[39;49m\u001b[38;5;241;43m*\u001b[39;49m\u001b[43mkwargs\u001b[49m\u001b[43m)\u001b[49m\n",
      "File \u001b[0;32m/Library/Frameworks/Python.framework/Versions/3.10/lib/python3.10/site-packages/gpflow/posteriors.py:255\u001b[0m, in \u001b[0;36mAbstractPosterior.fused_predict_f\u001b[0;34m(self, Xnew, full_cov, full_output_cov)\u001b[0m\n\u001b[1;32m    240\u001b[0m \u001b[38;5;129m@check_shapes\u001b[39m(\n\u001b[1;32m    241\u001b[0m     \u001b[38;5;124m\"\u001b[39m\u001b[38;5;124mXnew: [batch..., N, D]\u001b[39m\u001b[38;5;124m\"\u001b[39m,\n\u001b[1;32m    242\u001b[0m     \u001b[38;5;124m\"\u001b[39m\u001b[38;5;124mreturn[0]: [batch..., N, P]\u001b[39m\u001b[38;5;124m\"\u001b[39m,\n\u001b[0;32m   (...)\u001b[0m\n\u001b[1;32m    249\u001b[0m     \u001b[38;5;28mself\u001b[39m, Xnew: TensorType, full_cov: \u001b[38;5;28mbool\u001b[39m \u001b[38;5;241m=\u001b[39m \u001b[38;5;28;01mFalse\u001b[39;00m, full_output_cov: \u001b[38;5;28mbool\u001b[39m \u001b[38;5;241m=\u001b[39m \u001b[38;5;28;01mFalse\u001b[39;00m\n\u001b[1;32m    250\u001b[0m ) \u001b[38;5;241m-\u001b[39m\u001b[38;5;241m>\u001b[39m MeanAndVariance:\n\u001b[1;32m    251\u001b[0m \u001b[38;5;250m    \u001b[39m\u001b[38;5;124;03m\"\"\"\u001b[39;00m\n\u001b[1;32m    252\u001b[0m \u001b[38;5;124;03m    Computes predictive mean and (co)variance at Xnew, including mean_function\u001b[39;00m\n\u001b[1;32m    253\u001b[0m \u001b[38;5;124;03m    Does not make use of caching\u001b[39;00m\n\u001b[1;32m    254\u001b[0m \u001b[38;5;124;03m    \"\"\"\u001b[39;00m\n\u001b[0;32m--> 255\u001b[0m     mean, cov \u001b[38;5;241m=\u001b[39m \u001b[38;5;28;43mself\u001b[39;49m\u001b[38;5;241;43m.\u001b[39;49m\u001b[43m_conditional_fused\u001b[49m\u001b[43m(\u001b[49m\n\u001b[1;32m    256\u001b[0m \u001b[43m        \u001b[49m\u001b[43mXnew\u001b[49m\u001b[43m,\u001b[49m\u001b[43m \u001b[49m\u001b[43mfull_cov\u001b[49m\u001b[38;5;241;43m=\u001b[39;49m\u001b[43mfull_cov\u001b[49m\u001b[43m,\u001b[49m\u001b[43m \u001b[49m\u001b[43mfull_output_cov\u001b[49m\u001b[38;5;241;43m=\u001b[39;49m\u001b[43mfull_output_cov\u001b[49m\n\u001b[1;32m    257\u001b[0m \u001b[43m    \u001b[49m\u001b[43m)\u001b[49m\n\u001b[1;32m    258\u001b[0m     \u001b[38;5;28;01mreturn\u001b[39;00m \u001b[38;5;28mself\u001b[39m\u001b[38;5;241m.\u001b[39m_add_mean_function(Xnew, mean), cov\n",
      "File \u001b[0;32m/Library/Frameworks/Python.framework/Versions/3.10/lib/python3.10/site-packages/check_shapes/integration/tf.py:76\u001b[0m, in \u001b[0;36minstall_tf_integration.<locals>.TfWrapperPostProcessor.on_wrap.<locals>.wrapped_method\u001b[0;34m(self, *args, **kwargs)\u001b[0m\n\u001b[1;32m     75\u001b[0m \u001b[38;5;28;01mdef\u001b[39;00m\u001b[38;5;250m \u001b[39m\u001b[38;5;21mwrapped_method\u001b[39m(\u001b[38;5;28mself\u001b[39m: Any, \u001b[38;5;241m*\u001b[39margs: Any, \u001b[38;5;241m*\u001b[39m\u001b[38;5;241m*\u001b[39mkwargs: Any) \u001b[38;5;241m-\u001b[39m\u001b[38;5;241m>\u001b[39m Any:\n\u001b[0;32m---> 76\u001b[0m     \u001b[38;5;28;01mreturn\u001b[39;00m \u001b[43mwrapped_function\u001b[49m\u001b[43m(\u001b[49m\u001b[38;5;28;43mself\u001b[39;49m\u001b[43m,\u001b[49m\u001b[43m \u001b[49m\u001b[38;5;241;43m*\u001b[39;49m\u001b[43margs\u001b[49m\u001b[43m,\u001b[49m\u001b[43m \u001b[49m\u001b[38;5;241;43m*\u001b[39;49m\u001b[38;5;241;43m*\u001b[39;49m\u001b[43mkwargs\u001b[49m\u001b[43m)\u001b[49m\n",
      "File \u001b[0;32m/Library/Frameworks/Python.framework/Versions/3.10/lib/python3.10/site-packages/gpflow/posteriors.py:443\u001b[0m, in \u001b[0;36mGPRPosterior._conditional_fused\u001b[0;34m(self, Xnew, full_cov, full_output_cov)\u001b[0m\n\u001b[1;32m    438\u001b[0m \u001b[38;5;250m\u001b[39m\u001b[38;5;124;03m\"\"\"\u001b[39;00m\n\u001b[1;32m    439\u001b[0m \u001b[38;5;124;03mComputes predictive mean and (co)variance at Xnew, *excluding* mean_function\u001b[39;00m\n\u001b[1;32m    440\u001b[0m \u001b[38;5;124;03mDoes not make use of caching\u001b[39;00m\n\u001b[1;32m    441\u001b[0m \u001b[38;5;124;03m\"\"\"\u001b[39;00m\n\u001b[1;32m    442\u001b[0m temp_cache \u001b[38;5;241m=\u001b[39m \u001b[38;5;28mtuple\u001b[39m(c\u001b[38;5;241m.\u001b[39mvalue \u001b[38;5;28;01mfor\u001b[39;00m c \u001b[38;5;129;01min\u001b[39;00m \u001b[38;5;28mself\u001b[39m\u001b[38;5;241m.\u001b[39m_precompute())\n\u001b[0;32m--> 443\u001b[0m \u001b[38;5;28;01mreturn\u001b[39;00m \u001b[38;5;28;43mself\u001b[39;49m\u001b[38;5;241;43m.\u001b[39;49m\u001b[43m_conditional_with_precompute\u001b[49m\u001b[43m(\u001b[49m\u001b[43mtemp_cache\u001b[49m\u001b[43m,\u001b[49m\u001b[43m \u001b[49m\u001b[43mXnew\u001b[49m\u001b[43m,\u001b[49m\u001b[43m \u001b[49m\u001b[43mfull_cov\u001b[49m\u001b[43m,\u001b[49m\u001b[43m \u001b[49m\u001b[43mfull_output_cov\u001b[49m\u001b[43m)\u001b[49m\n",
      "File \u001b[0;32m/Library/Frameworks/Python.framework/Versions/3.10/lib/python3.10/site-packages/check_shapes/integration/tf.py:76\u001b[0m, in \u001b[0;36minstall_tf_integration.<locals>.TfWrapperPostProcessor.on_wrap.<locals>.wrapped_method\u001b[0;34m(self, *args, **kwargs)\u001b[0m\n\u001b[1;32m     75\u001b[0m \u001b[38;5;28;01mdef\u001b[39;00m\u001b[38;5;250m \u001b[39m\u001b[38;5;21mwrapped_method\u001b[39m(\u001b[38;5;28mself\u001b[39m: Any, \u001b[38;5;241m*\u001b[39margs: Any, \u001b[38;5;241m*\u001b[39m\u001b[38;5;241m*\u001b[39mkwargs: Any) \u001b[38;5;241m-\u001b[39m\u001b[38;5;241m>\u001b[39m Any:\n\u001b[0;32m---> 76\u001b[0m     \u001b[38;5;28;01mreturn\u001b[39;00m \u001b[43mwrapped_function\u001b[49m\u001b[43m(\u001b[49m\u001b[38;5;28;43mself\u001b[39;49m\u001b[43m,\u001b[49m\u001b[43m \u001b[49m\u001b[38;5;241;43m*\u001b[39;49m\u001b[43margs\u001b[49m\u001b[43m,\u001b[49m\u001b[43m \u001b[49m\u001b[38;5;241;43m*\u001b[39;49m\u001b[38;5;241;43m*\u001b[39;49m\u001b[43mkwargs\u001b[49m\u001b[43m)\u001b[49m\n",
      "File \u001b[0;32m/Library/Frameworks/Python.framework/Versions/3.10/lib/python3.10/site-packages/gpflow/posteriors.py:399\u001b[0m, in \u001b[0;36mGPRPosterior._conditional_with_precompute\u001b[0;34m(self, cache, Xnew, full_cov, full_output_cov)\u001b[0m\n\u001b[1;32m    396\u001b[0m err, Lm \u001b[38;5;241m=\u001b[39m cache\n\u001b[1;32m    398\u001b[0m Knn \u001b[38;5;241m=\u001b[39m \u001b[38;5;28mself\u001b[39m\u001b[38;5;241m.\u001b[39mkernel(Xnew, full_cov\u001b[38;5;241m=\u001b[39mfull_cov)\n\u001b[0;32m--> 399\u001b[0m Kmn \u001b[38;5;241m=\u001b[39m \u001b[38;5;28;43mself\u001b[39;49m\u001b[38;5;241;43m.\u001b[39;49m\u001b[43mkernel\u001b[49m\u001b[43m(\u001b[49m\u001b[38;5;28;43mself\u001b[39;49m\u001b[38;5;241;43m.\u001b[39;49m\u001b[43mX_data\u001b[49m\u001b[43m,\u001b[49m\u001b[43m \u001b[49m\u001b[43mXnew\u001b[49m\u001b[43m)\u001b[49m\n\u001b[1;32m    401\u001b[0m \u001b[38;5;28;01mreturn\u001b[39;00m base_conditional_with_lm(\n\u001b[1;32m    402\u001b[0m     Kmn\u001b[38;5;241m=\u001b[39mKmn,\n\u001b[1;32m    403\u001b[0m     Lm\u001b[38;5;241m=\u001b[39mLm,\n\u001b[0;32m   (...)\u001b[0m\n\u001b[1;32m    408\u001b[0m     white\u001b[38;5;241m=\u001b[39m\u001b[38;5;28;01mFalse\u001b[39;00m,\n\u001b[1;32m    409\u001b[0m )\n",
      "File \u001b[0;32m/Library/Frameworks/Python.framework/Versions/3.10/lib/python3.10/site-packages/check_shapes/integration/tf.py:76\u001b[0m, in \u001b[0;36minstall_tf_integration.<locals>.TfWrapperPostProcessor.on_wrap.<locals>.wrapped_method\u001b[0;34m(self, *args, **kwargs)\u001b[0m\n\u001b[1;32m     75\u001b[0m \u001b[38;5;28;01mdef\u001b[39;00m\u001b[38;5;250m \u001b[39m\u001b[38;5;21mwrapped_method\u001b[39m(\u001b[38;5;28mself\u001b[39m: Any, \u001b[38;5;241m*\u001b[39margs: Any, \u001b[38;5;241m*\u001b[39m\u001b[38;5;241m*\u001b[39mkwargs: Any) \u001b[38;5;241m-\u001b[39m\u001b[38;5;241m>\u001b[39m Any:\n\u001b[0;32m---> 76\u001b[0m     \u001b[38;5;28;01mreturn\u001b[39;00m \u001b[43mwrapped_function\u001b[49m\u001b[43m(\u001b[49m\u001b[38;5;28;43mself\u001b[39;49m\u001b[43m,\u001b[49m\u001b[43m \u001b[49m\u001b[38;5;241;43m*\u001b[39;49m\u001b[43margs\u001b[49m\u001b[43m,\u001b[49m\u001b[43m \u001b[49m\u001b[38;5;241;43m*\u001b[39;49m\u001b[38;5;241;43m*\u001b[39;49m\u001b[43mkwargs\u001b[49m\u001b[43m)\u001b[49m\n",
      "File \u001b[0;32m/Library/Frameworks/Python.framework/Versions/3.10/lib/python3.10/site-packages/check_shapes/decorator.py:188\u001b[0m, in \u001b[0;36mcheck_shapes.<locals>._check_shapes.<locals>.wrapped_function\u001b[0;34m(*args, **kwargs)\u001b[0m\n\u001b[1;32m    184\u001b[0m             processed_specs\u001b[38;5;241m.\u001b[39mappend((arg_value, arg_spec\u001b[38;5;241m.\u001b[39mtensor, arg_context))\n\u001b[1;32m    186\u001b[0m     checker\u001b[38;5;241m.\u001b[39mcheck_shapes(processed_specs)\n\u001b[0;32m--> 188\u001b[0m \u001b[43m_check_specs\u001b[49m\u001b[43m(\u001b[49m\u001b[43mpre_specs\u001b[49m\u001b[43m)\u001b[49m\n\u001b[1;32m    190\u001b[0m \u001b[38;5;28;01mwith\u001b[39;00m set_shape_checker(checker):\n\u001b[1;32m    191\u001b[0m     \u001b[38;5;28;01mtry\u001b[39;00m:\n",
      "File \u001b[0;32m/Library/Frameworks/Python.framework/Versions/3.10/lib/python3.10/site-packages/check_shapes/decorator.py:186\u001b[0m, in \u001b[0;36mcheck_shapes.<locals>._check_shapes.<locals>.wrapped_function.<locals>._check_specs\u001b[0;34m(specs)\u001b[0m\n\u001b[1;32m    169\u001b[0m             arg_context \u001b[38;5;241m=\u001b[39m StackContext(\n\u001b[1;32m    170\u001b[0m                 bound_error_context,\n\u001b[1;32m    171\u001b[0m                 ParallelContext(\n\u001b[0;32m   (...)\u001b[0m\n\u001b[1;32m    181\u001b[0m                 ),\n\u001b[1;32m    182\u001b[0m             )\n\u001b[1;32m    184\u001b[0m         processed_specs\u001b[38;5;241m.\u001b[39mappend((arg_value, arg_spec\u001b[38;5;241m.\u001b[39mtensor, arg_context))\n\u001b[0;32m--> 186\u001b[0m \u001b[43mchecker\u001b[49m\u001b[38;5;241;43m.\u001b[39;49m\u001b[43mcheck_shapes\u001b[49m\u001b[43m(\u001b[49m\u001b[43mprocessed_specs\u001b[49m\u001b[43m)\u001b[49m\n",
      "File \u001b[0;32m/Library/Frameworks/Python.framework/Versions/3.10/lib/python3.10/site-packages/check_shapes/checker.py:315\u001b[0m, in \u001b[0;36mShapeChecker.check_shapes\u001b[0;34m(self, checks)\u001b[0m\n\u001b[1;32m    311\u001b[0m dim_checks \u001b[38;5;241m=\u001b[39m \u001b[38;5;28mself\u001b[39m\u001b[38;5;241m.\u001b[39m_match_dims(shape_check)\n\u001b[1;32m    312\u001b[0m \u001b[38;5;28;01mfor\u001b[39;00m dim_spec, actual_dims, shape_possibly_truncated \u001b[38;5;129;01min\u001b[39;00m dim_checks:\n\u001b[1;32m    313\u001b[0m     \u001b[38;5;66;03m# Note that self._check_dim may revive checks from\u001b[39;00m\n\u001b[1;32m    314\u001b[0m     \u001b[38;5;66;03m# `_VariableState.waiting_for_varrank` and add them back to `shape_check_queue`:\u001b[39;00m\n\u001b[0;32m--> 315\u001b[0m     \u001b[38;5;28;43mself\u001b[39;49m\u001b[38;5;241;43m.\u001b[39;49m\u001b[43m_check_dim\u001b[49m\u001b[43m(\u001b[49m\u001b[43mdim_spec\u001b[49m\u001b[43m,\u001b[49m\u001b[43m \u001b[49m\u001b[43mactual_dims\u001b[49m\u001b[43m,\u001b[49m\u001b[43m \u001b[49m\u001b[43mshape_possibly_truncated\u001b[49m\u001b[43m,\u001b[49m\u001b[43m \u001b[49m\u001b[43mshape_check_queue\u001b[49m\u001b[43m)\u001b[49m\n",
      "File \u001b[0;32m/Library/Frameworks/Python.framework/Versions/3.10/lib/python3.10/site-packages/check_shapes/checker.py:590\u001b[0m, in \u001b[0;36mShapeChecker._check_dim\u001b[0;34m(self, expected, actual_dims, shape_possibly_truncated, shape_checks)\u001b[0m\n\u001b[1;32m    587\u001b[0m \u001b[38;5;28;01melse\u001b[39;00m:\n\u001b[1;32m    588\u001b[0m     \u001b[38;5;66;03m# Anonymous dimension - we don't care about the actual value.\u001b[39;00m\n\u001b[1;32m    589\u001b[0m     \u001b[38;5;28;01mreturn\u001b[39;00m\n\u001b[0;32m--> 590\u001b[0m \u001b[38;5;28;43mself\u001b[39;49m\u001b[38;5;241;43m.\u001b[39;49m\u001b[43m_assert\u001b[49m\u001b[43m(\u001b[49m\u001b[43mobserved_dim\u001b[49m\u001b[38;5;241;43m.\u001b[39;49m\u001b[43mcheck_and_update\u001b[49m\u001b[43m(\u001b[49m\u001b[43mactual_dim\u001b[49m\u001b[43m,\u001b[49m\u001b[43m \u001b[49m\u001b[43mexpected\u001b[49m\u001b[38;5;241;43m.\u001b[39;49m\u001b[43mbroadcastable\u001b[49m\u001b[43m)\u001b[49m\u001b[43m)\u001b[49m\n",
      "File \u001b[0;32m/Library/Frameworks/Python.framework/Versions/3.10/lib/python3.10/site-packages/check_shapes/checker.py:607\u001b[0m, in \u001b[0;36mShapeChecker._assert\u001b[0;34m(self, condition)\u001b[0m\n\u001b[1;32m    603\u001b[0m         shape_error_context \u001b[38;5;241m=\u001b[39m ParallelContext(\n\u001b[1;32m    604\u001b[0m             (NoteContext(tensor_spec\u001b[38;5;241m.\u001b[39mnote), shape_error_context)\n\u001b[1;32m    605\u001b[0m         )\n\u001b[1;32m    606\u001b[0m     contexts\u001b[38;5;241m.\u001b[39mappend(StackContext(context, shape_error_context))\n\u001b[0;32m--> 607\u001b[0m \u001b[38;5;28;01mraise\u001b[39;00m ShapeMismatchError(ParallelContext(\u001b[38;5;28mtuple\u001b[39m(contexts)))\n",
      "\u001b[0;31mShapeMismatchError\u001b[0m: \nTensor shape mismatch.\n  Function: Kernel.__call__\n    Declared: /Library/Frameworks/Python.framework/Versions/3.10/lib/python3.10/site-packages/gpflow/kernels/base.py:188\n    Argument: X\n      Expected: [batch..., N, D]\n      Actual:   [800, 30]\n    Argument: X2\n      Expected: [batch2..., N2, D]\n      Actual:   [200, 11]\n"
     ]
    }
   ],
   "source": [
    "mod5_l1_gp = GPFeatureSelect(model_type = 'l1_gp')\n",
    "mod5_l1_gp.fit(Xtrain, ytrain)\n",
    "mod5_l1_gp.get_metrics(Xtest, ytest, beta_true)\n",
    "\n",
    "mod5_l1_gp.beta_hat"
   ]
  },
  {
   "cell_type": "code",
   "execution_count": 122,
   "metadata": {},
   "outputs": [
    {
     "data": {
      "text/plain": [
       "array([-0.01126588,  0.        ,  0.        ,  0.        ,  0.        ,\n",
       "        0.        ,  0.        ,  0.03666538,  0.        ,  0.        ,\n",
       "       -0.12438167,  0.        ,  0.        ,  0.        ,  0.        ,\n",
       "       -0.02167382,  0.        ,  0.02636785, -0.04373428,  0.        ,\n",
       "        0.        ,  0.        ,  0.        , -4.70129325,  0.0469446 ,\n",
       "       -0.01208415,  0.0148248 ,  0.        ,  0.        ,  0.13071189])"
      ]
     },
     "execution_count": 122,
     "metadata": {},
     "output_type": "execute_result"
    }
   ],
   "source": [
    "mod5_l1_gp.beta_hat"
   ]
  },
  {
   "cell_type": "code",
   "execution_count": 103,
   "metadata": {},
   "outputs": [
    {
     "name": "stdout",
     "output_type": "stream",
     "text": [
      "10.0\n"
     ]
    }
   ],
   "source": [
    "print(mod5_l1_gp.lambda_val) # ask about this"
   ]
  }
 ],
 "metadata": {
  "kernelspec": {
   "display_name": "Python 3",
   "language": "python",
   "name": "python3"
  },
  "language_info": {
   "codemirror_mode": {
    "name": "ipython",
    "version": 3
   },
   "file_extension": ".py",
   "mimetype": "text/x-python",
   "name": "python",
   "nbconvert_exporter": "python",
   "pygments_lexer": "ipython3",
   "version": "3.10.6"
  }
 },
 "nbformat": 4,
 "nbformat_minor": 2
}
