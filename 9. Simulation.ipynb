{
 "cells": [
  {
   "cell_type": "markdown",
   "metadata": {},
   "source": [
    "# 9. Simulation"
   ]
  },
  {
   "cell_type": "markdown",
   "metadata": {},
   "source": [
    "**Objective:**\n",
    "\n",
    "Testing and comparison of the performance of various methods of Gaussian process feature selection for sparse datasets. \n",
    "\n",
    "**Models:**\n",
    "\n",
    "1. Standard optimization\n",
    "\n",
    "2. ARD kernel optimization\n",
    "\n",
    "3. Lasso feature selection before optimization\n",
    "    - $\\lambda$ selected via cross-validation\n",
    "4. Lasso feature selection before ARD kernel optimization\n",
    "    - $\\lambda$ selected via cross-validation\n",
    "5. L1-penalized optimization\n",
    "    - $\\lambda$ selected via cross-validation\n",
    "    - Includes added thresholding\n",
    "\n",
    "\n",
    "**Metrics:**\n",
    "\n",
    "Three metrics will be used to compare the performance of the 5 models. \n",
    "\n",
    "- Estimation error of coefficients $$\\varepsilon_{\\beta} = \\|\\beta - \\hat{\\beta}\\|_2$$\n",
    "- Prediction error $$RMSE = \\sqrt{\\frac{1}{n}\\sum_{i=1}^{n}\\left(y_i - \\hat{y_i}\\right)^2}$$\n",
    "- Computation Time:\n",
    "    - Total runtime for model fitting, training, and prediction, measured in seconds."
   ]
  },
  {
   "cell_type": "markdown",
   "metadata": {},
   "source": [
    "### Testing on one dataset"
   ]
  },
  {
   "cell_type": "code",
   "execution_count": 13,
   "metadata": {},
   "outputs": [],
   "source": [
    "# import libraries\n",
    "\n",
    "import pandas as pd\n",
    "import numpy as np\n",
    "import seaborn as sns\n",
    "import matplotlib.pyplot as plt\n",
    "import gpflow as gpf\n",
    "import tensorflow as tf\n",
    "\n",
    "from sklearn.linear_model import LinearRegression, LassoLarsCV\n",
    "from sklearn.preprocessing import StandardScaler\n",
    "from sklearn.metrics.pairwise import euclidean_distances\n",
    "from sklearn.metrics import mean_squared_error, r2_score\n",
    "from sklearn.model_selection import train_test_split\n",
    "from sklearn.preprocessing import StandardScaler"
   ]
  },
  {
   "cell_type": "code",
   "execution_count": 3,
   "metadata": {},
   "outputs": [],
   "source": [
    "data_path = 'Simulation Datasets/N100_AP10_noise0.1_seed0/N100_AP10_noise0.1_seed0_data.csv'\n",
    "meta_path = 'Simulation Datasets/N100_AP10_noise0.1_seed0/N100_AP10_noise0.1_seed0_meta.json'"
   ]
  },
  {
   "cell_type": "markdown",
   "metadata": {},
   "source": [
    "### Define a class\n"
   ]
  },
  {
   "cell_type": "code",
   "execution_count": 6,
   "metadata": {},
   "outputs": [
    {
     "data": {
      "text/html": [
       "<style>#sk-container-id-1 {color: black;background-color: white;}#sk-container-id-1 pre{padding: 0;}#sk-container-id-1 div.sk-toggleable {background-color: white;}#sk-container-id-1 label.sk-toggleable__label {cursor: pointer;display: block;width: 100%;margin-bottom: 0;padding: 0.3em;box-sizing: border-box;text-align: center;}#sk-container-id-1 label.sk-toggleable__label-arrow:before {content: \"▸\";float: left;margin-right: 0.25em;color: #696969;}#sk-container-id-1 label.sk-toggleable__label-arrow:hover:before {color: black;}#sk-container-id-1 div.sk-estimator:hover label.sk-toggleable__label-arrow:before {color: black;}#sk-container-id-1 div.sk-toggleable__content {max-height: 0;max-width: 0;overflow: hidden;text-align: left;background-color: #f0f8ff;}#sk-container-id-1 div.sk-toggleable__content pre {margin: 0.2em;color: black;border-radius: 0.25em;background-color: #f0f8ff;}#sk-container-id-1 input.sk-toggleable__control:checked~div.sk-toggleable__content {max-height: 200px;max-width: 100%;overflow: auto;}#sk-container-id-1 input.sk-toggleable__control:checked~label.sk-toggleable__label-arrow:before {content: \"▾\";}#sk-container-id-1 div.sk-estimator input.sk-toggleable__control:checked~label.sk-toggleable__label {background-color: #d4ebff;}#sk-container-id-1 div.sk-label input.sk-toggleable__control:checked~label.sk-toggleable__label {background-color: #d4ebff;}#sk-container-id-1 input.sk-hidden--visually {border: 0;clip: rect(1px 1px 1px 1px);clip: rect(1px, 1px, 1px, 1px);height: 1px;margin: -1px;overflow: hidden;padding: 0;position: absolute;width: 1px;}#sk-container-id-1 div.sk-estimator {font-family: monospace;background-color: #f0f8ff;border: 1px dotted black;border-radius: 0.25em;box-sizing: border-box;margin-bottom: 0.5em;}#sk-container-id-1 div.sk-estimator:hover {background-color: #d4ebff;}#sk-container-id-1 div.sk-parallel-item::after {content: \"\";width: 100%;border-bottom: 1px solid gray;flex-grow: 1;}#sk-container-id-1 div.sk-label:hover label.sk-toggleable__label {background-color: #d4ebff;}#sk-container-id-1 div.sk-serial::before {content: \"\";position: absolute;border-left: 1px solid gray;box-sizing: border-box;top: 0;bottom: 0;left: 50%;z-index: 0;}#sk-container-id-1 div.sk-serial {display: flex;flex-direction: column;align-items: center;background-color: white;padding-right: 0.2em;padding-left: 0.2em;position: relative;}#sk-container-id-1 div.sk-item {position: relative;z-index: 1;}#sk-container-id-1 div.sk-parallel {display: flex;align-items: stretch;justify-content: center;background-color: white;position: relative;}#sk-container-id-1 div.sk-item::before, #sk-container-id-1 div.sk-parallel-item::before {content: \"\";position: absolute;border-left: 1px solid gray;box-sizing: border-box;top: 0;bottom: 0;left: 50%;z-index: -1;}#sk-container-id-1 div.sk-parallel-item {display: flex;flex-direction: column;z-index: 1;position: relative;background-color: white;}#sk-container-id-1 div.sk-parallel-item:first-child::after {align-self: flex-end;width: 50%;}#sk-container-id-1 div.sk-parallel-item:last-child::after {align-self: flex-start;width: 50%;}#sk-container-id-1 div.sk-parallel-item:only-child::after {width: 0;}#sk-container-id-1 div.sk-dashed-wrapped {border: 1px dashed gray;margin: 0 0.4em 0.5em 0.4em;box-sizing: border-box;padding-bottom: 0.4em;background-color: white;}#sk-container-id-1 div.sk-label label {font-family: monospace;font-weight: bold;display: inline-block;line-height: 1.2em;}#sk-container-id-1 div.sk-label-container {text-align: center;}#sk-container-id-1 div.sk-container {/* jupyter's `normalize.less` sets `[hidden] { display: none; }` but bootstrap.min.css set `[hidden] { display: none !important; }` so we also need the `!important` here to be able to override the default hidden behavior on the sphinx rendered scikit-learn.org. See: https://github.com/scikit-learn/scikit-learn/issues/21755 */display: inline-block !important;position: relative;}#sk-container-id-1 div.sk-text-repr-fallback {display: none;}</style><div id=\"sk-container-id-1\" class=\"sk-top-container\"><div class=\"sk-text-repr-fallback\"><pre>LassoLarsCV(cv=5)</pre><b>In a Jupyter environment, please rerun this cell to show the HTML representation or trust the notebook. <br />On GitHub, the HTML representation is unable to render, please try loading this page with nbviewer.org.</b></div><div class=\"sk-container\" hidden><div class=\"sk-item\"><div class=\"sk-estimator sk-toggleable\"><input class=\"sk-toggleable__control sk-hidden--visually\" id=\"sk-estimator-id-1\" type=\"checkbox\" checked><label for=\"sk-estimator-id-1\" class=\"sk-toggleable__label sk-toggleable__label-arrow\">LassoLarsCV</label><div class=\"sk-toggleable__content\"><pre>LassoLarsCV(cv=5)</pre></div></div></div></div></div>"
      ],
      "text/plain": [
       "LassoLarsCV(cv=5)"
      ]
     },
     "execution_count": 6,
     "metadata": {},
     "output_type": "execute_result"
    }
   ],
   "source": [
    "### Testing LassoLarsCV\n",
    "\n",
    "\n",
    "dat = pd.read_csv(data_path)\n",
    "X = dat.drop(columns='y')\n",
    "y = dat['y']\n",
    "\n",
    "las = LassoLarsCV(cv = 5)\n",
    "las.fit(X,y)"
   ]
  },
  {
   "cell_type": "code",
   "execution_count": 7,
   "metadata": {},
   "outputs": [
    {
     "data": {
      "text/plain": [
       "array([ 0.00000000e+00,  0.00000000e+00,  0.00000000e+00,  0.00000000e+00,\n",
       "        0.00000000e+00,  0.00000000e+00,  0.00000000e+00,  0.00000000e+00,\n",
       "        0.00000000e+00,  1.13742855e-02, -2.05141347e-02, -2.73948651e+00,\n",
       "        0.00000000e+00, -4.66379933e+00,  0.00000000e+00,  0.00000000e+00,\n",
       "        0.00000000e+00,  0.00000000e+00,  0.00000000e+00,  0.00000000e+00,\n",
       "        2.32982589e-03,  0.00000000e+00,  0.00000000e+00,  0.00000000e+00,\n",
       "        0.00000000e+00,  0.00000000e+00,  0.00000000e+00,  3.08660999e-02,\n",
       "        0.00000000e+00,  0.00000000e+00])"
      ]
     },
     "execution_count": 7,
     "metadata": {},
     "output_type": "execute_result"
    }
   ],
   "source": [
    "las.coef_"
   ]
  },
  {
   "cell_type": "code",
   "execution_count": null,
   "metadata": {},
   "outputs": [],
   "source": [
    "class GPFeatureSelect:\n",
    "\n",
    "    def __init__(self, model_type = 'std', cv = 5):\n",
    "        self.model_type = model_type\n",
    "        self.cv = cv\n",
    "\n",
    "        self.scaler = None\n",
    "        self.scaledX = None\n",
    "        self.selected_features = None\n",
    "        self.lasso_model = None\n",
    "        self.beta_hat = None\n",
    "        self.runtime = None\n",
    "        self.opt = gpf.optimizers.Scipy()\n",
    "\n",
    "    def scale_data(self, X):\n",
    "        self.scaler = StandardScaler()\n",
    "        self.scaledX = self.scaler.fit_transform(X)\n",
    "        return self.scaledX\n",
    "\n",
    "\n",
    "    def cv_lasso_lars(self, X, y):\n",
    "        if self.model_type in ['lasso_std', 'lasso_ard']:\n",
    "            las = LassoLarsCV(cv = self.cv)\n",
    "            las.fit(X, y)\n",
    "            mask = np.abs(las.coef_) > 1e-6\n",
    "            self.selected_features = np.where(mask)[0]\n",
    "            self.beta_hat = las.coef_\n",
    "            self.lasso_model = las\n",
    "            return X[:, self.selected_features]\n",
    "            \n",
    "        else:\n",
    "            raise ValueError(\"cv_lasso_lars called on non-lasso model\")\n",
    "        \n",
    "    def init_gp_mod(self, X, y):\n",
    "\n",
    "        m = X.shape[1]\n",
    "        A_init = tf.zeros((m, 1), dtype=tf.float64)\n",
    "        b_init = tf.zeros((1,), dtype=tf.float64)\n",
    "\n",
    "        kernel = gpf.kernels.SquaredExponential(lengthscales=1)\n",
    "        likelihood = gpf.likelihoods.Gaussian()\n",
    "        mean_function = gpf.mean_functions.Linear(A=A_init, b = b_init) \n",
    "\n",
    "        self.gp_model = gpf.models.GPR(data = (X, y.reshape(-1,1)), kernel = kernel, likelihood = likelihood, mean_function = mean_function)\n",
    "\n",
    "    def init_ard_gp_mod(self, X, y):\n",
    "\n",
    "        m = X.shape[1]\n",
    "        A_init = tf.zeros((m, 1), dtype=tf.float64)\n",
    "        b_init = tf.zeros((1,), dtype=tf.float64)\n",
    "\n",
    "        kernel = gpf.kernels.SquaredExponential(lengthscales=np.ones(m))\n",
    "        likelihood = gpf.likelihoods.Gaussian()\n",
    "        mean_function = gpf.mean_functions.Linear(A=A_init, b = b_init) \n",
    "\n",
    "        self.gp_model = gpf.models.GPR(data = (X, y.reshape(-1,1)), kernel = kernel, likelihood = likelihood, mean_function = mean_function)\n",
    "\n",
    "    def fit(self, X, y):\n",
    "        start_time = time.time()\n",
    "\n",
    "        if self.model_type == 'std':\n",
    "            self.init_gp_mod(X, y)\n",
    "\n",
    "        elif self.model_type =='ard':\n",
    "            self.init_ard_gp_mod(X, y)\n",
    "\n",
    "        elif self.model_type =='lasso_std':\n",
    "            reducedX = self.cv_lasso_lars(self.scaledX,y)\n",
    "            self.init_gp_mod(reducedX, y)\n",
    "            \n",
    "        elif self.model_type == 'lasso_ard':\n",
    "            reducedX = self.cv_lasso_lars(self.scaledX,y)\n",
    "            self.init_ard_gp_mod(reducedX, y)\n",
    "\n",
    "        elif self.model_type == 'l1_gp':\n",
    "            self.init_ard_gp_mod(X, y)\n",
    "            self.gp_model.training_loss = \n",
    "\n",
    "\n",
    "            ### \n",
    "            def training_loss_lasso(model, lambda_val = 0):\n",
    "                base_loss = model.training_loss()\n",
    "                l1_penalty = lambda_val * tf.reduce_sum(tf.abs(model.mean_function.A))\n",
    "                total_loss = base_loss + l1_penalty\n",
    "                return total_loss\n",
    "\n",
    "            opt = gpf.optimizers.Scipy()\n",
    "            opt.minimize(\n",
    "                lambda: training_loss_lasso(mod4, 0.2), \n",
    "                mod4.trainable_variables,   \n",
    "            )\n",
    "\n",
    "            ###\n",
    "        else:\n",
    "            raise ValueError(\"Unknown model type\")\n",
    "        \n",
    "  \n",
    "        \n",
    "    def predict(self, X):\n",
    "        if self.selected_features is not None:\n",
    "            X = X[:, self.selected_features]\n",
    "            X = scale_data(X)\n",
    "        return self.gp_model.predict(X)\n",
    "    \n",
    "    def get_metrics(self, X, y_true, beta_true=None):\n",
    "        y_pred = self.predict(X)\n",
    "        rmse = np.sqrt(np.mean((y_true - y_pred) ** 2))\n",
    "        beta_error = None\n",
    "        if beta_true is not None and self.coefficients is not None:\n",
    "            beta_error = np.linalg.norm(beta_true - self.coefficients)\n",
    "        return {\n",
    "            'rmse': rmse,\n",
    "            'beta_error': beta_error,\n",
    "            'runtime': self.runtime\n",
    "        }\n",
    "         "
   ]
  }
 ],
 "metadata": {
  "kernelspec": {
   "display_name": "Python 3",
   "language": "python",
   "name": "python3"
  },
  "language_info": {
   "codemirror_mode": {
    "name": "ipython",
    "version": 3
   },
   "file_extension": ".py",
   "mimetype": "text/x-python",
   "name": "python",
   "nbconvert_exporter": "python",
   "pygments_lexer": "ipython3",
   "version": "3.10.6"
  }
 },
 "nbformat": 4,
 "nbformat_minor": 2
}
