{
 "cells": [
  {
   "cell_type": "markdown",
   "metadata": {},
   "source": [
    "# 9. Simulation"
   ]
  },
  {
   "cell_type": "markdown",
   "metadata": {},
   "source": [
    "**Objective:**\n",
    "\n",
    "Testing and comparison of the performance of various methods of Gaussian process feature selection for sparse datasets. \n",
    "\n",
    "**Models:**\n",
    "\n",
    "1. Standard optimization\n",
    "\n",
    "2. ARD kernel optimization\n",
    "\n",
    "3. Lasso feature selection before optimization\n",
    "    - $\\lambda$ selected via cross-validation\n",
    "4. Lasso feature selection before ARD kernel optimization\n",
    "    - $\\lambda$ selected via cross-validation\n",
    "5. L1-penalized optimization\n",
    "    - $\\lambda$ selected via cross-validation\n",
    "    - Includes added thresholding\n",
    "\n",
    "\n",
    "**Metrics:**\n",
    "\n",
    "The following metrics will be used to compare the performance of the 5 models. \n",
    "\n",
    "- Estimation error of coefficients $$\\varepsilon_{\\beta} = \\|\\beta - \\hat{\\beta}\\|_2$$\n",
    "- Training and testing Prediction error $$RMSE = \\sqrt{\\frac{1}{n}\\sum_{i=1}^{n}\\left(y_i - \\hat{y_i}\\right)^2}$$\n",
    "- Coefficient Selection:\n",
    "    - Precision: Selected coefficients / Active Coefficients\n",
    "    - Recall:\n",
    "    - True Positive Rate\n",
    "    - False Positive Rate\n",
    "\n",
    "- Computation Time:\n",
    "    - Total runtime for model tuning, fitting, and prediction, measured in seconds.\n",
    "    - Runtime for individual phases of tuning, fitting, and prediction, measured in seconds."
   ]
  },
  {
   "cell_type": "markdown",
   "metadata": {},
   "source": [
    "### Testing on one dataset"
   ]
  },
  {
   "cell_type": "code",
   "execution_count": 3,
   "metadata": {},
   "outputs": [],
   "source": [
    "# import libraries\n",
    "\n",
    "import pandas as pd\n",
    "import numpy as np\n",
    "import seaborn as sns\n",
    "import matplotlib.pyplot as plt\n",
    "import gpflow as gpf\n",
    "import json\n",
    "import tensorflow as tf\n",
    "import time\n",
    "\n",
    "from sklearn.linear_model import LinearRegression, LassoLarsCV\n",
    "from sklearn.metrics import confusion_matrix\n",
    "from sklearn.model_selection import KFold\n",
    "from sklearn.preprocessing import StandardScaler\n",
    "from sklearn.metrics.pairwise import euclidean_distances\n",
    "from sklearn.metrics import mean_squared_error, r2_score\n",
    "from sklearn.model_selection import train_test_split\n",
    "from sklearn.preprocessing import StandardScaler"
   ]
  },
  {
   "cell_type": "markdown",
   "metadata": {},
   "source": [
    "### Define a class\n"
   ]
  },
  {
   "cell_type": "code",
   "execution_count": 4,
   "metadata": {},
   "outputs": [],
   "source": [
    "from tracemalloc import start\n",
    "\n",
    "\n",
    "class GPFeatureSelect:\n",
    "\n",
    "    def __init__(self, model_type = 'std', cv = 5):\n",
    "        self.model_type = model_type\n",
    "        self.cv = cv\n",
    "\n",
    "        self.scaler = StandardScaler()\n",
    "        self.scaledX = None\n",
    "        self.selected_features = None\n",
    "        self.lasso_model = None\n",
    "        self.lambda_val = None\n",
    "        self.beta_hat = None\n",
    "        self.runtime = None\n",
    "        self.tunetime = None\n",
    "        self.fittime = None\n",
    "        self.predicttime = None\n",
    "        self.opt = gpf.optimizers.Scipy()\n",
    "        \n",
    "    def training_loss_lasso(self):\n",
    "        base_loss = self.gp_model.training_loss()\n",
    "        l1_penalty = self.lambda_val * tf.reduce_sum(tf.abs(self.gp_model.mean_function.A))\n",
    "        total_loss = base_loss + l1_penalty\n",
    "        return total_loss\n",
    "\n",
    "    def cv_lasso_lars(self, X, y):\n",
    "        tune_start = time.time()\n",
    "        if self.model_type in ['lasso_std', 'lasso_ard']:\n",
    "            las = LassoLarsCV(cv = self.cv)\n",
    "            las.fit(X, y.ravel())\n",
    "            mask = np.abs(las.coef_) > 1e-4\n",
    "            self.selected_features = np.where(mask)[0]\n",
    "            self.beta_hat = las.coef_\n",
    "            self.lasso_model = las\n",
    "            self.lambda_val = las.alpha_\n",
    "            self.tunetime = time.time() - tune_start\n",
    "            return X[:, self.selected_features]\n",
    "            \n",
    "        else:\n",
    "            raise ValueError(\"cv_lasso_lars called on non-lasso model\")\n",
    "\n",
    "    def tune_lambda(self, X, y):\n",
    "        start_tunetime = time.time()\n",
    "        def run_cv(lambda_grid):\n",
    "            best_lbda = None\n",
    "            best_rmse = np.inf\n",
    "            lambda_rmse_pairs = []\n",
    "\n",
    "\n",
    "            for l in lambda_grid:\n",
    "                rmses = []\n",
    "                kf = KFold(n_splits=self.cv, shuffle=True, random_state=22)\n",
    "                for train_index, val_index in kf.split(X):\n",
    "                    X_train, X_val = X[train_index], X[val_index]\n",
    "                    y_train, y_val = y[train_index], y[val_index]\n",
    "\n",
    "                    self.init_ard_gp_mod(X_train, y_train)\n",
    "                    self.lambda_val = l\n",
    "                    self.opt.minimize(\n",
    "                        lambda: self.training_loss_lasso(),\n",
    "                        self.gp_model.trainable_variables\n",
    "                    )\n",
    "\n",
    "                    y_pred = self.gp_model.predict_f(X_val)[0].numpy().flatten()\n",
    "                    rmse = np.sqrt(np.mean((y_val - y_pred) ** 2))\n",
    "                    rmses.append(rmse)\n",
    "\n",
    "                avg_rmse = np.mean(rmses)\n",
    "                lambda_rmse_pairs.append((l, avg_rmse))\n",
    "\n",
    "                #print('\\nRMSE for this fold: ', avg_rmse)\n",
    "\n",
    "                if avg_rmse < best_rmse:\n",
    "                    best_rmse = avg_rmse\n",
    "                    best_lbda = l\n",
    "            self.tunetime = time.time() - start_tunetime\n",
    "            return best_lbda, lambda_rmse_pairs\n",
    "\n",
    "        coarse_grid = np.logspace(-1, 1, 10)\n",
    "        #print(\"Coarse grid:\", coarse_grid)\n",
    "\n",
    "        best_coarse, coarse_log = run_cv(coarse_grid)\n",
    "        \n",
    "        #print(\"Best coarse λ:\", best_coarse)\n",
    "        # lambdas, rmses = zip(*coarse_log)\n",
    "        # plt.figure(figsize=(6, 4))\n",
    "        # plt.plot(np.log10(lambdas), rmses, marker='o', label='Validation RMSE')\n",
    "        # plt.xlabel(\"log10(lambda)\")\n",
    "        # plt.ylabel(\"Validation RMSE\")\n",
    "        # plt.title(\"Lambda vs RMSE\")\n",
    "        # plt.grid(True)\n",
    "        # plt.legend()\n",
    "        # plt.show()\n",
    "  \n",
    "        #return best_coarse\n",
    "\n",
    "        fine_grid = np.linspace(best_coarse * 0.5, best_coarse * 1.5, 6)\n",
    "        best_fine, fine_log = run_cv(fine_grid)\n",
    "        self.lambda_val = best_fine\n",
    "        self.lambda_rmse_log = coarse_log + fine_log\n",
    "        return best_fine\n",
    "\n",
    "        \n",
    "    def init_gp_mod(self, X, y):\n",
    "        y = np.asarray(y).reshape(-1, 1)\n",
    "        m = X.shape[1]\n",
    "        A_init = tf.zeros((m, 1), dtype=tf.float64)\n",
    "        b_init = tf.zeros((1,), dtype=tf.float64)\n",
    "\n",
    "        kernel = gpf.kernels.SquaredExponential(lengthscales=1)\n",
    "        likelihood = gpf.likelihoods.Gaussian()\n",
    "        mean_function = gpf.mean_functions.Linear(A=A_init, b = b_init) \n",
    "\n",
    "        self.gp_model = gpf.models.GPR(data = (X, y.reshape(-1,1)), kernel = kernel, likelihood = likelihood, mean_function = mean_function)\n",
    "\n",
    "    def init_ard_gp_mod(self, X, y):\n",
    "        y = np.asarray(y).reshape(-1, 1)\n",
    "        m = X.shape[1]\n",
    "        A_init = tf.zeros((m, 1), dtype=tf.float64)\n",
    "        b_init = tf.zeros((1,), dtype=tf.float64)\n",
    "\n",
    "        kernel = gpf.kernels.SquaredExponential(lengthscales=np.ones(m))\n",
    "        likelihood = gpf.likelihoods.Gaussian()\n",
    "        mean_function = gpf.mean_functions.Linear(A=A_init, b = b_init) \n",
    "\n",
    "        self.gp_model = gpf.models.GPR(data = (X, y.reshape(-1,1)), kernel = kernel, likelihood = likelihood, mean_function = mean_function)\n",
    "\n",
    "    def fit(self, X, y):\n",
    "        fit_start_time = time.time()\n",
    "\n",
    "        X = self.scaler.fit_transform(X)\n",
    "        y = np.asarray(y).reshape(-1,1)\n",
    "\n",
    "        if self.model_type == 'std':\n",
    "            self.init_gp_mod(X, y)\n",
    "            self.opt.minimize(\n",
    "                self.gp_model.training_loss,\n",
    "                self.gp_model.trainable_variables)\n",
    "            self.beta_hat = self.gp_model.mean_function.A.numpy().flatten()\n",
    "\n",
    "        elif self.model_type =='ard':\n",
    "            self.init_ard_gp_mod(X, y)\n",
    "            self.opt.minimize(\n",
    "                self.gp_model.training_loss,\n",
    "                self.gp_model.trainable_variables)\n",
    "            self.beta_hat = self.gp_model.mean_function.A.numpy().flatten()\n",
    "\n",
    "        elif self.model_type =='lasso_std':\n",
    "            reducedX = self.cv_lasso_lars(X,y)\n",
    "            self.init_gp_mod(reducedX, y)\n",
    "            self.opt.minimize(\n",
    "                self.gp_model.training_loss,\n",
    "                self.gp_model.trainable_variables)\n",
    "            self.beta_hat = self.gp_model.mean_function.A.numpy().flatten()\n",
    "            \n",
    "        elif self.model_type == 'lasso_ard':\n",
    "            reducedX = self.cv_lasso_lars(X,y)\n",
    "            self.init_ard_gp_mod(reducedX, y)\n",
    "            self.opt.minimize(\n",
    "                self.gp_model.training_loss,\n",
    "                self.gp_model.trainable_variables)\n",
    "            self.beta_hat = self.gp_model.mean_function.A.numpy().flatten()\n",
    "\n",
    "        elif self.model_type == 'l1_gp': \n",
    "            if self.lambda_val is None:\n",
    "                self.tune_lambda(X,y)\n",
    "\n",
    "            # start by training on all features\n",
    "            self.init_ard_gp_mod(X, y)\n",
    "            self.opt.minimize(\n",
    "                lambda: self.training_loss_lasso(),\n",
    "                self.gp_model.trainable_variables   \n",
    "            )\n",
    "\n",
    "            # threshold coefficients to select features\n",
    "            beta_full = self.gp_model.mean_function.A.numpy().flatten()\n",
    "\n",
    "            threshold = 0.05 * np.max(np.abs(beta_full)) # using 5% of max magnitude\n",
    "            mask = np.abs(beta_full) > threshold\n",
    "\n",
    "            if np.sum(mask) == 0: # keep at least one feature\n",
    "                mask[np.argmax(np.abs(beta_full))] = True\n",
    "\n",
    "            beta_full[~mask] = 0.0\n",
    "            self.selected_features = np.where(mask)[0]\n",
    "            self.beta_hat = beta_full[mask]\n",
    "\n",
    "            Anew = self.beta_hat.reshape(-1,1)\n",
    "            b_same = self.gp_model.mean_function.b\n",
    "            assert Anew.shape[0] == X[:, self.selected_features].shape[1], (\n",
    "                f\"Anew.shape = {Anew.shape}, X[:, selected_features].shape = {X[:, self.selected_features].shape}\")\n",
    "\n",
    "            self.gp_model.mean_function = gpf.mean_functions.Linear(A=Anew, b = b_same)\n",
    "            self.gp_model.data = (X[:, self.selected_features], y)\n",
    "\n",
    "            old_ls = self.gp_model.kernel.lengthscales.numpy()\n",
    "            new_ls = old_ls[self.selected_features]\n",
    "            self.gp_model.kernel = gpf.kernels.SquaredExponential(\n",
    "                lengthscales=new_ls, \n",
    "                active_dims=list(range(len(self.selected_features))))\n",
    "            \n",
    "            if len(self.selected_features) == 0:\n",
    "                print ('No features selected after thresholding')\n",
    "                return\n",
    "            \n",
    "        else:\n",
    "            raise ValueError(\"Unknown model type\")\n",
    "        \n",
    "        self.fittime = (time.time() - fit_start_time - self.tunetime) if self.tunetime is not None else (time.time() - fit_start_time)\n",
    "        \n",
    "    def predict(self, X, istest=False):\n",
    "        if istest:\n",
    "            predict_start = time.time()\n",
    "\n",
    "        X = self.scaler.transform(X)\n",
    "\n",
    "        if self.selected_features is not None:\n",
    "            if isinstance(X, pd.DataFrame):\n",
    "                X = X.iloc[:, self.selected_features]\n",
    "            else:\n",
    "                X = X[:, self.selected_features]\n",
    "\n",
    "        X = np.asarray(X)\n",
    "\n",
    "        mean, _ = self.gp_model.predict_f(X)\n",
    "\n",
    "        if istest:\n",
    "            self.predicttime = time.time() - predict_start\n",
    "        return mean.numpy().flatten()\n",
    "    \n",
    "    def get_metrics(self, Xtrain, ytrain, Xtest, ytest, beta_true=None):\n",
    "        ytrain_pred = self.predict(Xtrain, istest = False)\n",
    "        train_rmse = np.sqrt(np.mean((ytrain - ytrain_pred) ** 2))\n",
    "        \n",
    "        ytest_pred = self.predict(Xtest, istest = True)\n",
    "        test_rmse = np.sqrt(np.mean((ytest - ytest_pred) ** 2))\n",
    "\n",
    "        beta_error = None\n",
    "        precision = None\n",
    "        recall = None\n",
    "\n",
    "        if beta_true is not None and self.beta_hat is not None:\n",
    "\n",
    "            beta_hat_full = np.zeros(len(beta_true))\n",
    "            if self.selected_features is not None:\n",
    "                beta_hat_full[self.selected_features] = self.beta_hat\n",
    "            else:\n",
    "                beta_hat_full = self.beta_hat   \n",
    "\n",
    "            beta_true_bin = (beta_true != 0).astype(int)\n",
    "            beta_hat_full_bin = (beta_hat_full != 0).astype(int)\n",
    "            beta_error = np.sqrt(np.mean((beta_true_bin - beta_hat_full_bin) ** 2))\n",
    "\n",
    "            [tn, fp, fn, tp] = confusion_matrix(beta_true_bin, beta_hat_full_bin, labels = [0, 1]).ravel()\n",
    "                    \n",
    "            if (tp + fp) == 0:\n",
    "                precision = 0.0\n",
    "            else:\n",
    "                precision = tp / (tp + fp)\n",
    "\n",
    "            if (tp + fn) == 0:\n",
    "                recall = 0.0\n",
    "            else:\n",
    "                recall = tp / (tp + fn)\n",
    "            \n",
    "        self.runtime = (self.fittime or 0) + (self.predicttime or 0) + (self.tunetime or 0)\n",
    "        \n",
    "        return {\n",
    "            'selected features': self.selected_features if self.selected_features is not None else 'All features',\n",
    "            'precision': precision,\n",
    "            'recall': recall,\n",
    "            'training rmse': train_rmse.round(4),\n",
    "            'testing rmse': test_rmse.round(4),\n",
    "            'beta_error': beta_error.round(4),\n",
    "            'tune time': round(self.tunetime, 4) if self.tunetime is not None else None,\n",
    "            'fit time': round(self.fittime, 4) if self.fittime is not None else None,\n",
    "            'prediction time (test)': round(self.predicttime, 4) if self.predicttime is not None else None,\n",
    "            'total runtime': round(self.runtime, 4) if self.runtime is not None else None,\n",
    "            'lambda': self.lambda_val.round(4) if self.lambda_val is not None else None\n",
    "        }\n",
    "    "
   ]
  },
  {
   "cell_type": "markdown",
   "metadata": {},
   "source": [
    "## Testing each model using one simulated dataset"
   ]
  },
  {
   "cell_type": "code",
   "execution_count": 5,
   "metadata": {},
   "outputs": [],
   "source": [
    "data_path = 'Simulation Datasets/N500_AP10_noise0.1_seed49/N500_AP10_noise0.1_seed49_data.csv'\n",
    "meta_path = 'Simulation Datasets/N500_AP10_noise0.1_seed49/N500_AP10_noise0.1_seed49_meta.json'"
   ]
  },
  {
   "cell_type": "code",
   "execution_count": 6,
   "metadata": {},
   "outputs": [
    {
     "data": {
      "text/plain": [
       "array([ 0.        ,  0.        ,  0.        ,  0.        ,  0.        ,\n",
       "        0.        ,  0.        ,  0.        ,  0.        ,  0.        ,\n",
       "        4.02142514, -3.616977  ,  0.        ,  0.        ,  0.        ,\n",
       "        0.        , -0.80053015,  0.        ,  0.        ,  0.        ,\n",
       "        0.        ,  0.        ,  0.        ,  0.        ,  0.        ,\n",
       "        0.        ,  0.        ,  0.        ,  0.        ,  0.        ])"
      ]
     },
     "execution_count": 6,
     "metadata": {},
     "output_type": "execute_result"
    }
   ],
   "source": [
    "with open(meta_path, 'r') as f:\n",
    "    meta = json.load(f)\n",
    "\n",
    "beta_true = np.array(meta['beta'])\n",
    "\n",
    "beta_true"
   ]
  },
  {
   "cell_type": "code",
   "execution_count": 7,
   "metadata": {},
   "outputs": [
    {
     "data": {
      "text/plain": [
       "array([ 0.        ,  0.        ,  0.        ,  0.        ,  0.        ,\n",
       "        0.        ,  0.        ,  0.        ,  0.        ,  0.        ,\n",
       "        4.02142514, -3.616977  ,  0.        ,  0.        ,  0.        ,\n",
       "        0.        , -0.80053015,  0.        ,  0.        ,  0.        ,\n",
       "        0.        ,  0.        ,  0.        ,  0.        ,  0.        ,\n",
       "        0.        ,  0.        ,  0.        ,  0.        ,  0.        ])"
      ]
     },
     "execution_count": 7,
     "metadata": {},
     "output_type": "execute_result"
    }
   ],
   "source": [
    "beta_true"
   ]
  },
  {
   "cell_type": "code",
   "execution_count": 8,
   "metadata": {},
   "outputs": [
    {
     "name": "stdout",
     "output_type": "stream",
     "text": [
      "{'n': 500, 'active_prop': 0.1, 'noise_constant': 0.1, 'seed': 49, 'active_indices': [11, 16, 10], 'gp_features': [16, 11, 10], 'lengthscales': [2.0635919017553026, 0.7206373204442309, 2.2497101381425093], 'beta': [0.0, 0.0, 0.0, 0.0, 0.0, 0.0, 0.0, 0.0, 0.0, 0.0, 4.021425142366843, -3.616976996191823, 0.0, 0.0, 0.0, 0.0, -0.8005301510478198, 0.0, 0.0, 0.0, 0.0, 0.0, 0.0, 0.0, 0.0, 0.0, 0.0, 0.0, 0.0, 0.0]}\n",
      "2.613121269939139\n"
     ]
    },
    {
     "data": {
      "image/png": "[encoded data removed]",
      "text/plain": [
       "<Figure size 640x480 with 1 Axes>"
      ]
     },
     "metadata": {},
     "output_type": "display_data"
    }
   ],
   "source": [
    "dat = pd.read_csv(data_path)\n",
    "dat.head()\n",
    "X = dat.drop(columns = 'y')\n",
    "y = dat['y']\n",
    "\n",
    "Xtrain, Xtest, ytrain, ytest = train_test_split(X, y, test_size=0.2, random_state = 22)\n",
    "\n",
    "print(meta)\n",
    "\n",
    "import matplotlib.pyplot as plt\n",
    "plt.scatter(Xtrain.iloc[:, 16], ytrain)\n",
    "\n",
    "print(np.var(ytrain))"
   ]
  },
  {
   "cell_type": "code",
   "execution_count": 9,
   "metadata": {},
   "outputs": [
    {
     "data": {
      "text/plain": [
       "{'selected features': 'All features',\n",
       " 'precision': 0.1,\n",
       " 'recall': 1.0,\n",
       " 'training rmse': 0.2644,\n",
       " 'testing rmse': 0.5391,\n",
       " 'beta_error': 0.9487,\n",
       " 'tune time': None,\n",
       " 'fit time': 1.0626,\n",
       " 'prediction time (test)': 0.0181,\n",
       " 'total runtime': 1.0807,\n",
       " 'lambda': None}"
      ]
     },
     "execution_count": 9,
     "metadata": {},
     "output_type": "execute_result"
    }
   ],
   "source": [
    "mod1_std = GPFeatureSelect(model_type='std')\n",
    "mod1_std.fit(Xtrain,ytrain)\n",
    "mod1_std.get_metrics(Xtrain, ytrain, Xtest, ytest, beta_true)"
   ]
  },
  {
   "cell_type": "code",
   "execution_count": 10,
   "metadata": {},
   "outputs": [
    {
     "data": {
      "text/plain": [
       "{'selected features': 'All features',\n",
       " 'precision': 0.1,\n",
       " 'recall': 1.0,\n",
       " 'training rmse': 0.2644,\n",
       " 'testing rmse': 0.5391,\n",
       " 'beta_error': 0.9487,\n",
       " 'tune time': None,\n",
       " 'fit time': 0.2988,\n",
       " 'prediction time (test)': 0.018,\n",
       " 'total runtime': 0.3169,\n",
       " 'lambda': None}"
      ]
     },
     "execution_count": 10,
     "metadata": {},
     "output_type": "execute_result"
    }
   ],
   "source": [
    "mod2_ard = GPFeatureSelect(model_type = 'ard')\n",
    "mod2_ard.fit(Xtrain, ytrain)\n",
    "mod2_ard.get_metrics(Xtrain, ytrain, Xtest, ytest, beta_true)"
   ]
  },
  {
   "cell_type": "code",
   "execution_count": 11,
   "metadata": {},
   "outputs": [
    {
     "data": {
      "text/plain": [
       "{'selected features': array([10, 11, 16, 29]),\n",
       " 'precision': 0.75,\n",
       " 'recall': 1.0,\n",
       " 'training rmse': 0.54,\n",
       " 'testing rmse': 0.5279,\n",
       " 'beta_error': 0.1826,\n",
       " 'tune time': 0.0152,\n",
       " 'fit time': 0.5937,\n",
       " 'prediction time (test)': 0.0165,\n",
       " 'total runtime': 0.6254,\n",
       " 'lambda': 0.0412}"
      ]
     },
     "execution_count": 11,
     "metadata": {},
     "output_type": "execute_result"
    }
   ],
   "source": [
    "mod3_las_std = GPFeatureSelect(model_type = 'lasso_std')\n",
    "mod3_las_std.fit(Xtrain, ytrain)\n",
    "mod3_las_std.get_metrics(Xtrain, ytrain, Xtest, ytest, beta_true)\n"
   ]
  },
  {
   "cell_type": "code",
   "execution_count": 12,
   "metadata": {},
   "outputs": [
    {
     "data": {
      "text/plain": [
       "array([10, 11, 16, 29])"
      ]
     },
     "execution_count": 12,
     "metadata": {},
     "output_type": "execute_result"
    }
   ],
   "source": [
    "mod3_las_std.selected_features"
   ]
  },
  {
   "cell_type": "code",
   "execution_count": 13,
   "metadata": {},
   "outputs": [
    {
     "name": "stdout",
     "output_type": "stream",
     "text": [
      "0.041155711176584994\n"
     ]
    }
   ],
   "source": [
    "print(mod3_las_std.lambda_val)"
   ]
  },
  {
   "cell_type": "code",
   "execution_count": 14,
   "metadata": {},
   "outputs": [
    {
     "data": {
      "text/plain": [
       "{'selected features': array([10, 11, 16, 29]),\n",
       " 'precision': 0.75,\n",
       " 'recall': 1.0,\n",
       " 'training rmse': 0.54,\n",
       " 'testing rmse': 0.5279,\n",
       " 'beta_error': 0.1826,\n",
       " 'tune time': 0.0093,\n",
       " 'fit time': 0.5426,\n",
       " 'prediction time (test)': 0.0161,\n",
       " 'total runtime': 0.568,\n",
       " 'lambda': 0.0412}"
      ]
     },
     "execution_count": 14,
     "metadata": {},
     "output_type": "execute_result"
    }
   ],
   "source": [
    "mod4_las_ard = GPFeatureSelect(model_type = 'lasso_ard')\n",
    "mod4_las_ard.fit(Xtrain, ytrain)\n",
    "mod4_las_ard.get_metrics(Xtrain, ytrain, Xtest, ytest, beta_true)"
   ]
  },
  {
   "cell_type": "code",
   "execution_count": 15,
   "metadata": {},
   "outputs": [
    {
     "data": {
      "text/plain": [
       "array([10, 11, 16, 29])"
      ]
     },
     "execution_count": 15,
     "metadata": {},
     "output_type": "execute_result"
    }
   ],
   "source": [
    "mod4_las_ard.selected_features"
   ]
  },
  {
   "cell_type": "code",
   "execution_count": 16,
   "metadata": {},
   "outputs": [
    {
     "name": "stdout",
     "output_type": "stream",
     "text": [
      "0.041155711176584994\n"
     ]
    }
   ],
   "source": [
    "print(mod4_las_ard.lambda_val)"
   ]
  },
  {
   "cell_type": "code",
   "execution_count": 17,
   "metadata": {},
   "outputs": [],
   "source": [
    "mod5_l1_gp = GPFeatureSelect(model_type = 'l1_gp')\n",
    "mod5_l1_gp.fit(Xtrain, ytrain)\n"
   ]
  },
  {
   "cell_type": "code",
   "execution_count": 18,
   "metadata": {},
   "outputs": [
    {
     "data": {
      "text/plain": [
       "array([10, 11, 16])"
      ]
     },
     "execution_count": 18,
     "metadata": {},
     "output_type": "execute_result"
    }
   ],
   "source": [
    "mod5_l1_gp.selected_features"
   ]
  },
  {
   "cell_type": "code",
   "execution_count": 19,
   "metadata": {},
   "outputs": [
    {
     "data": {
      "text/plain": [
       "array([-3.05161511, -0.29163842, -0.76778114,  0.61676255, -1.23360463,\n",
       "        2.19410302, -1.955187  ,  1.18775723, -1.19468915, -0.62537189,\n",
       "        0.57226549,  1.18055583,  1.78476621, -1.78326795, -0.41404656,\n",
       "        2.20422969,  0.22842057, -1.21168425,  1.07442479, -1.0456483 ,\n",
       "        0.43151402,  1.76922304,  0.92567802, -1.34983847, -1.33274814,\n",
       "       -3.52177933, -0.12394607,  1.66157482, -0.95874992, -1.06193972,\n",
       "        0.92891007, -1.88721341,  0.99256608, -0.6388118 , -1.58970446,\n",
       "       -2.38110557, -2.97235352, -0.903579  , -0.46738879, -0.16737028,\n",
       "        0.42219781, -0.08901496,  0.72149039, -0.05114981, -0.41135642,\n",
       "       -1.02801363, -0.96986906, -2.49408942,  1.32810341,  1.3180216 ,\n",
       "        0.2340293 ,  1.24354628, -1.06277427, -0.16688872, -2.75119045,\n",
       "       -2.83732142,  1.77471469,  1.8945785 , -1.10643854,  2.0474717 ,\n",
       "        2.43270725, -2.58766531,  0.32532528, -1.73798283,  1.46944939,\n",
       "        1.07241355, -1.20233077,  1.33477875,  2.99268391, -1.20674743,\n",
       "       -3.18962772,  1.06183298,  1.27417235, -0.87685773, -1.07553509,\n",
       "        0.44667869, -1.93773567,  0.26780712,  1.62361977, -2.81644412,\n",
       "       -3.21972075, -1.13657097,  0.59484107,  1.6036388 ,  0.03951948,\n",
       "        2.12399562,  1.99803079,  1.28361899, -0.06972216, -2.56769238,\n",
       "       -0.48225413, -1.90185774,  1.14628107, -2.06369356, -0.73909572,\n",
       "        0.28449938,  3.29173277, -0.77865975, -0.7260642 ,  2.85304267])"
      ]
     },
     "execution_count": 19,
     "metadata": {},
     "output_type": "execute_result"
    }
   ],
   "source": [
    "mod5_l1_gp.predict(Xtest, istest = True)"
   ]
  },
  {
   "cell_type": "code",
   "execution_count": 20,
   "metadata": {},
   "outputs": [
    {
     "data": {
      "text/plain": [
       "{'selected features': array([10, 11, 16]),\n",
       " 'precision': 1.0,\n",
       " 'recall': 1.0,\n",
       " 'training rmse': 0.487,\n",
       " 'testing rmse': 0.564,\n",
       " 'beta_error': 0.0,\n",
       " 'tune time': 38.4326,\n",
       " 'fit time': 0.8643,\n",
       " 'prediction time (test)': 0.0165,\n",
       " 'total runtime': 39.3134,\n",
       " 'lambda': 15.0}"
      ]
     },
     "execution_count": 20,
     "metadata": {},
     "output_type": "execute_result"
    }
   ],
   "source": [
    "mod5_l1_gp.get_metrics(Xtrain, ytrain, Xtest, ytest, beta_true)"
   ]
  },
  {
   "cell_type": "code",
   "execution_count": 21,
   "metadata": {},
   "outputs": [
    {
     "data": {
      "text/plain": [
       "array([ 1.15026901, -0.80841013, -0.16597666])"
      ]
     },
     "execution_count": 21,
     "metadata": {},
     "output_type": "execute_result"
    }
   ],
   "source": [
    "mod5_l1_gp.beta_hat"
   ]
  },
  {
   "cell_type": "code",
   "execution_count": 22,
   "metadata": {},
   "outputs": [
    {
     "name": "stdout",
     "output_type": "stream",
     "text": [
      "15.0\n"
     ]
    }
   ],
   "source": [
    "print(mod5_l1_gp.lambda_val) # ask about this"
   ]
  }
 ],
 "metadata": {
  "kernelspec": {
   "display_name": "Python 3",
   "language": "python",
   "name": "python3"
  },
  "language_info": {
   "codemirror_mode": {
    "name": "ipython",
    "version": 3
   },
   "file_extension": ".py",
   "mimetype": "text/x-python",
   "name": "python",
   "nbconvert_exporter": "python",
   "pygments_lexer": "ipython3",
   "version": "3.10.6"
  }
 },
 "nbformat": 4,
 "nbformat_minor": 2
}
