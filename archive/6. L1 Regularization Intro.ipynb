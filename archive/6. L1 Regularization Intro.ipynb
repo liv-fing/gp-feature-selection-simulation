{
 "cells": [
  {
   "cell_type": "markdown",
   "metadata": {},
   "source": [
    "# 6. L1 Regularization for GP"
   ]
  },
  {
   "cell_type": "code",
   "execution_count": 137,
   "metadata": {},
   "outputs": [],
   "source": [
    "import numpy as np\n",
    "import pandas as pd\n",
    "import gpflow as gpf\n",
    "import tensorflow as tf\n",
    "import matplotlib.pyplot as plt\n",
    "import tensorflow_probability as tfp\n",
    "from gpflow.config import default_float\n",
    "from sklearn.model_selection import train_test_split\n",
    "from sklearn.metrics import mean_squared_error"
   ]
  },
  {
   "cell_type": "markdown",
   "metadata": {},
   "source": [
    "## Generating Data"
   ]
  },
  {
   "cell_type": "code",
   "execution_count": 138,
   "metadata": {},
   "outputs": [],
   "source": [
    "def sim_sparse_data(n=400, m=5, beta=None, sigma=0.5, seed=22):\n",
    "    np.random.seed(seed)\n",
    "    X = np.random.randn(n, m)\n",
    "    if beta is None:\n",
    "        beta = np.array([1.5, 0, 0, -2.0, 0]) if m >= 5 else np.zeros(m)\n",
    "    noise = np.random.normal(0, sigma, n)\n",
    "    y = X @ beta + noise\n",
    "    return X, y.reshape(-1,1), beta"
   ]
  },
  {
   "cell_type": "code",
   "execution_count": 139,
   "metadata": {},
   "outputs": [],
   "source": [
    "def sim_complex_sparse_data(n=400, m=7, beta=None, sigma=0.5, seed=22):\n",
    "    np.random.seed(seed)\n",
    "    \n",
    "    X = np.random.randn(n, m)\n",
    "    \n",
    "    # Define a beta vector with strong and weak signals\n",
    "    if beta is None:\n",
    "        beta = np.zeros(m)\n",
    "        beta[0] = 1.5   # strong positive\n",
    "        beta[2] = -2.0  # strong negative\n",
    "        beta[4] = 0.7   # weak positive\n",
    "        beta[6] = -0.5  # weak negative\n",
    "\n",
    "    # Linear component\n",
    "    linear_term = X @ beta\n",
    "\n",
    "\n",
    "    # Add Gaussian noise\n",
    "    noise = np.random.normal(0, sigma, n)\n",
    "\n",
    "    # Final output\n",
    "    y = linear_term + noise\n",
    "\n",
    "    return X, y.reshape(-1, 1), beta"
   ]
  },
  {
   "cell_type": "code",
   "execution_count": 140,
   "metadata": {},
   "outputs": [],
   "source": [
    "X, y, beta = sim_sparse_data()\n",
    "X, y, beta = sim_complex_sparse_data()\n",
    "\n",
    "Xtrain, Xtest, ytrain, ytest = train_test_split(X, y, test_size = 0.2, random_state = 22)\n",
    "ytrain.reshape(-1,1)\n",
    "ytest.reshape(-1,1)\n",
    "\n",
    "m = X.shape[1]"
   ]
  },
  {
   "cell_type": "markdown",
   "metadata": {},
   "source": [
    "## Method 1: Training Twice"
   ]
  },
  {
   "cell_type": "markdown",
   "metadata": {},
   "source": [
    "### Original GP"
   ]
  },
  {
   "cell_type": "code",
   "execution_count": 141,
   "metadata": {},
   "outputs": [
    {
     "data": {
      "text/plain": [
       "  message: CONVERGENCE: REL_REDUCTION_OF_F_<=_FACTR*EPSMCH\n",
       "  success: True\n",
       "   status: 0\n",
       "      fun: 213.87023959893844\n",
       "        x: [ 1.862e+01 -2.075e+01 -1.388e+00  1.544e+00 -2.280e-02\n",
       "            -2.031e+00 -5.669e-02  7.081e-01 -2.323e-02 -5.524e-01\n",
       "            -1.695e-03]\n",
       "      nit: 41\n",
       "      jac: [ 1.881e-10  6.958e-07 -5.684e-03 -9.644e-03 -2.753e-03\n",
       "             3.954e-03  1.840e-03 -3.997e-04 -4.928e-03  3.155e-03\n",
       "             3.487e-03]\n",
       "     nfev: 50\n",
       "     njev: 50\n",
       " hess_inv: <11x11 LbfgsInvHessProduct with dtype=float64>"
      ]
     },
     "execution_count": 141,
     "metadata": {},
     "output_type": "execute_result"
    }
   ],
   "source": [
    "kernel = gpf.kernels.Matern52()\n",
    "likelihood = gpf.likelihoods.Gaussian()\n",
    "\n",
    "A_init = tf.zeros((m, 1), dtype=tf.float64)\n",
    "b_init = tf.zeros((1,), dtype=tf.float64)\n",
    "mean_function = gpf.functions.Linear(A=A_init, b = b_init) \n",
    "\n",
    "base_mod = gpf.models.GPR(\n",
    "    data=(Xtrain, ytrain), \n",
    "    kernel=kernel, \n",
    "    likelihood = likelihood,\n",
    "    mean_function = mean_function\n",
    "    )\n",
    "\n",
    "opt = gpf.optimizers.Scipy()\n",
    "opt.minimize(base_mod.training_loss, base_mod.trainable_variables)"
   ]
  },
  {
   "cell_type": "code",
   "execution_count": 142,
   "metadata": {},
   "outputs": [
    {
     "name": "stdout",
     "output_type": "stream",
     "text": [
      "Log Marginal Likelihood: -213.870\n",
      "Linear coefficients (A): [ 1.54360748 -0.02280489 -2.03107436 -0.05668718  0.70813113 -0.0232291\n",
      " -0.55241546]\n",
      "Bias (b): [-0.00169506]\n"
     ]
    }
   ],
   "source": [
    "log_likelihood = base_mod.log_marginal_likelihood().numpy()\n",
    "print(f\"Log Marginal Likelihood: {log_likelihood:.3f}\")\n",
    "print(\"Linear coefficients (A):\", base_mod.mean_function.A.numpy().flatten())\n",
    "print(\"Bias (b):\", base_mod.mean_function.b.numpy())"
   ]
  },
  {
   "cell_type": "code",
   "execution_count": 143,
   "metadata": {},
   "outputs": [
    {
     "name": "stdout",
     "output_type": "stream",
     "text": [
      "RMSE Base Mod: 0.468\n"
     ]
    }
   ],
   "source": [
    "y_mean_base_mod, y_var_base_mod = base_mod.predict_y(Xtest)\n",
    "rmse = mean_squared_error(ytest, y_mean_base_mod, squared=False)\n",
    "print(f'RMSE Base Mod: {rmse:.3f}')"
   ]
  },
  {
   "cell_type": "markdown",
   "metadata": {},
   "source": [
    "### GP With Penalty Term Added to Likelihood"
   ]
  },
  {
   "cell_type": "code",
   "execution_count": 144,
   "metadata": {},
   "outputs": [],
   "source": [
    "# define model\n",
    "l1_mod = gpf.models.GPR(\n",
    "    data=(Xtrain, ytrain), \n",
    "    kernel=kernel, \n",
    "    likelihood = likelihood,\n",
    "    mean_function = mean_function\n",
    "    )"
   ]
  },
  {
   "cell_type": "code",
   "execution_count": 145,
   "metadata": {},
   "outputs": [
    {
     "data": {
      "text/plain": [
       "  message: CONVERGENCE: REL_REDUCTION_OF_F_<=_FACTR*EPSMCH\n",
       "  success: True\n",
       "   status: 0\n",
       "      fun: 359.8412759076441\n",
       "        x: [ 1.862e+01 -2.075e+01 -1.373e+00  1.525e+00 -1.812e-03\n",
       "            -2.013e+00 -3.659e-02  6.857e-01 -1.753e-07 -5.318e-01\n",
       "            -2.283e-03]\n",
       "      nit: 17\n",
       "      jac: [ 1.455e-09  6.734e-07 -4.965e-05 -4.893e-05  4.092e-04\n",
       "             1.717e-05  2.371e-04 -1.315e-05 -1.669e+00  1.011e-04\n",
       "            -6.516e-05]\n",
       "     nfev: 65\n",
       "     njev: 65\n",
       " hess_inv: <11x11 LbfgsInvHessProduct with dtype=float64>"
      ]
     },
     "execution_count": 145,
     "metadata": {},
     "output_type": "execute_result"
    }
   ],
   "source": [
    "lambda_val = 30\n",
    "\n",
    "def training_loss_lasso(model, lambda_val = lambda_val):\n",
    "    base_loss = model.training_loss()\n",
    "    l1_penalty = lambda_val * tf.reduce_sum(tf.abs(model.mean_function.A))\n",
    "    total_loss = base_loss + l1_penalty\n",
    "    return total_loss\n",
    "\n",
    "opt = gpf.optimizers.Scipy()\n",
    "opt.minimize(\n",
    "    lambda: training_loss_lasso(l1_mod, lambda_val), \n",
    "    l1_mod.trainable_variables\n",
    ")"
   ]
  },
  {
   "cell_type": "code",
   "execution_count": 146,
   "metadata": {},
   "outputs": [
    {
     "name": "stdout",
     "output_type": "stream",
     "text": [
      "Log Marginal Likelihood: -216.028\n",
      "Linear coefficients (A):\n",
      "[ 1.52458197e+00 -1.81188213e-03 -2.01323385e+00 -3.65882497e-02\n",
      "  6.85730358e-01 -1.75321700e-07 -5.31825802e-01]\n",
      "Bias (b): [-0.00228327]\n"
     ]
    }
   ],
   "source": [
    "# print results\n",
    "log_likelihood = l1_mod.log_marginal_likelihood().numpy()\n",
    "print(f\"Log Marginal Likelihood: {log_likelihood:.3f}\")\n",
    "coefficients = l1_mod.mean_function.A.numpy().flatten()\n",
    "print(f\"Linear coefficients (A):\\n{coefficients}\")\n",
    "print(\"Bias (b):\", l1_mod.mean_function.b.numpy())"
   ]
  },
  {
   "cell_type": "code",
   "execution_count": 162,
   "metadata": {},
   "outputs": [
    {
     "name": "stdout",
     "output_type": "stream",
     "text": [
      "RMSE L1 Mod: 0.466\n"
     ]
    }
   ],
   "source": [
    "y_mean_l1_mod, y_var_l1_mod = l1_mod.predict_y(Xtest)\n",
    "rmse = mean_squared_error(ytest, y_mean_l1_mod, squared=False)\n",
    "print(f'RMSE L1 Mod: {rmse:.3f}')"
   ]
  },
  {
   "cell_type": "markdown",
   "metadata": {},
   "source": [
    "### Retraining on Selected Features"
   ]
  },
  {
   "cell_type": "code",
   "execution_count": 147,
   "metadata": {},
   "outputs": [],
   "source": [
    "def threshold_coef(threshold = 0.1, coefficients = coefficients):\n",
    "    n = len(coefficients)\n",
    "\n",
    "    reduced_coef = np.zeros(n)\n",
    "    for i in range(n):\n",
    "        if np.abs(coefficients[i]) < threshold:\n",
    "            reduced_coef[i] = 0\n",
    "        else:\n",
    "            reduced_coef[i] = coefficients[i]\n",
    "        \n",
    "    result = tf.convert_to_tensor(reduced_coef, dtype=tf.float64)\n",
    "    result = tf.reshape(result, (n, 1))\n",
    "    return result\n",
    "\n",
    "reduced_coef = threshold_coef()"
   ]
  },
  {
   "cell_type": "code",
   "execution_count": 148,
   "metadata": {},
   "outputs": [],
   "source": [
    "def select_features(threshold = 0.1, coefficients = coefficients):\n",
    "    indicator = np.where(threshold_coef(threshold, coefficients) != 0, 1,0)\n",
    "    return indicator.flatten()"
   ]
  },
  {
   "cell_type": "code",
   "execution_count": 149,
   "metadata": {},
   "outputs": [
    {
     "data": {
      "text/plain": [
       "  message: CONVERGENCE: REL_REDUCTION_OF_F_<=_FACTR*EPSMCH\n",
       "  success: True\n",
       "   status: 0\n",
       "      fun: 216.59799446471632\n",
       "        x: [ 1.862e+01 -2.075e+01 -1.369e+00  1.544e+00 -2.034e+00\n",
       "             7.114e-01 -5.527e-01 -1.014e-03]\n",
       "      nit: 17\n",
       "      jac: [ 1.622e-10  6.841e-07  9.480e-05  3.309e-04  7.304e-05\n",
       "            -3.982e-04  8.245e-05 -1.499e-04]\n",
       "     nfev: 20\n",
       "     njev: 20\n",
       " hess_inv: <8x8 LbfgsInvHessProduct with dtype=float64>"
      ]
     },
     "execution_count": 149,
     "metadata": {},
     "output_type": "execute_result"
    }
   ],
   "source": [
    "mask = select_features(0.1, coefficients) == 1\n",
    "Xtrain_reduced = Xtrain[:, mask]\n",
    "Xtest_reduced = Xtest[:, mask]\n",
    "\n",
    "A_init_reduced = A_init[mask]\n",
    "\n",
    "reduced_mod = gpf.models.GPR(\n",
    "    data=(Xtrain_reduced, ytrain), \n",
    "    kernel=kernel, \n",
    "    likelihood = likelihood,\n",
    "    mean_function = gpf.functions.Linear(A=A_init_reduced, b = b_init) \n",
    "    )\n",
    "\n",
    "opt = gpf.optimizers.Scipy()\n",
    "opt.minimize(\n",
    "    #lambda: training_loss_lasso(reduced_mod, lambda_val), \n",
    "    reduced_mod.training_loss,\n",
    "    reduced_mod.trainable_variables\n",
    ")"
   ]
  },
  {
   "cell_type": "code",
   "execution_count": 150,
   "metadata": {},
   "outputs": [
    {
     "name": "stdout",
     "output_type": "stream",
     "text": [
      "Log Marginal Likelihood: -216.598\n",
      "Linear coefficients (A):\n",
      "[ 1.54378617 -2.03395319  0.71142676 -0.55267706]\n",
      "Bias (b): [-0.00101442]\n"
     ]
    }
   ],
   "source": [
    "# print results\n",
    "log_likelihood = reduced_mod.log_marginal_likelihood().numpy()\n",
    "print(f\"Log Marginal Likelihood: {log_likelihood:.3f}\")\n",
    "optimized_A = reduced_mod.mean_function.A.numpy().flatten()\n",
    "print(f\"Linear coefficients (A):\\n{optimized_A}\")\n",
    "print(\"Bias (b):\", reduced_mod.mean_function.b.numpy())"
   ]
  },
  {
   "cell_type": "code",
   "execution_count": 151,
   "metadata": {},
   "outputs": [
    {
     "name": "stdout",
     "output_type": "stream",
     "text": [
      "RMSE Reduced Mod: 0.476\n"
     ]
    }
   ],
   "source": [
    "\n",
    "y_mean_red_mod, y_var_red_mod = reduced_mod.predict_y(Xtest_reduced)\n",
    "rmse = mean_squared_error(ytest, y_mean_red_mod, squared=False)\n",
    "print(f'RMSE Reduced Mod: {rmse:.3f}')"
   ]
  },
  {
   "cell_type": "markdown",
   "metadata": {},
   "source": []
  },
  {
   "cell_type": "markdown",
   "metadata": {},
   "source": [
    "## Method 2: Alternating Optimization"
   ]
  },
  {
   "cell_type": "code",
   "execution_count": 152,
   "metadata": {},
   "outputs": [],
   "source": [
    "# write a new class to add lambda parameter\n",
    "class GPWithLambda(gpf.models.GPR):\n",
    "    def __init__(self, data, kernel, mean_function, likelihood=None):\n",
    "        super().__init__(data=data, kernel=kernel, mean_function=mean_function, likelihood=likelihood)\n",
    "        self.lbda_val = gpf.Parameter(1.0, transform=gpf.utilities.positive())\n",
    "\n",
    "    def training_loss_l1(self):\n",
    "        base_loss = super().training_loss()\n",
    "        l1_penalty = self.lbda_val * tf.reduce_sum(tf.abs(self.mean_function.A))\n",
    "        return base_loss + l1_penalty"
   ]
  },
  {
   "cell_type": "code",
   "execution_count": 153,
   "metadata": {},
   "outputs": [
    {
     "data": {
      "text/html": [
       "&lt;__main__.GPWithLambda object at 0x36a076c20&gt;\n",
       "<table>\n",
       "<thead>\n",
       "<tr><th>name                            </th><th>class    </th><th>transform       </th><th>prior  </th><th>trainable  </th><th>shape  </th><th>dtype  </th><th>value               </th></tr>\n",
       "</thead>\n",
       "<tbody>\n",
       "<tr><td>GPWithLambda.mean_function.A    </td><td>Parameter</td><td>Identity        </td><td>       </td><td>True       </td><td>(7, 1) </td><td>float64</td><td>[[0....             </td></tr>\n",
       "<tr><td>GPWithLambda.mean_function.b    </td><td>Parameter</td><td>Identity        </td><td>       </td><td>True       </td><td>(1,)   </td><td>float64</td><td>[0.]                </td></tr>\n",
       "<tr><td>GPWithLambda.kernel.variance    </td><td>Parameter</td><td>Softplus        </td><td>       </td><td>True       </td><td>()     </td><td>float64</td><td>9.70476056782205e-10</td></tr>\n",
       "<tr><td>GPWithLambda.kernel.lengthscales</td><td>Parameter</td><td>Softplus        </td><td>       </td><td>True       </td><td>()     </td><td>float64</td><td>18.61641            </td></tr>\n",
       "<tr><td>GPWithLambda.likelihood.variance</td><td>Parameter</td><td>Softplus + Shift</td><td>       </td><td>True       </td><td>()     </td><td>float64</td><td>0.22669745703680666 </td></tr>\n",
       "<tr><td>GPWithLambda.lbda_val           </td><td>Parameter</td><td>Softplus        </td><td>       </td><td>True       </td><td>()     </td><td>float64</td><td>1.0                 </td></tr>\n",
       "</tbody>\n",
       "</table>"
      ],
      "text/plain": [
       "<__main__.GPWithLambda object at 0x36a076c20>\n",
       "╒══════════════════════════════════╤═══════════╤══════════════════╤═════════╤═════════════╤═════════╤═════════╤══════════════════════╕\n",
       "│ name                             │ class     │ transform        │ prior   │ trainable   │ shape   │ dtype   │ value                │\n",
       "╞══════════════════════════════════╪═══════════╪══════════════════╪═════════╪═════════════╪═════════╪═════════╪══════════════════════╡\n",
       "│ GPWithLambda.mean_function.A     │ Parameter │ Identity         │         │ True        │ (7, 1)  │ float64 │ [[0....              │\n",
       "├──────────────────────────────────┼───────────┼──────────────────┼─────────┼─────────────┼─────────┼─────────┼──────────────────────┤\n",
       "│ GPWithLambda.mean_function.b     │ Parameter │ Identity         │         │ True        │ (1,)    │ float64 │ [0.]                 │\n",
       "├──────────────────────────────────┼───────────┼──────────────────┼─────────┼─────────────┼─────────┼─────────┼──────────────────────┤\n",
       "│ GPWithLambda.kernel.variance     │ Parameter │ Softplus         │         │ True        │ ()      │ float64 │ 9.70476056782205e-10 │\n",
       "├──────────────────────────────────┼───────────┼──────────────────┼─────────┼─────────────┼─────────┼─────────┼──────────────────────┤\n",
       "│ GPWithLambda.kernel.lengthscales │ Parameter │ Softplus         │         │ True        │ ()      │ float64 │ 18.61641             │\n",
       "├──────────────────────────────────┼───────────┼──────────────────┼─────────┼─────────────┼─────────┼─────────┼──────────────────────┤\n",
       "│ GPWithLambda.likelihood.variance │ Parameter │ Softplus + Shift │         │ True        │ ()      │ float64 │ 0.22669745703680666  │\n",
       "├──────────────────────────────────┼───────────┼──────────────────┼─────────┼─────────────┼─────────┼─────────┼──────────────────────┤\n",
       "│ GPWithLambda.lbda_val            │ Parameter │ Softplus         │         │ True        │ ()      │ float64 │ 1.0                  │\n",
       "╘══════════════════════════════════╧═══════════╧══════════════════╧═════════╧═════════════╧═════════╧═════════╧══════════════════════╛"
      ]
     },
     "execution_count": 153,
     "metadata": {},
     "output_type": "execute_result"
    }
   ],
   "source": [
    "alt_mod = GPWithLambda(\n",
    "    data=(Xtrain, ytrain), \n",
    "    kernel=kernel, \n",
    "    likelihood = likelihood,\n",
    "    mean_function = gpf.functions.Linear(A=A_init, b = b_init))\n",
    "\n",
    "alt_mod"
   ]
  },
  {
   "cell_type": "code",
   "execution_count": 154,
   "metadata": {},
   "outputs": [
    {
     "name": "stdout",
     "output_type": "stream",
     "text": [
      "Delta 1: 1.2995542419957928e-09\n",
      "Lambda 1: 5.6418600566772414e-05\n",
      "Converged on iteration 1\n",
      "Loss: -213.8726324343715\n"
     ]
    }
   ],
   "source": [
    "count = 0\n",
    "delta = 3\n",
    "tol = 1e-6\n",
    "\n",
    "loss1_history = []\n",
    "loss2_history = []\n",
    "delta_history = []\n",
    "lambda_history = []\n",
    "\n",
    "lambda_old = alt_mod.lbda_val.numpy()\n",
    "\n",
    "step1_loss = 0\n",
    "step0_loss = 0\n",
    "\n",
    "\n",
    "while True:\n",
    "    \n",
    "    count += 1\n",
    "    if np.abs(delta) <= tol:\n",
    "        print(f'Converged on iteration {count-1}')\n",
    "        print(f'Loss: {step2_loss}')\n",
    "        break\n",
    "    \n",
    "    ## STEP 1\n",
    "\n",
    "    # optimize using l1 regularization\n",
    "    gpf.set_trainable(alt_mod.mean_function.A, True)\n",
    "    gpf.set_trainable(alt_mod.mean_function.b, True)\n",
    "    gpf.set_trainable(alt_mod.lbda_val, False)\n",
    "    gpf.set_trainable(alt_mod.kernel, False)\n",
    "\n",
    "    opt.minimize(\n",
    "        alt_mod.training_loss_l1, \n",
    "        alt_mod.trainable_variables)\n",
    "    step1_loss = alt_mod.log_marginal_likelihood().numpy()\n",
    "\n",
    "    ## STEP 2\n",
    "\n",
    "    # freeze Betas and xcvfbnm,....................................................................................................................................................................................................................................\n",
    "    gpf.set_trainable(alt_mod.mean_function.A, False)\n",
    "    gpf.set_trainable(alt_mod.mean_function.b, False)\n",
    "    gpf.set_trainable(alt_mod.lbda_val, True)\n",
    "    gpf.set_trainable(alt_mod.kernel, True)\n",
    "\n",
    "    # optimize using non-penalized loss\n",
    "    opt.minimize(\n",
    "        alt_mod.training_loss_l1,\n",
    "        alt_mod.trainable_variables)\n",
    "    \n",
    "    step2_loss = alt_mod.log_marginal_likelihood().numpy()\n",
    "    \n",
    "    lambda_new = alt_mod.lbda_val.numpy()\n",
    "    delta = np.abs(step1_loss - step2_loss)\n",
    "    lambda_old = lambda_new \n",
    "\n",
    "    ## RESULTS\n",
    "\n",
    "    delta = np.abs(step1_loss - step2_loss)\n",
    "\n",
    "    print(f'Delta {count}: {delta}')\n",
    "    print(f'Lambda {count}: {lambda_new}')\n",
    "\n",
    "    loss1_history.append(-step1_loss)\n",
    "    loss2_history.append(-step2_loss)\n",
    "    delta_history.append(delta)\n",
    "    lambda_history.append(lambda_new)"
   ]
  },
  {
   "cell_type": "code",
   "execution_count": 155,
   "metadata": {},
   "outputs": [
    {
     "name": "stdout",
     "output_type": "stream",
     "text": [
      "RMSE Alternating Mod: 0.468\n"
     ]
    }
   ],
   "source": [
    "y_mean_alt_mod, y_var_alt_mod = alt_mod.predict_y(Xtest)\n",
    "rmse = mean_squared_error(ytest, y_mean_alt_mod, squared=False)\n",
    "print(f'RMSE Alternating Mod: {rmse:.3f}')"
   ]
  },
  {
   "cell_type": "code",
   "execution_count": 160,
   "metadata": {},
   "outputs": [
    {
     "data": {
      "text/plain": [
       "<tf.Tensor: shape=(), dtype=float64, numpy=-213.8726324343715>"
      ]
     },
     "execution_count": 160,
     "metadata": {},
     "output_type": "execute_result"
    }
   ],
   "source": [
    "alt_mod.log_marginal_likelihood()"
   ]
  },
  {
   "cell_type": "markdown",
   "metadata": {},
   "source": [
    "Here, when optiimizng, reducing lambda will always decrease the penalty term, so the model is basically freeing itself from regularization. This approach of alternating optimization won't work if lambda is allowed to do this. "
   ]
  },
  {
   "cell_type": "code",
   "execution_count": 156,
   "metadata": {},
   "outputs": [
    {
     "data": {
      "text/html": [
       "&lt;__main__.GPWithLambda object at 0x36a076c20&gt;\n",
       "<table>\n",
       "<thead>\n",
       "<tr><th>name                            </th><th>class    </th><th>transform       </th><th>prior  </th><th>trainable  </th><th>shape  </th><th>dtype  </th><th>value                 </th></tr>\n",
       "</thead>\n",
       "<tbody>\n",
       "<tr><td>GPWithLambda.mean_function.A    </td><td>Parameter</td><td>Identity        </td><td>       </td><td>False      </td><td>(7, 1) </td><td>float64</td><td>[[1.54299...          </td></tr>\n",
       "<tr><td>GPWithLambda.mean_function.b    </td><td>Parameter</td><td>Identity        </td><td>       </td><td>False      </td><td>(1,)   </td><td>float64</td><td>[-0.0017165]          </td></tr>\n",
       "<tr><td>GPWithLambda.kernel.variance    </td><td>Parameter</td><td>Softplus        </td><td>       </td><td>True       </td><td>()     </td><td>float64</td><td>9.671686498626976e-10 </td></tr>\n",
       "<tr><td>GPWithLambda.kernel.lengthscales</td><td>Parameter</td><td>Softplus        </td><td>       </td><td>True       </td><td>()     </td><td>float64</td><td>18.61641              </td></tr>\n",
       "<tr><td>GPWithLambda.likelihood.variance</td><td>Parameter</td><td>Softplus + Shift</td><td>       </td><td>True       </td><td>()     </td><td>float64</td><td>0.22287006848164911   </td></tr>\n",
       "<tr><td>GPWithLambda.lbda_val           </td><td>Parameter</td><td>Softplus        </td><td>       </td><td>True       </td><td>()     </td><td>float64</td><td>5.6418600566772414e-05</td></tr>\n",
       "</tbody>\n",
       "</table>"
      ],
      "text/plain": [
       "<__main__.GPWithLambda object at 0x36a076c20>\n",
       "╒══════════════════════════════════╤═══════════╤══════════════════╤═════════╤═════════════╤═════════╤═════════╤════════════════════════╕\n",
       "│ name                             │ class     │ transform        │ prior   │ trainable   │ shape   │ dtype   │ value                  │\n",
       "╞══════════════════════════════════╪═══════════╪══════════════════╪═════════╪═════════════╪═════════╪═════════╪════════════════════════╡\n",
       "│ GPWithLambda.mean_function.A     │ Parameter │ Identity         │         │ False       │ (7, 1)  │ float64 │ [[1.54299...           │\n",
       "├──────────────────────────────────┼───────────┼──────────────────┼─────────┼─────────────┼─────────┼─────────┼────────────────────────┤\n",
       "│ GPWithLambda.mean_function.b     │ Parameter │ Identity         │         │ False       │ (1,)    │ float64 │ [-0.0017165]           │\n",
       "├──────────────────────────────────┼───────────┼──────────────────┼─────────┼─────────────┼─────────┼─────────┼────────────────────────┤\n",
       "│ GPWithLambda.kernel.variance     │ Parameter │ Softplus         │         │ True        │ ()      │ float64 │ 9.671686498626976e-10  │\n",
       "├──────────────────────────────────┼───────────┼──────────────────┼─────────┼─────────────┼─────────┼─────────┼────────────────────────┤\n",
       "│ GPWithLambda.kernel.lengthscales │ Parameter │ Softplus         │         │ True        │ ()      │ float64 │ 18.61641               │\n",
       "├──────────────────────────────────┼───────────┼──────────────────┼─────────┼─────────────┼─────────┼─────────┼────────────────────────┤\n",
       "│ GPWithLambda.likelihood.variance │ Parameter │ Softplus + Shift │         │ True        │ ()      │ float64 │ 0.22287006848164911    │\n",
       "├──────────────────────────────────┼───────────┼──────────────────┼─────────┼─────────────┼─────────┼─────────┼────────────────────────┤\n",
       "│ GPWithLambda.lbda_val            │ Parameter │ Softplus         │         │ True        │ ()      │ float64 │ 5.6418600566772414e-05 │\n",
       "╘══════════════════════════════════╧═══════════╧══════════════════╧═════════╧═════════════╧═════════╧═════════╧════════════════════════╛"
      ]
     },
     "execution_count": 156,
     "metadata": {},
     "output_type": "execute_result"
    }
   ],
   "source": [
    "alt_mod"
   ]
  },
  {
   "cell_type": "code",
   "execution_count": 161,
   "metadata": {},
   "outputs": [
    {
     "data": {
      "image/png": "[encoded data removed]",
      "text/plain": [
       "<Figure size 640x480 with 1 Axes>"
      ]
     },
     "metadata": {},
     "output_type": "display_data"
    }
   ],
   "source": [
    "iterations = list(range(1, len(loss1_history) + 1))\n",
    "\n",
    "plt.plot(iterations, loss1_history, label = \"Step 1\")\n",
    "plt.plot(iterations, loss2_history, label = \"Step 2\")\n",
    "plt.legend\n",
    "plt.xlabel('Number of Iterations')\n",
    "plt.ylabel('L1 Penalized Loss')\n",
    "plt.title('L1 Loss Over Iterations')\n",
    "plt.show()\n"
   ]
  },
  {
   "cell_type": "code",
   "execution_count": 158,
   "metadata": {},
   "outputs": [
    {
     "data": {
      "image/png": "[encoded data removed]",
      "text/plain": [
       "<Figure size 640x480 with 1 Axes>"
      ]
     },
     "metadata": {},
     "output_type": "display_data"
    }
   ],
   "source": [
    "plt.plot(iterations, lambda_history, label = 'Lambda value', marker='o')\n",
    "plt.title('Lambda Values over Iterations')\n",
    "plt.show()"
   ]
  }
 ],
 "metadata": {
  "kernelspec": {
   "display_name": "Python 3",
   "language": "python",
   "name": "python3"
  },
  "language_info": {
   "codemirror_mode": {
    "name": "ipython",
    "version": 3
   },
   "file_extension": ".py",
   "mimetype": "text/x-python",
   "name": "python",
   "nbconvert_exporter": "python",
   "pygments_lexer": "ipython3",
   "version": "3.10.6"
  }
 },
 "nbformat": 4,
 "nbformat_minor": 2
}
