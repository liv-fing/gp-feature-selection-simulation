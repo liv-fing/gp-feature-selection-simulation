{
 "cells": [
  {
   "cell_type": "markdown",
   "metadata": {},
   "source": [
    "# 7. More L1 Regularization on Simulated Data"
   ]
  },
  {
   "cell_type": "markdown",
   "metadata": {},
   "source": [
    "## Setup and Data"
   ]
  },
  {
   "cell_type": "code",
   "execution_count": 32,
   "metadata": {},
   "outputs": [],
   "source": [
    "import numpy as np\n",
    "import pandas as pd\n",
    "import gpflow as gpf\n",
    "import tensorflow as tf\n",
    "import matplotlib.pyplot as plt\n",
    "from sklearn.model_selection import train_test_split\n",
    "from sklearn.metrics import mean_squared_error\n",
    "from sklearn.linear_model import LassoCV\n",
    "from sklearn.preprocessing import StandardScaler\n",
    "from sklearn.model_selection import cross_val_score\n"
   ]
  },
  {
   "cell_type": "code",
   "execution_count": 33,
   "metadata": {},
   "outputs": [],
   "source": [
    "def sim_data(n=500, m=7, beta=None, sigma=1, seed=22):\n",
    "    np.random.seed(seed)\n",
    "    \n",
    "    X = np.random.randn(n, m)\n",
    "    \n",
    "    # Define a beta vector with strong and weak signals\n",
    "    if beta is None:\n",
    "        beta = np.zeros(m)\n",
    "        beta[0] = 3.5   # strong positive\n",
    "        beta[2] = -5.0  # strong negative\n",
    "        beta[4] = 0.7   # weak positive\n",
    "        beta[6] = -0.7  # weak negative\n",
    "\n",
    "    # Linear component\n",
    "    linear_term = X @ beta\n",
    "\n",
    "    # Add noise\n",
    "    noise = np.random.normal(0, sigma, n)\n",
    "\n",
    "    # Final output\n",
    "    y = linear_term + noise\n",
    "\n",
    "    return X, y.reshape(-1, 1), beta"
   ]
  },
  {
   "cell_type": "code",
   "execution_count": 34,
   "metadata": {},
   "outputs": [],
   "source": [
    "X, y, beta = sim_data()\n",
    "\n",
    "Xtrain_unscaled, Xtest_unscaled, ytrain, ytest = train_test_split(X, y, test_size = 0.2, random_state = 22)\n",
    "\n",
    "ytrain = ytrain.reshape(-1)\n",
    "ytest = ytest.reshape(-1)\n",
    "\n",
    "m = X.shape[1]"
   ]
  },
  {
   "cell_type": "code",
   "execution_count": 35,
   "metadata": {},
   "outputs": [],
   "source": [
    "# make sure we scale data\n",
    "scaler = StandardScaler()\n",
    "Xtrain = scaler.fit_transform(Xtrain_unscaled)\n",
    "Xtest = scaler.transform(Xtest_unscaled)\n",
    "ytrain = ytrain.reshape(-1,1)\n"
   ]
  },
  {
   "cell_type": "markdown",
   "metadata": {},
   "source": [
    "## GP Params"
   ]
  },
  {
   "cell_type": "code",
   "execution_count": 36,
   "metadata": {},
   "outputs": [],
   "source": [
    "A_init = tf.zeros((m, 1), dtype=tf.float64)\n",
    "b_init = tf.zeros((1,), dtype=tf.float64)\n",
    "\n",
    "kernel = gpf.kernels.SquaredExponential(lengthscales=np.ones(m))\n",
    "likelihood = gpf.likelihoods.Gaussian()\n",
    "mean_function = gpf.functions.Linear(A=A_init, b = b_init) \n",
    "\n",
    "opt = gpf.optimizers.Scipy()"
   ]
  },
  {
   "cell_type": "markdown",
   "metadata": {},
   "source": [
    "## Original GP"
   ]
  },
  {
   "cell_type": "code",
   "execution_count": 37,
   "metadata": {},
   "outputs": [
    {
     "data": {
      "text/plain": [
       "  message: CONVERGENCE: REL_REDUCTION_OF_F_<=_FACTR*EPSMCH\n",
       "  success: True\n",
       "   status: 0\n",
       "      fun: 581.8860653637489\n",
       "        x: [ 9.140e+00  1.127e+01 ... -6.771e-01 -6.535e-02]\n",
       "      nit: 39\n",
       "      jac: [ 3.297e-10  2.966e-10 ... -5.701e-03 -6.891e-04]\n",
       "     nfev: 47\n",
       "     njev: 47\n",
       " hess_inv: <17x17 LbfgsInvHessProduct with dtype=float64>"
      ]
     },
     "execution_count": 37,
     "metadata": {},
     "output_type": "execute_result"
    }
   ],
   "source": [
    "# define initial model\n",
    "og_mod = gpf.models.GPR(\n",
    "    data=(Xtrain, ytrain), \n",
    "    kernel=kernel, \n",
    "    likelihood = likelihood,\n",
    "    mean_function = mean_function\n",
    "    )\n",
    "\n",
    "opt.minimize(og_mod.training_loss, og_mod.trainable_variables)"
   ]
  },
  {
   "cell_type": "markdown",
   "metadata": {},
   "source": [
    "## Alternating Optimization"
   ]
  },
  {
   "cell_type": "code",
   "execution_count": 38,
   "metadata": {},
   "outputs": [],
   "source": [
    "# define initial alternating model\n",
    "alt_mod = gpf.models.GPR(\n",
    "    data=(Xtrain, ytrain), \n",
    "    kernel=kernel, \n",
    "    likelihood = likelihood,\n",
    "    mean_function = mean_function\n",
    "    )"
   ]
  },
  {
   "cell_type": "code",
   "execution_count": 39,
   "metadata": {},
   "outputs": [
    {
     "name": "stdout",
     "output_type": "stream",
     "text": [
      "\n",
      " --- Beginning Iteration 1 --- \n",
      "Lasso Best Alpha: 0.005\n",
      "Lasso Coefficients: [ 3.50246206 -0.00902632 -5.03780693 -0.05565943  0.65500079 -0.07854696\n",
      " -0.67178148]\n",
      "Selected Features: [ True False  True False  True False  True]\n",
      "active dims [0, 2, 4, 6]\n",
      "\n",
      " --- Beginning Iteration 2 --- \n",
      "Lasso Best Alpha: 0.005\n",
      "Lasso Coefficients: [ 3.49948751 -5.03870955  0.65797738 -0.67252924]\n",
      "Selected Features: [ True  True  True  True]\n",
      "active dims [0, 1, 2, 3]\n",
      "\n",
      " --- Beginning Iteration 3 --- \n",
      "Lasso Best Alpha: 0.005\n",
      "Lasso Coefficients: [ 3.49948751 -5.03870955  0.65797738 -0.67252924]\n",
      "Selected Features: [ True  True  True  True]\n",
      "active dims [0, 1, 2, 3]\n",
      "\n",
      " ! Converged on iteration 3 ! \n"
     ]
    }
   ],
   "source": [
    "X_current = Xtrain\n",
    "m = X_current.shape[1]\n",
    "current_kernel = kernel\n",
    "active_dims = list(range(Xtrain.shape[1]))\n",
    "count = 0\n",
    "tol = 1e-6\n",
    "\n",
    "while True:\n",
    "\n",
    "    count += 1\n",
    "\n",
    "    print(f\"\\n --- Beginning Iteration {count} --- \")\n",
    "\n",
    "    alt_las = LassoCV()\n",
    "    alt_las.fit(X_current, ytrain.reshape(-1))\n",
    "    print(f'Lasso Best Alpha: {alt_las.alpha_:.3f}')\n",
    "    print(f'Lasso Coefficients: {alt_las.coef_}')\n",
    "\n",
    "    # Threshold and select features\n",
    "    select_coef = np.abs(alt_las.coef_) >= 0.1\n",
    "    prev_active_dims = active_dims # save old value\n",
    "\n",
    "    active_dims = np.where(select_coef)[0].tolist() # set new value\n",
    "    print(f'Selected Features: {select_coef}')\n",
    "    print('active dims', active_dims)\n",
    "\n",
    "    # Update X_current\n",
    "    X_current = X_current[:, active_dims]\n",
    "\n",
    "    # Update m\n",
    "    m = X_current.shape[1]\n",
    "\n",
    "    # Update kernel\n",
    "    alt_mod.kernel = gpf.kernels.SquaredExponential(\n",
    "        lengthscales = np.ones(len(active_dims)),\n",
    "        active_dims=list(range(m))\n",
    "    )\n",
    "    \n",
    "    # Optimize\n",
    "    prev_A = alt_mod.mean_function.A # store old values\n",
    "    opt.minimize(alt_mod.training_loss, alt_mod.trainable_variables)\n",
    "    current_A = alt_mod.mean_function.A # set new values\n",
    "\n",
    "\n",
    "    if count >= 20:\n",
    "        print('Too Many Iterations')\n",
    "        break\n",
    "\n",
    "    # stop when active dimensions and linear weights stabilize, \n",
    "    if active_dims == prev_active_dims and tf.reduce_max(tf.abs(current_A - prev_A)) < tol:\n",
    "        print(f\"\\n ! Converged on iteration {count} ! \")\n",
    "        break"
   ]
  },
  {
   "cell_type": "code",
   "execution_count": 41,
   "metadata": {},
   "outputs": [
    {
     "data": {
      "text/plain": [
       "<Parameter: name=identity, dtype=float64, shape=[7, 1], fn=\"identity\", numpy=\n",
       "array([[ 3.50164879e+00],\n",
       "       [ 3.20450392e-03],\n",
       "       [-5.04164825e+00],\n",
       "       [-6.83075088e-02],\n",
       "       [ 6.67237398e-01],\n",
       "       [-8.13309070e-02],\n",
       "       [-6.76059616e-01]])>"
      ]
     },
     "execution_count": 41,
     "metadata": {},
     "output_type": "execute_result"
    }
   ],
   "source": [
    "alt_mod.mean_function.A"
   ]
  },
  {
   "cell_type": "markdown",
   "metadata": {},
   "source": [
    "## Comparing Performance"
   ]
  },
  {
   "cell_type": "code",
   "execution_count": 42,
   "metadata": {},
   "outputs": [
    {
     "name": "stdout",
     "output_type": "stream",
     "text": [
      "RMSE Alternating Mod: 0.972\n"
     ]
    }
   ],
   "source": [
    "y_mean_og_mod, y_var_og_mod = og_mod.predict_y(Xtest)\n",
    "rmse = mean_squared_error(ytest, y_mean_og_mod, squared=False)\n",
    "print(f'RMSE Alternating Mod: {rmse:.3f}')"
   ]
  },
  {
   "cell_type": "code",
   "execution_count": 43,
   "metadata": {},
   "outputs": [
    {
     "name": "stdout",
     "output_type": "stream",
     "text": [
      "RMSE Alternating Mod: 0.981\n"
     ]
    }
   ],
   "source": [
    "y_mean_alt_mod, y_var_alt_mod = alt_mod.predict_y(Xtest)\n",
    "rmse = mean_squared_error(ytest, y_mean_alt_mod, squared=False)\n",
    "print(f'RMSE Alternating Mod: {rmse:.3f}')"
   ]
  },
  {
   "cell_type": "code",
   "execution_count": 45,
   "metadata": {},
   "outputs": [
    {
     "data": {
      "text/plain": [
       "<Parameter: name=softplus, dtype=float64, shape=[7], fn=\"softplus\", numpy=\n",
       "array([ 9.14007293, 11.27289865,  9.91632504,  7.06933958, 11.80933738,\n",
       "        5.60697016,  7.19383501])>"
      ]
     },
     "execution_count": 45,
     "metadata": {},
     "output_type": "execute_result"
    }
   ],
   "source": [
    "og_mod.kernel.lengthscales"
   ]
  },
  {
   "cell_type": "code",
   "execution_count": 46,
   "metadata": {},
   "outputs": [
    {
     "data": {
      "text/plain": [
       "<Parameter: name=softplus, dtype=float64, shape=[4], fn=\"softplus\", numpy=array([2.22679813e-01, 8.17813845e+02, 3.63859493e+02, 7.61408766e+02])>"
      ]
     },
     "execution_count": 46,
     "metadata": {},
     "output_type": "execute_result"
    }
   ],
   "source": [
    "alt_mod.kernel.lengthscales"
   ]
  },
  {
   "cell_type": "code",
   "execution_count": 50,
   "metadata": {},
   "outputs": [
    {
     "data": {
      "text/plain": [
       "<Parameter: name=identity, dtype=float64, shape=[7, 1], fn=\"identity\", numpy=\n",
       "array([[ 3.50164879e+00],\n",
       "       [ 3.20450392e-03],\n",
       "       [-5.04164825e+00],\n",
       "       [-6.83075088e-02],\n",
       "       [ 6.67237398e-01],\n",
       "       [-8.13309070e-02],\n",
       "       [-6.76059616e-01]])>"
      ]
     },
     "execution_count": 50,
     "metadata": {},
     "output_type": "execute_result"
    }
   ],
   "source": [
    "og_mod.mean_function.A"
   ]
  },
  {
   "cell_type": "code",
   "execution_count": 48,
   "metadata": {},
   "outputs": [
    {
     "data": {
      "text/plain": [
       "<Parameter: name=identity, dtype=float64, shape=[7, 1], fn=\"identity\", numpy=\n",
       "array([[ 3.50164879e+00],\n",
       "       [ 3.20450392e-03],\n",
       "       [-5.04164825e+00],\n",
       "       [-6.83075088e-02],\n",
       "       [ 6.67237398e-01],\n",
       "       [-8.13309070e-02],\n",
       "       [-6.76059616e-01]])>"
      ]
     },
     "execution_count": 48,
     "metadata": {},
     "output_type": "execute_result"
    }
   ],
   "source": [
    "alt_mod.mean_function.A"
   ]
  }
 ],
 "metadata": {
  "kernelspec": {
   "display_name": "Python 3",
   "language": "python",
   "name": "python3"
  },
  "language_info": {
   "codemirror_mode": {
    "name": "ipython",
    "version": 3
   },
   "file_extension": ".py",
   "mimetype": "text/x-python",
   "name": "python",
   "nbconvert_exporter": "python",
   "pygments_lexer": "ipython3",
   "version": "3.10.6"
  }
 },
 "nbformat": 4,
 "nbformat_minor": 2
}
