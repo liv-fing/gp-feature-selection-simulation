{
 "cells": [
  {
   "cell_type": "markdown",
   "metadata": {},
   "source": [
    "# 8. Multi-Pass Feature Selection and Optimization\n",
    "\n"
   ]
  },
  {
   "cell_type": "markdown",
   "metadata": {},
   "source": [
    "## Math"
   ]
  },
  {
   "cell_type": "markdown",
   "metadata": {},
   "source": [
    "**To simulate data:**\n",
    "\n",
    "We can define our simulation output $y_i$ as follows:\n",
    "\n",
    "$$ y_i = f(x_i) + \\varepsilon(x_i) + \\eta_i $$\n",
    "\n",
    "Where:  \n",
    "- $f(x_i) = x_i^\\top \\beta $ represents the linear mean function  \n",
    "- $\\varepsilon(x_i) \\sim \\mathcal{GP}(0, k(x_i, x_i')) $ represents structured noise from a Gaussian Process  \n",
    "- $ \\eta_i \\sim \\mathcal{N}(0, \\sigma^2) $ represents small independent Gaussian noise"
   ]
  },
  {
   "cell_type": "markdown",
   "metadata": {},
   "source": [
    "**Data simulation in practice:**\n",
    "\n",
    "1. Sample input matrix $X \\in \\mathbb{R}^{n \\times m} $ from a standard normal distribution\n",
    "2. Define the Linear mean function $f(x)$\n",
    "    - Choose a sparse coefficient vector $\\beta \\in \\mathbb{R}^{m}$ \n",
    "    - Compute  $f(x) = X\\beta$\n",
    "3. Generate Structured Noise $\\varepsilon(x)$\n",
    "    - Select subset of features from $X$ as GP input features\n",
    "    - Choose $\\sigma > 0$\n",
    "    - If using a shared lengthscale: \n",
    "        - Choose $\\ell > 0$\n",
    "        - Compute pairwise squared distances between rows of $X_{GP} \\in \\mathbb{R}^{n \\times d}$\n",
    "        - Apply RBF kernel $$K_{ij} = \\sigma^2 \\exp\\left( -\\frac{1}{2} \\left\\| \\frac{x_i - x_j}{\\ell} \\right\\|^2 \\right)$$\n",
    "    - If using separate lengthscales (ARD)\n",
    "        - Choose vector $\\boldsymbol{\\ell} \\in \\mathbb{R}^d$\n",
    "        - Scale each input dimension of $ X_{\\text{gp}} $ by its corresponding lengthscale\n",
    "        - Compute pairwise distances\n",
    "        - Apply ARD RBF kernel $$K_{ij} = \\sigma^2 \\exp\\left( -\\frac{1}{2} \\left\\| \\frac{x_i - x_j}{\\boldsymbol{\\ell}} \\right\\|^2 \\right)$$\n",
    "    - Generate $\\varepsilon \\sim \\mathcal{N}(0, K)$\n",
    "4. Generate independent Gaussian noise\n",
    "    - Sample i.i.d. noise $\\eta \\sim \\mathcal{N}(0, \\sigma_{noise}^2I)$\n",
    "5. Compute the final response $y = f(x) + \\varepsilon + \\eta$\n"
   ]
  },
  {
   "cell_type": "markdown",
   "metadata": {},
   "source": [
    "**Methods Used**\n",
    "\n",
    "0. Standard Gaussian Process\n",
    "    - RBF Kernel using a shared lengthscale for all features\n",
    "1. GPFLow's Automatic Relevance Detection (ARD): \n",
    "    - Uses an RBF kernel with a separate lengthscale for each feature\n",
    "    - Features with large lengthscales can be considered irrelevant\n",
    "2. ARD with Custom Feature Selection Function\n",
    "    - Applies Lasso-based feature selection\n",
    "    - Uses an ARD RBF kernel (separate lengthscales per selected feature)\n",
    "3. No ARD, Custom Feature Selection Function\n",
    "    - Applies Lasso-based feature selection\n",
    "    - Uses an RBF kernel with a shared lengthscale across selected features\n",
    "4. Direct Optimization\n",
    "    - Adds an L1 penalty term directly to the training loss during optimization\n",
    "    - Features with coefficients close to zero can be considered irrelevant"
   ]
  },
  {
   "cell_type": "markdown",
   "metadata": {},
   "source": [
    "**Spoiler**\n",
    "\n",
    "- While direct optimization performs better than plain ARD on very sparse data, the custom method of feature selection consistently outperform the other methods–whether using separate or shared lengthscales with the RBF kernel."
   ]
  },
  {
   "cell_type": "markdown",
   "metadata": {},
   "source": [
    "## Code"
   ]
  },
  {
   "cell_type": "markdown",
   "metadata": {},
   "source": [
    "### Setup"
   ]
  },
  {
   "cell_type": "code",
   "execution_count": 137,
   "metadata": {},
   "outputs": [],
   "source": [
    "# import libraries\n",
    "\n",
    "import pandas as pd\n",
    "import numpy as np\n",
    "import seaborn as sns\n",
    "import matplotlib.pyplot as plt\n",
    "import gpflow as gpf\n",
    "import tensorflow as tf\n",
    "\n",
    "from sklearn.linear_model import LinearRegression, LassoLars\n",
    "from sklearn.metrics.pairwise import euclidean_distances\n",
    "from sklearn.metrics import mean_squared_error, r2_score\n",
    "from sklearn.model_selection import train_test_split\n",
    "from sklearn.preprocessing import StandardScaler"
   ]
  },
  {
   "cell_type": "markdown",
   "metadata": {},
   "source": [
    "### Simulating Sparse Data"
   ]
  },
  {
   "cell_type": "code",
   "execution_count": 138,
   "metadata": {},
   "outputs": [],
   "source": [
    "def sim_sparse_lin_mean(n = 100, m = 20, seed = 22, same_lengthscales = False):\n",
    "\n",
    "    np.random.seed(seed)\n",
    "\n",
    "    X = np.random.randn(n,m)\n",
    "\n",
    "    # linear mean\n",
    "    beta = np.zeros(m)\n",
    "    beta[3] = 7.3\n",
    "    beta[5] = 0.5\n",
    "    beta[7] = -2.0\n",
    "    beta[11] = 1.1\n",
    "    beta[12] = -0.8\n",
    "    lin_mean = X @ beta\n",
    "\n",
    "    # GP kernel input features\n",
    "    gp_features = [3, 7, 11]\n",
    "    X_gp = X[:, gp_features]\n",
    "    sigma = 0.7\n",
    "\n",
    "    if same_lengthscales:\n",
    "        lengthscales = 2.1\n",
    "        dists = euclidean_distances(X_gp, X_gp) ** 2\n",
    "        K = sigma**2 * np.exp(-dists / (2 * lengthscales**2))\n",
    "\n",
    "    \n",
    "    else: # ard rbf kernel\n",
    "        lengthscales = np.array([0.1, 0.8, 0.5])\n",
    "        X_gp_scaled = X_gp / lengthscales\n",
    "        sq_norms = np.sum(X_gp_scaled**2, axis=1).reshape(-1, 1)\n",
    "        dists = sq_norms + sq_norms.T - 2 * (X_gp_scaled @ X_gp_scaled.T)\n",
    "        K = sigma**2 * np.exp(-0.5 * dists)\n",
    "\n",
    "    # gaussian process noise\n",
    "    gp_noise = np.random.multivariate_normal(mean = np.zeros(n), cov = K)\n",
    "\n",
    "    # iid normal noise\n",
    "    eta = np.random.normal(0, 0.05, size = n)\n",
    "\n",
    "    # combined\n",
    "    y = lin_mean + gp_noise + eta\n",
    "\n",
    "    return X, y, beta, lengthscales\n"
   ]
  },
  {
   "cell_type": "markdown",
   "metadata": {},
   "source": [
    "### Main Function"
   ]
  },
  {
   "cell_type": "code",
   "execution_count": 139,
   "metadata": {},
   "outputs": [],
   "source": [
    "def l1_feat_select (model, X, y, init_kernel, shared_lengthscale = 0, penalty_strength = 0.1, max_iter = 10, verbose = 1):\n",
    "    \"\"\" \n",
    "    Multi-pass optimization using Lasso-based feature selection and Gaussian Process optimization.\n",
    "\n",
    "    Runs an iterative loop that uses LassoCV to select relevant input features, then updates the kernel of GP model to use only those features. \n",
    "    The loop stops when feature selection and mean function coefficients converge, or when the maximum number of iterations is reached\n",
    "\n",
    "    Parameters:\n",
    "    ----------\n",
    "        model: gpflow.models.GPR\n",
    "            The GP model to optimize. \n",
    "        X: tf.Tensor or np.ndarray\n",
    "            Input features\n",
    "        y: tf.Tensor or np.ndarray\n",
    "            Target values\n",
    "        init_kernel: gpflow.kernels.Kernel\n",
    "            The initial GP kernel\n",
    "        shared_lengthscale: bool, optional\n",
    "            If true, all features will share one lengthscale. Default is 0. \n",
    "        penalty_strength: float, optional\n",
    "            Strength of L1 penalty term. Default is 0.1. Must be positive.\n",
    "        max_iter: int, optional\n",
    "            Maximum number of alternating iterations. Default is 10\n",
    "        verbose: bool, optional\n",
    "            Will show output. Default is 1\n",
    "\n",
    "    Returns:\n",
    "    -------\n",
    "        model: gpflow.models.GPR\n",
    "            The optimized GP model\n",
    "        selected_feats: \n",
    "            Indices of selected features\n",
    "    \n",
    "    \"\"\"\n",
    "\n",
    "    X_current = X\n",
    "    m = X_current.shape[1]\n",
    "    current_kernel = init_kernel\n",
    "    active_dims = list(range(X.shape[1]))\n",
    "    count = 0\n",
    "    tol = 1e-6\n",
    "\n",
    "    selected_feats = None\n",
    "\n",
    "    while True:\n",
    "\n",
    "        count += 1\n",
    "\n",
    "        alt_las = LassoLars(alpha = penalty_strength, random_state = 22)\n",
    "        alt_las.fit(X_current, y.reshape(-1))\n",
    "\n",
    "        # Store old values\n",
    "        prev_A = model.mean_function.A \n",
    "        prev_b = model.mean_function.b\n",
    "        \n",
    "        if verbose:\n",
    "            print(f\"\\n --- Beginning Iteration {count} --- \")\n",
    "            print(f'Lasso Coefficients: {alt_las.coef_}')\n",
    "\n",
    "\n",
    "        # Select features\n",
    "        select_mask = np.abs(alt_las.coef_) > 0.0\n",
    "        if not np.any(select_mask):\n",
    "            if verbose:\n",
    "                print(f\"No features selected. Skipping.\")\n",
    "            return model, selected_feats\n",
    "\n",
    "\n",
    "        prev_active_dims = active_dims # save old value\n",
    "        active_dims = np.where(select_mask)[0].tolist() # set new value for active dimensions\n",
    "\n",
    "        if selected_feats == None:\n",
    "            selected_feats = active_dims.copy()\n",
    "        if verbose:\n",
    "            print(f'Selected Features: {select_mask}')\n",
    "            print('active dims', active_dims)\n",
    "\n",
    "        # Update\n",
    "        m = X_current.shape[1]\n",
    "        new_A = alt_las.coef_[select_mask].reshape(-1,1)\n",
    "\n",
    "        X_current = X_current[:, active_dims]\n",
    "        model.data = (X_current, y)\n",
    "        new_active_dims = list(range(X_current.shape[1])) # because indices change\n",
    "\n",
    "        if shared_lengthscale:\n",
    "            model.kernel = gpf.kernels.SquaredExponential(\n",
    "                lengthscales = 1,\n",
    "                active_dims=new_active_dims\n",
    "            )\n",
    "        else:\n",
    "            model.kernel = gpf.kernels.SquaredExponential(\n",
    "                lengthscales = np.ones(len(new_active_dims)),\n",
    "                active_dims=new_active_dims\n",
    "            )\n",
    "\n",
    "        model.mean_function = gpf.functions.Linear(A=new_A, b = prev_b) # where is beta 0?\n",
    "\n",
    "        # Use Lasso coefficients, don't optimize\n",
    "        gpf.set_trainable(model.mean_function.A, False)\n",
    "        gpf.set_trainable(model.mean_function.b, False)\n",
    "\n",
    "        # Optimize kernel parameters\n",
    "        opt = gpf.optimizers.Scipy()\n",
    "        opt.minimize(model.training_loss, model.trainable_variables)\n",
    "\n",
    "        if count >= max_iter:\n",
    "            print('Too Many Iterations')\n",
    "            break\n",
    "\n",
    "        # stop when active dimensions and linear weights stabilize, \n",
    "        if active_dims == prev_active_dims and tf.reduce_max(tf.abs(new_A - prev_A)) < tol:\n",
    "            if verbose:\n",
    "                print(f\"\\n ! Converged ! \")\n",
    "            break\n",
    "\n",
    "    return model, selected_feats"
   ]
  },
  {
   "cell_type": "markdown",
   "metadata": {},
   "source": [
    "### Data"
   ]
  },
  {
   "cell_type": "code",
   "execution_count": 140,
   "metadata": {},
   "outputs": [],
   "source": [
    "X, y, beta_star, lengthscales = sim_sparse_lin_mean(n = 200, m = 50, seed = 22, same_lengthscales = False)\n",
    "\n",
    "Xtrain_unscaled, Xtest_unscaled, ytrain, ytest = train_test_split(X, y, test_size = 0.2, random_state = 22)\n",
    "\n",
    "scaler = StandardScaler()\n",
    "Xtrain = scaler.fit_transform(Xtrain_unscaled)\n",
    "Xtest = scaler.transform(Xtest_unscaled)\n",
    "ytrain = ytrain.reshape(-1,1)\n",
    "ytest = ytest.reshape(-1,1)\n",
    "m = Xtrain.shape[1]"
   ]
  },
  {
   "cell_type": "markdown",
   "metadata": {},
   "source": [
    "### 0. GP - shared lengthscale"
   ]
  },
  {
   "cell_type": "code",
   "execution_count": 141,
   "metadata": {},
   "outputs": [],
   "source": [
    "A_init = tf.zeros((m, 1), dtype=tf.float64)\n",
    "b_init = tf.zeros((1,), dtype=tf.float64)\n",
    "\n",
    "kernel = gpf.kernels.SquaredExponential(lengthscales=1)\n",
    "likelihood = gpf.likelihoods.Gaussian()\n",
    "mean_function = gpf.functions.Linear(A=A_init, b = b_init) \n",
    "\n",
    "opt = gpf.optimizers.Scipy()"
   ]
  },
  {
   "cell_type": "code",
   "execution_count": 142,
   "metadata": {},
   "outputs": [
    {
     "data": {
      "text/plain": [
       "  message: CONVERGENCE: REL_REDUCTION_OF_F_<=_FACTR*EPSMCH\n",
       "  success: True\n",
       "   status: 0\n",
       "      fun: 131.84816079019163\n",
       "        x: [ 5.413e-01 -1.806e+00 ... -1.176e-01 -1.289e-01]\n",
       "      nit: 32\n",
       "      jac: [-1.215e-09 -3.595e-04 ...  7.140e-04 -1.652e-05]\n",
       "     nfev: 40\n",
       "     njev: 40\n",
       " hess_inv: <54x54 LbfgsInvHessProduct with dtype=float64>"
      ]
     },
     "execution_count": 142,
     "metadata": {},
     "output_type": "execute_result"
    }
   ],
   "source": [
    "mod0 = gpf.models.GPR(\n",
    "    data=(Xtrain, ytrain), \n",
    "    kernel=kernel, \n",
    "    likelihood = likelihood,\n",
    "    mean_function = mean_function\n",
    "    )\n",
    "\n",
    "opt = gpf.optimizers.Scipy()\n",
    "opt.minimize(mod0.training_loss, mod0.trainable_variables)"
   ]
  },
  {
   "cell_type": "code",
   "execution_count": 143,
   "metadata": {},
   "outputs": [
    {
     "name": "stdout",
     "output_type": "stream",
     "text": [
      "RMSE Model 1: 0.890\n"
     ]
    }
   ],
   "source": [
    "y_pred0, y_var0 = mod0.predict_y(Xtest)\n",
    "rmse0 = mean_squared_error(ytest, y_pred0, squared=False)\n",
    "print(f'RMSE Model 1: {rmse0:.3f}')"
   ]
  },
  {
   "cell_type": "code",
   "execution_count": 144,
   "metadata": {},
   "outputs": [
    {
     "data": {
      "text/html": [
       "&lt;gpflow.models.gpr.GPR object at 0x3f3766320&gt;\n",
       "<table>\n",
       "<thead>\n",
       "<tr><th>name                   </th><th>class    </th><th>transform       </th><th>prior  </th><th>trainable  </th><th>shape  </th><th>dtype  </th><th>value              </th></tr>\n",
       "</thead>\n",
       "<tbody>\n",
       "<tr><td>GPR.mean_function.A    </td><td>Parameter</td><td>Identity        </td><td>       </td><td>True       </td><td>(50, 1)</td><td>float64</td><td>[[3.49325683e-02...</td></tr>\n",
       "<tr><td>GPR.mean_function.b    </td><td>Parameter</td><td>Identity        </td><td>       </td><td>True       </td><td>(1,)   </td><td>float64</td><td>[-0.12893544]      </td></tr>\n",
       "<tr><td>GPR.kernel.variance    </td><td>Parameter</td><td>Softplus        </td><td>       </td><td>True       </td><td>()     </td><td>float64</td><td>0.15214305139612805</td></tr>\n",
       "<tr><td>GPR.kernel.lengthscales</td><td>Parameter</td><td>Softplus        </td><td>       </td><td>True       </td><td>()     </td><td>float64</td><td>1.0                </td></tr>\n",
       "<tr><td>GPR.likelihood.variance</td><td>Parameter</td><td>Softplus + Shift</td><td>       </td><td>True       </td><td>()     </td><td>float64</td><td>0.15214370517233672</td></tr>\n",
       "</tbody>\n",
       "</table>"
      ],
      "text/plain": [
       "<gpflow.models.gpr.GPR object at 0x3f3766320>\n",
       "╒═════════════════════════╤═══════════╤══════════════════╤═════════╤═════════════╤═════════╤═════════╤═════════════════════╕\n",
       "│ name                    │ class     │ transform        │ prior   │ trainable   │ shape   │ dtype   │ value               │\n",
       "╞═════════════════════════╪═══════════╪══════════════════╪═════════╪═════════════╪═════════╪═════════╪═════════════════════╡\n",
       "│ GPR.mean_function.A     │ Parameter │ Identity         │         │ True        │ (50, 1) │ float64 │ [[3.49325683e-02... │\n",
       "├─────────────────────────┼───────────┼──────────────────┼─────────┼─────────────┼─────────┼─────────┼─────────────────────┤\n",
       "│ GPR.mean_function.b     │ Parameter │ Identity         │         │ True        │ (1,)    │ float64 │ [-0.12893544]       │\n",
       "├─────────────────────────┼───────────┼──────────────────┼─────────┼─────────────┼─────────┼─────────┼─────────────────────┤\n",
       "│ GPR.kernel.variance     │ Parameter │ Softplus         │         │ True        │ ()      │ float64 │ 0.15214305139612805 │\n",
       "├─────────────────────────┼───────────┼──────────────────┼─────────┼─────────────┼─────────┼─────────┼─────────────────────┤\n",
       "│ GPR.kernel.lengthscales │ Parameter │ Softplus         │         │ True        │ ()      │ float64 │ 1.0                 │\n",
       "├─────────────────────────┼───────────┼──────────────────┼─────────┼─────────────┼─────────┼─────────┼─────────────────────┤\n",
       "│ GPR.likelihood.variance │ Parameter │ Softplus + Shift │         │ True        │ ()      │ float64 │ 0.15214370517233672 │\n",
       "╘═════════════════════════╧═══════════╧══════════════════╧═════════╧═════════════╧═════════╧═════════╧═════════════════════╛"
      ]
     },
     "execution_count": 144,
     "metadata": {},
     "output_type": "execute_result"
    }
   ],
   "source": [
    "mod0"
   ]
  },
  {
   "cell_type": "markdown",
   "metadata": {},
   "source": [
    "### 1. GPFlow's Automatic Relevance Detection - allowing separate lengthscales"
   ]
  },
  {
   "cell_type": "code",
   "execution_count": 145,
   "metadata": {},
   "outputs": [],
   "source": [
    "A_init = tf.zeros((m, 1), dtype=tf.float64)\n",
    "b_init = tf.zeros((1,), dtype=tf.float64)\n",
    "\n",
    "kernel = gpf.kernels.SquaredExponential(lengthscales=np.ones(m))\n",
    "likelihood = gpf.likelihoods.Gaussian()\n",
    "mean_function = gpf.functions.Linear(A=A_init, b = b_init) \n",
    "\n",
    "opt = gpf.optimizers.Scipy()"
   ]
  },
  {
   "cell_type": "code",
   "execution_count": 146,
   "metadata": {},
   "outputs": [
    {
     "data": {
      "text/plain": [
       "  message: CONVERGENCE: REL_REDUCTION_OF_F_<=_FACTR*EPSMCH\n",
       "  success: True\n",
       "   status: 0\n",
       "      fun: 131.84816079019177\n",
       "        x: [ 5.413e-01  5.413e-01 ... -1.176e-01 -1.289e-01]\n",
       "      nit: 32\n",
       "      jac: [ 6.349e-12  3.116e-11 ...  7.140e-04 -1.652e-05]\n",
       "     nfev: 40\n",
       "     njev: 40\n",
       " hess_inv: <103x103 LbfgsInvHessProduct with dtype=float64>"
      ]
     },
     "execution_count": 146,
     "metadata": {},
     "output_type": "execute_result"
    }
   ],
   "source": [
    "mod1 = gpf.models.GPR(\n",
    "    data=(Xtrain, ytrain), \n",
    "    kernel=kernel, \n",
    "    likelihood = likelihood,\n",
    "    mean_function = mean_function\n",
    "    )\n",
    "\n",
    "opt = gpf.optimizers.Scipy()\n",
    "opt.minimize(mod1.training_loss, mod1.trainable_variables)"
   ]
  },
  {
   "cell_type": "code",
   "execution_count": 147,
   "metadata": {},
   "outputs": [
    {
     "data": {
      "text/plain": [
       "<Parameter: name=softplus, dtype=float64, shape=[50], fn=\"softplus\", numpy=\n",
       "array([1., 1., 1., 1., 1., 1., 1., 1., 1., 1., 1., 1., 1., 1., 1., 1., 1.,\n",
       "       1., 1., 1., 1., 1., 1., 1., 1., 1., 1., 1., 1., 1., 1., 1., 1., 1.,\n",
       "       1., 1., 1., 1., 1., 1., 1., 1., 1., 1., 1., 1., 1., 1., 1., 1.])>"
      ]
     },
     "execution_count": 147,
     "metadata": {},
     "output_type": "execute_result"
    }
   ],
   "source": [
    "mod1.kernel.lengthscales"
   ]
  },
  {
   "cell_type": "code",
   "execution_count": 148,
   "metadata": {},
   "outputs": [
    {
     "name": "stdout",
     "output_type": "stream",
     "text": [
      "RMSE Model 1: 0.890\n"
     ]
    }
   ],
   "source": [
    "y_pred1, y_var1 = mod1.predict_y(Xtest)\n",
    "rmse1 = mean_squared_error(ytest, y_pred1, squared=False)\n",
    "print(f'RMSE Model 1: {rmse1:.3f}')"
   ]
  },
  {
   "cell_type": "markdown",
   "metadata": {},
   "source": [
    "### 2. ARD + Selecting Active Dimensions - separate lengthscales, selecting features"
   ]
  },
  {
   "cell_type": "code",
   "execution_count": 149,
   "metadata": {},
   "outputs": [],
   "source": [
    "A_init = tf.zeros((m, 1), dtype=tf.float64)\n",
    "b_init = tf.zeros((1,), dtype=tf.float64)\n",
    "\n",
    "kernel = gpf.kernels.SquaredExponential(lengthscales=np.ones(m))\n",
    "likelihood = gpf.likelihoods.Gaussian()\n",
    "mean_function = gpf.functions.Linear(A=A_init, b = b_init) \n",
    "\n",
    "opt = gpf.optimizers.Scipy()"
   ]
  },
  {
   "cell_type": "code",
   "execution_count": 150,
   "metadata": {},
   "outputs": [
    {
     "name": "stdout",
     "output_type": "stream",
     "text": [
      "\n",
      " --- Beginning Iteration 1 --- \n",
      "Lasso Coefficients: [ 0.          0.          0.          7.32766285  0.          0.28506011\n",
      "  0.         -1.67190249  0.          0.          0.          0.59688004\n",
      " -0.68435326 -0.03689568  0.          0.          0.          0.\n",
      "  0.          0.          0.          0.          0.          0.\n",
      "  0.          0.          0.          0.          0.          0.\n",
      "  0.          0.          0.          0.          0.          0.\n",
      "  0.          0.          0.          0.          0.          0.\n",
      "  0.          0.          0.          0.          0.          0.\n",
      "  0.          0.        ]\n",
      "Selected Features: [False False False  True False  True False  True False False False  True\n",
      "  True  True False False False False False False False False False False\n",
      " False False False False False False False False False False False False\n",
      " False False False False False False False False False False False False\n",
      " False False]\n",
      "active dims [3, 5, 7, 11, 12, 13]\n",
      "\n",
      " --- Beginning Iteration 2 --- \n",
      "Lasso Coefficients: [ 7.32766285  0.28506011 -1.67190249  0.59688004 -0.68435326 -0.03689568]\n",
      "Selected Features: [ True  True  True  True  True  True]\n",
      "active dims [0, 1, 2, 3, 4, 5]\n",
      "\n",
      " --- Beginning Iteration 3 --- \n",
      "Lasso Coefficients: [ 7.32766285  0.28506011 -1.67190249  0.59688004 -0.68435326 -0.03689568]\n",
      "Selected Features: [ True  True  True  True  True  True]\n",
      "active dims [0, 1, 2, 3, 4, 5]\n",
      "\n",
      " ! Converged ! \n"
     ]
    }
   ],
   "source": [
    "mod2 = gpf.models.GPR(\n",
    "    data=(Xtrain, ytrain), \n",
    "    kernel=kernel, \n",
    "    likelihood = likelihood,\n",
    "    mean_function = mean_function\n",
    "    )\n",
    "\n",
    "mod2, selected_feats2 = l1_feat_select(\n",
    "    model = mod2, \n",
    "    X = Xtrain, \n",
    "    y = ytrain, \n",
    "    init_kernel = gpf.kernels.SquaredExponential(\n",
    "        lengthscales=np.ones(m)), \n",
    "    penalty_strength = 0.2)"
   ]
  },
  {
   "cell_type": "code",
   "execution_count": 151,
   "metadata": {},
   "outputs": [
    {
     "name": "stdout",
     "output_type": "stream",
     "text": [
      "RMSE Model 2: 0.774\n"
     ]
    }
   ],
   "source": [
    "y_pred2, y_var2 = mod2.predict_y(Xtest[:,selected_feats2])\n",
    "rmse2 = mean_squared_error(ytest, y_pred2, squared=False)\n",
    "print(f'RMSE Model 2: {rmse2:.3f}')"
   ]
  },
  {
   "cell_type": "markdown",
   "metadata": {},
   "source": [
    "#### 2b. Testing Against Different Lambda Values"
   ]
  },
  {
   "cell_type": "code",
   "execution_count": 152,
   "metadata": {},
   "outputs": [],
   "source": [
    "rmse_vals_2b = []\n",
    "lbda_vals_2b = []\n",
    "\n",
    "\n",
    "for lbda in np.logspace(-2, 2, 40):\n",
    "    A_init = tf.zeros((m, 1), dtype=tf.float64)\n",
    "    b_init = tf.zeros((1,), dtype=tf.float64)\n",
    "\n",
    "    kernel = gpf.kernels.SquaredExponential(lengthscales = np.ones(m))\n",
    "    likelihood = gpf.likelihoods.Gaussian()\n",
    "    mean_function = gpf.functions.Linear(A=A_init, b = b_init) \n",
    "\n",
    "    opt = gpf.optimizers.Scipy()\n",
    "\n",
    "    mod2b = gpf.models.GPR(\n",
    "        data=(Xtrain, ytrain), \n",
    "        kernel=kernel, \n",
    "        likelihood = likelihood,\n",
    "        mean_function = mean_function\n",
    "        )\n",
    "    \n",
    "    mod2b, selected_feats2b = l1_feat_select(\n",
    "        model = mod2b, \n",
    "        X = Xtrain, \n",
    "        y = ytrain, \n",
    "        init_kernel = gpf.kernels.SquaredExponential(\n",
    "            lengthscales=np.ones(m)), \n",
    "        penalty_strength = lbda,\n",
    "        verbose=0)\n",
    "    \n",
    "    y_pred, y_var = mod2b.predict_y(Xtest[:, selected_feats2b])\n",
    "    y_pred = np.squeeze(y_pred) # remove weirdness with dimensions when nothing is chosen\n",
    "    y_var = np.squeeze(y_var)\n",
    "    rmse = mean_squared_error(ytest, y_pred, squared=False)\n",
    "\n",
    "    rmse_vals_2b.append(rmse)\n",
    "    lbda_vals_2b.append(lbda)"
   ]
  },
  {
   "cell_type": "code",
   "execution_count": 153,
   "metadata": {},
   "outputs": [
    {
     "data": {
      "image/png": "[encoded data removed]",
      "text/plain": [
       "<Figure size 640x480 with 1 Axes>"
      ]
     },
     "metadata": {},
     "output_type": "display_data"
    }
   ],
   "source": [
    "plt.scatter(lbda_vals_2b, rmse_vals_2b)\n",
    "plt.title('RMSE by Lambda Value for ARD + Selective Active Dimensions')\n",
    "plt.ylabel('RMSE')\n",
    "plt.xlabel('Lambda Value')\n",
    "plt.show()"
   ]
  },
  {
   "cell_type": "code",
   "execution_count": 154,
   "metadata": {},
   "outputs": [
    {
     "name": "stdout",
     "output_type": "stream",
     "text": [
      "Lowest RMSE: 0.608\n",
      "Best Lambda: 0.066\n"
     ]
    }
   ],
   "source": [
    "rmse2b = np.min(rmse_vals_2b)\n",
    "lbda2b = lbda_vals_2b[np.argmin(rmse_vals_2b)]\n",
    "\n",
    "print(f'Lowest RMSE: {rmse2b:.3f}')\n",
    "print(f'Best Lambda: {lbda2b:.3f}')"
   ]
  },
  {
   "cell_type": "markdown",
   "metadata": {},
   "source": [
    "### 3. No ARD + Selecting Active Dimensions - shared lengthscale, selecting features"
   ]
  },
  {
   "cell_type": "code",
   "execution_count": 155,
   "metadata": {},
   "outputs": [],
   "source": [
    "A_init = tf.zeros((m, 1), dtype=tf.float64)\n",
    "b_init = tf.zeros((1,), dtype=tf.float64)\n",
    "\n",
    "kernel = gpf.kernels.SquaredExponential()\n",
    "likelihood = gpf.likelihoods.Gaussian()\n",
    "mean_function = gpf.functions.Linear(A=A_init, b = b_init) \n",
    "\n",
    "opt = gpf.optimizers.Scipy()"
   ]
  },
  {
   "cell_type": "code",
   "execution_count": 156,
   "metadata": {},
   "outputs": [
    {
     "name": "stdout",
     "output_type": "stream",
     "text": [
      "\n",
      " --- Beginning Iteration 1 --- \n",
      "Lasso Coefficients: [ 0.          0.          0.          7.32766285  0.          0.28506011\n",
      "  0.         -1.67190249  0.          0.          0.          0.59688004\n",
      " -0.68435326 -0.03689568  0.          0.          0.          0.\n",
      "  0.          0.          0.          0.          0.          0.\n",
      "  0.          0.          0.          0.          0.          0.\n",
      "  0.          0.          0.          0.          0.          0.\n",
      "  0.          0.          0.          0.          0.          0.\n",
      "  0.          0.          0.          0.          0.          0.\n",
      "  0.          0.        ]\n",
      "Selected Features: [False False False  True False  True False  True False False False  True\n",
      "  True  True False False False False False False False False False False\n",
      " False False False False False False False False False False False False\n",
      " False False False False False False False False False False False False\n",
      " False False]\n",
      "active dims [3, 5, 7, 11, 12, 13]\n",
      "\n",
      " --- Beginning Iteration 2 --- \n",
      "Lasso Coefficients: [ 7.32766285  0.28506011 -1.67190249  0.59688004 -0.68435326 -0.03689568]\n",
      "Selected Features: [ True  True  True  True  True  True]\n",
      "active dims [0, 1, 2, 3, 4, 5]\n",
      "\n",
      " --- Beginning Iteration 3 --- \n",
      "Lasso Coefficients: [ 7.32766285  0.28506011 -1.67190249  0.59688004 -0.68435326 -0.03689568]\n",
      "Selected Features: [ True  True  True  True  True  True]\n",
      "active dims [0, 1, 2, 3, 4, 5]\n",
      "\n",
      " ! Converged ! \n"
     ]
    }
   ],
   "source": [
    "mod3 = gpf.models.GPR(\n",
    "    data=(Xtrain, ytrain), \n",
    "    kernel=kernel, \n",
    "    likelihood = likelihood,\n",
    "    mean_function = mean_function\n",
    "    )\n",
    "\n",
    "mod3, selected_feats3 = l1_feat_select(\n",
    "    model = mod3, \n",
    "    X = Xtrain, \n",
    "    y = ytrain, \n",
    "    init_kernel = gpf.kernels.SquaredExponential(),\n",
    "    shared_lengthscale=True,\n",
    "    penalty_strength = 0.2)"
   ]
  },
  {
   "cell_type": "code",
   "execution_count": 157,
   "metadata": {},
   "outputs": [
    {
     "data": {
      "text/html": [
       "&lt;gpflow.models.gpr.GPR object at 0x40701cfa0&gt;\n",
       "<table>\n",
       "<thead>\n",
       "<tr><th>name                   </th><th>class    </th><th>transform       </th><th>prior  </th><th>trainable  </th><th>shape  </th><th>dtype  </th><th>value             </th></tr>\n",
       "</thead>\n",
       "<tbody>\n",
       "<tr><td>GPR.mean_function.A    </td><td>Parameter</td><td>Identity        </td><td>       </td><td>False      </td><td>(6, 1) </td><td>float64</td><td>[[7.32766...      </td></tr>\n",
       "<tr><td>GPR.mean_function.b    </td><td>Parameter</td><td>Identity        </td><td>       </td><td>False      </td><td>(1,)   </td><td>float64</td><td>[0.]              </td></tr>\n",
       "<tr><td>GPR.kernel.variance    </td><td>Parameter</td><td>Softplus        </td><td>       </td><td>True       </td><td>()     </td><td>float64</td><td>0.3933596480370326</td></tr>\n",
       "<tr><td>GPR.kernel.lengthscales</td><td>Parameter</td><td>Softplus        </td><td>       </td><td>True       </td><td>()     </td><td>float64</td><td>3.48877           </td></tr>\n",
       "<tr><td>GPR.likelihood.variance</td><td>Parameter</td><td>Softplus + Shift</td><td>       </td><td>True       </td><td>()     </td><td>float64</td><td>0.4106802647409511</td></tr>\n",
       "</tbody>\n",
       "</table>"
      ],
      "text/plain": [
       "<gpflow.models.gpr.GPR object at 0x40701cfa0>\n",
       "╒═════════════════════════╤═══════════╤══════════════════╤═════════╤═════════════╤═════════╤═════════╤════════════════════╕\n",
       "│ name                    │ class     │ transform        │ prior   │ trainable   │ shape   │ dtype   │ value              │\n",
       "╞═════════════════════════╪═══════════╪══════════════════╪═════════╪═════════════╪═════════╪═════════╪════════════════════╡\n",
       "│ GPR.mean_function.A     │ Parameter │ Identity         │         │ False       │ (6, 1)  │ float64 │ [[7.32766...       │\n",
       "├─────────────────────────┼───────────┼──────────────────┼─────────┼─────────────┼─────────┼─────────┼────────────────────┤\n",
       "│ GPR.mean_function.b     │ Parameter │ Identity         │         │ False       │ (1,)    │ float64 │ [0.]               │\n",
       "├─────────────────────────┼───────────┼──────────────────┼─────────┼─────────────┼─────────┼─────────┼────────────────────┤\n",
       "│ GPR.kernel.variance     │ Parameter │ Softplus         │         │ True        │ ()      │ float64 │ 0.3933596480370326 │\n",
       "├─────────────────────────┼───────────┼──────────────────┼─────────┼─────────────┼─────────┼─────────┼────────────────────┤\n",
       "│ GPR.kernel.lengthscales │ Parameter │ Softplus         │         │ True        │ ()      │ float64 │ 3.48877            │\n",
       "├─────────────────────────┼───────────┼──────────────────┼─────────┼─────────────┼─────────┼─────────┼────────────────────┤\n",
       "│ GPR.likelihood.variance │ Parameter │ Softplus + Shift │         │ True        │ ()      │ float64 │ 0.4106802647409511 │\n",
       "╘═════════════════════════╧═══════════╧══════════════════╧═════════╧═════════════╧═════════╧═════════╧════════════════════╛"
      ]
     },
     "execution_count": 157,
     "metadata": {},
     "output_type": "execute_result"
    }
   ],
   "source": [
    "mod3"
   ]
  },
  {
   "cell_type": "code",
   "execution_count": 158,
   "metadata": {},
   "outputs": [
    {
     "name": "stdout",
     "output_type": "stream",
     "text": [
      "RMSE Model 3: 0.786\n"
     ]
    }
   ],
   "source": [
    "y_pred3, y_var3 = mod3.predict_y(Xtest[:,selected_feats3])\n",
    "rmse3 = mean_squared_error(ytest, y_pred3, squared=False)\n",
    "print(f'RMSE Model 3: {rmse3:.3f}')"
   ]
  },
  {
   "cell_type": "markdown",
   "metadata": {},
   "source": [
    "#### 3b. Testing Against Different Lambda Values - shared lengthscale, selecting features"
   ]
  },
  {
   "cell_type": "code",
   "execution_count": 159,
   "metadata": {},
   "outputs": [],
   "source": [
    "rmse_vals_3b = []\n",
    "lbda_vals_3b = []\n",
    "\n",
    "\n",
    "for lbda in np.logspace(-2, 2, 40):\n",
    "\n",
    "    A_init = tf.zeros((m, 1), dtype=tf.float64)\n",
    "    b_init = tf.zeros((1,), dtype=tf.float64)\n",
    "\n",
    "    kernel = gpf.kernels.SquaredExponential()\n",
    "    likelihood = gpf.likelihoods.Gaussian()\n",
    "    mean_function = gpf.functions.Linear(A=A_init, b = b_init) \n",
    "\n",
    "    opt = gpf.optimizers.Scipy()\n",
    "\n",
    "    mod3b = gpf.models.GPR(\n",
    "        data=(Xtrain, ytrain), \n",
    "        kernel=kernel, \n",
    "        likelihood = likelihood,\n",
    "        mean_function = mean_function\n",
    "        )\n",
    "    \n",
    "    mod3b, selected_feats3b = l1_feat_select(\n",
    "        model = mod3b, \n",
    "        X = Xtrain, \n",
    "        y = ytrain, \n",
    "        init_kernel = gpf.kernels.SquaredExponential(), \n",
    "        shared_lengthscale=True,\n",
    "        penalty_strength = lbda,\n",
    "        verbose=0)\n",
    "    \n",
    "    y_pred, y_var = mod3b.predict_y(Xtest[:, selected_feats3b])\n",
    "    y_pred = np.squeeze(y_pred) # remove weirdness with dimensions when nothing is chosen\n",
    "    y_var = np.squeeze(y_var)\n",
    "    rmse = mean_squared_error(ytest, y_pred, squared=False)\n",
    "\n",
    "    rmse_vals_3b.append(rmse)\n",
    "    lbda_vals_3b.append(lbda)"
   ]
  },
  {
   "cell_type": "code",
   "execution_count": 160,
   "metadata": {},
   "outputs": [
    {
     "data": {
      "image/png": "[encoded data removed]",
      "text/plain": [
       "<Figure size 640x480 with 1 Axes>"
      ]
     },
     "metadata": {},
     "output_type": "display_data"
    }
   ],
   "source": [
    "plt.scatter(lbda_vals_3b, rmse_vals_3b)\n",
    "plt.title('RMSE by Lambda Value for No ARD + Selective Active Dimensions')\n",
    "plt.ylabel('RMSE')\n",
    "plt.xlabel('Lambda Value')\n",
    "plt.show()"
   ]
  },
  {
   "cell_type": "code",
   "execution_count": 161,
   "metadata": {},
   "outputs": [
    {
     "name": "stdout",
     "output_type": "stream",
     "text": [
      "Lowest RMSE: 0.784\n",
      "Best Lambda: 0.215\n"
     ]
    }
   ],
   "source": [
    "rmse3b = np.min(rmse_vals_3b)\n",
    "lbda3b = lbda_vals_3b[np.argmin(rmse_vals_3b)]\n",
    "\n",
    "print(f'Lowest RMSE: {rmse3b:.3f}')\n",
    "print(f'Best Lambda: {lbda3b:.3f}')"
   ]
  },
  {
   "cell_type": "markdown",
   "metadata": {},
   "source": [
    "### 4. Optimizing Directly - separate lengthscales"
   ]
  },
  {
   "cell_type": "code",
   "execution_count": 162,
   "metadata": {},
   "outputs": [],
   "source": [
    "A_init = tf.zeros((m, 1), dtype=tf.float64)\n",
    "b_init = tf.zeros((1,), dtype=tf.float64)\n",
    "\n",
    "kernel = gpf.kernels.SquaredExponential(lengthscales = np.ones(m))\n",
    "likelihood = gpf.likelihoods.Gaussian()\n",
    "mean_function = gpf.functions.Linear(A=A_init, b = b_init) \n",
    "\n",
    "opt = gpf.optimizers.Scipy()\n",
    "\n",
    "\n",
    "mod4 = gpf.models.GPR(\n",
    "    data=(Xtrain, ytrain), \n",
    "    kernel=kernel, \n",
    "    likelihood = likelihood,\n",
    "    mean_function = mean_function\n",
    "    )"
   ]
  },
  {
   "cell_type": "code",
   "execution_count": 163,
   "metadata": {},
   "outputs": [
    {
     "data": {
      "text/plain": [
       "  message: CONVERGENCE: REL_REDUCTION_OF_F_<=_FACTR*EPSMCH\n",
       "  success: True\n",
       "   status: 0\n",
       "      fun: 134.63023347747418\n",
       "        x: [ 5.413e-01  5.413e-01 ... -1.165e-01 -1.289e-01]\n",
       "      nit: 33\n",
       "      jac: [ 6.290e-12  3.139e-11 ...  1.292e-03 -1.103e-05]\n",
       "     nfev: 41\n",
       "     njev: 41\n",
       " hess_inv: <103x103 LbfgsInvHessProduct with dtype=float64>"
      ]
     },
     "execution_count": 163,
     "metadata": {},
     "output_type": "execute_result"
    }
   ],
   "source": [
    "def training_loss_lasso(model, lambda_val = 0):\n",
    "    base_loss = model.training_loss()\n",
    "    l1_penalty = lambda_val * tf.reduce_sum(tf.abs(model.mean_function.A))\n",
    "    total_loss = base_loss + l1_penalty\n",
    "    return total_loss\n",
    "\n",
    "opt = gpf.optimizers.Scipy()\n",
    "opt.minimize(\n",
    "    lambda: training_loss_lasso(mod4, 0.2), \n",
    "    mod4.trainable_variables,   \n",
    ")"
   ]
  },
  {
   "cell_type": "code",
   "execution_count": 164,
   "metadata": {},
   "outputs": [
    {
     "data": {
      "text/html": [
       "&lt;gpflow.models.gpr.GPR object at 0x41d944670&gt;\n",
       "<table>\n",
       "<thead>\n",
       "<tr><th>name                   </th><th>class    </th><th>transform       </th><th>prior  </th><th>trainable  </th><th>shape  </th><th>dtype  </th><th>value              </th></tr>\n",
       "</thead>\n",
       "<tbody>\n",
       "<tr><td>GPR.mean_function.A    </td><td>Parameter</td><td>Identity        </td><td>       </td><td>True       </td><td>(50, 1)</td><td>float64</td><td>[[3.45969388e-02...</td></tr>\n",
       "<tr><td>GPR.mean_function.b    </td><td>Parameter</td><td>Identity        </td><td>       </td><td>True       </td><td>(1,)   </td><td>float64</td><td>[-0.12893543]      </td></tr>\n",
       "<tr><td>GPR.kernel.variance    </td><td>Parameter</td><td>Softplus        </td><td>       </td><td>True       </td><td>()     </td><td>float64</td><td>0.1521513751792997 </td></tr>\n",
       "<tr><td>GPR.kernel.lengthscales</td><td>Parameter</td><td>Softplus        </td><td>       </td><td>True       </td><td>(50,)  </td><td>float64</td><td>[1., 1., 1....     </td></tr>\n",
       "<tr><td>GPR.likelihood.variance</td><td>Parameter</td><td>Softplus + Shift</td><td>       </td><td>True       </td><td>()     </td><td>float64</td><td>0.15215201610674498</td></tr>\n",
       "</tbody>\n",
       "</table>"
      ],
      "text/plain": [
       "<gpflow.models.gpr.GPR object at 0x41d944670>\n",
       "╒═════════════════════════╤═══════════╤══════════════════╤═════════╤═════════════╤═════════╤═════════╤═════════════════════╕\n",
       "│ name                    │ class     │ transform        │ prior   │ trainable   │ shape   │ dtype   │ value               │\n",
       "╞═════════════════════════╪═══════════╪══════════════════╪═════════╪═════════════╪═════════╪═════════╪═════════════════════╡\n",
       "│ GPR.mean_function.A     │ Parameter │ Identity         │         │ True        │ (50, 1) │ float64 │ [[3.45969388e-02... │\n",
       "├─────────────────────────┼───────────┼──────────────────┼─────────┼─────────────┼─────────┼─────────┼─────────────────────┤\n",
       "│ GPR.mean_function.b     │ Parameter │ Identity         │         │ True        │ (1,)    │ float64 │ [-0.12893543]       │\n",
       "├─────────────────────────┼───────────┼──────────────────┼─────────┼─────────────┼─────────┼─────────┼─────────────────────┤\n",
       "│ GPR.kernel.variance     │ Parameter │ Softplus         │         │ True        │ ()      │ float64 │ 0.1521513751792997  │\n",
       "├─────────────────────────┼───────────┼──────────────────┼─────────┼─────────────┼─────────┼─────────┼─────────────────────┤\n",
       "│ GPR.kernel.lengthscales │ Parameter │ Softplus         │         │ True        │ (50,)   │ float64 │ [1., 1., 1....      │\n",
       "├─────────────────────────┼───────────┼──────────────────┼─────────┼─────────────┼─────────┼─────────┼─────────────────────┤\n",
       "│ GPR.likelihood.variance │ Parameter │ Softplus + Shift │         │ True        │ ()      │ float64 │ 0.15215201610674498 │\n",
       "╘═════════════════════════╧═══════════╧══════════════════╧═════════╧═════════════╧═════════╧═════════╧═════════════════════╛"
      ]
     },
     "execution_count": 164,
     "metadata": {},
     "output_type": "execute_result"
    }
   ],
   "source": [
    "mod4"
   ]
  },
  {
   "cell_type": "code",
   "execution_count": 165,
   "metadata": {},
   "outputs": [
    {
     "name": "stdout",
     "output_type": "stream",
     "text": [
      "RMSE Model 4: 0.888\n"
     ]
    }
   ],
   "source": [
    "y_pred4, y_var4 = mod4.predict_y(Xtest)\n",
    "rmse4 = mean_squared_error(ytest, y_pred4, squared=False)\n",
    "print(f'RMSE Model 4: {rmse4:.3f}')"
   ]
  },
  {
   "cell_type": "markdown",
   "metadata": {},
   "source": [
    "#### 4b. Testing Against Different Lambda Values"
   ]
  },
  {
   "cell_type": "code",
   "execution_count": 166,
   "metadata": {},
   "outputs": [],
   "source": [
    "A_init = tf.zeros((m, 1), dtype=tf.float64)\n",
    "b_init = tf.zeros((1,), dtype=tf.float64)\n",
    "\n",
    "kernel = gpf.kernels.SquaredExponential(lengthscales = np.ones(m))\n",
    "likelihood = gpf.likelihoods.Gaussian()\n",
    "mean_function = gpf.functions.Linear(A=A_init, b = b_init) \n",
    "\n",
    "opt = gpf.optimizers.Scipy()"
   ]
  },
  {
   "cell_type": "code",
   "execution_count": 167,
   "metadata": {},
   "outputs": [],
   "source": [
    "rmse_vals_4b = []\n",
    "lbda_vals_4b = []\n",
    "\n",
    "\n",
    "for lbda in np.logspace(-2, 2, 40):\n",
    "    A_init = tf.zeros((m, 1), dtype=tf.float64)\n",
    "    b_init = tf.zeros((1,), dtype=tf.float64)\n",
    "\n",
    "    kernel = gpf.kernels.SquaredExponential(lengthscales = np.ones(m))\n",
    "    likelihood = gpf.likelihoods.Gaussian()\n",
    "    mean_function = gpf.functions.Linear(A=A_init, b = b_init) \n",
    "    mod4b= gpf.models.GPR(\n",
    "        data=(Xtrain, ytrain), \n",
    "        kernel=kernel, \n",
    "        likelihood = likelihood,\n",
    "        mean_function = mean_function\n",
    "        )\n",
    "    \n",
    "    opt.minimize(\n",
    "    lambda: training_loss_lasso(mod4b, lbda), \n",
    "    mod4b.trainable_variables)\n",
    "    y_pred, y_var = mod4b.predict_y(Xtest)\n",
    "    rmse = mean_squared_error(ytest, y_pred, squared=False)\n",
    "\n",
    "    rmse_vals_4b.append(rmse)\n",
    "    lbda_vals_4b.append(lbda)"
   ]
  },
  {
   "cell_type": "code",
   "execution_count": 168,
   "metadata": {},
   "outputs": [
    {
     "data": {
      "image/png": "[encoded data removed]",
      "text/plain": [
       "<Figure size 640x480 with 1 Axes>"
      ]
     },
     "metadata": {},
     "output_type": "display_data"
    }
   ],
   "source": [
    "plt.scatter(lbda_vals_4b, rmse_vals_4b)\n",
    "plt.title('RMSE by Lambda Value for Direct Optimization')\n",
    "plt.ylabel('RMSE')\n",
    "plt.xlabel('Lambda Value')\n",
    "plt.show()"
   ]
  },
  {
   "cell_type": "code",
   "execution_count": 169,
   "metadata": {},
   "outputs": [
    {
     "name": "stdout",
     "output_type": "stream",
     "text": [
      "Lowest RMSE: 0.824\n",
      "Best Lambda: 11.938\n"
     ]
    }
   ],
   "source": [
    "rmse4b = np.min(rmse_vals_4b)\n",
    "lbda4b = lbda_vals_4b[np.argmin(rmse_vals_4b)]\n",
    "\n",
    "print(f'Lowest RMSE: {rmse4b:.3f}')\n",
    "print(f'Best Lambda: {lbda4b:.3f}')"
   ]
  },
  {
   "cell_type": "markdown",
   "metadata": {},
   "source": [
    "## Results of All Models"
   ]
  },
  {
   "cell_type": "code",
   "execution_count": 170,
   "metadata": {},
   "outputs": [
    {
     "data": {
      "image/png": "[encoded data removed]",
      "text/plain": [
       "<Figure size 640x480 with 1 Axes>"
      ]
     },
     "metadata": {},
     "output_type": "display_data"
    }
   ],
   "source": [
    "rmse_vals = [rmse0, rmse1, rmse2, rmse3, rmse4]\n",
    "\n",
    "plt.bar(range(5), rmse_vals)\n",
    "plt.ylabel('RMSE')\n",
    "plt.xlabel('Model')\n",
    "plt.title('RMSE by Model (Lambda = 0.2)')\n",
    "plt.show()"
   ]
  },
  {
   "cell_type": "code",
   "execution_count": 171,
   "metadata": {},
   "outputs": [
    {
     "data": {
      "image/png": "[encoded data removed]",
      "text/plain": [
       "<Figure size 640x480 with 1 Axes>"
      ]
     },
     "metadata": {},
     "output_type": "display_data"
    }
   ],
   "source": [
    "rmse_vals_b = [rmse0, rmse1, rmse2b, rmse3b, rmse4b]\n",
    "\n",
    "plt.bar(range(5), rmse_vals_b)\n",
    "plt.ylabel('RMSE')\n",
    "plt.xlabel('Model')\n",
    "plt.title('RMSE by Model (Variable Lambda)')\n",
    "plt.show()"
   ]
  }
 ],
 "metadata": {
  "kernelspec": {
   "display_name": "Python 3",
   "language": "python",
   "name": "python3"
  },
  "language_info": {
   "codemirror_mode": {
    "name": "ipython",
    "version": 3
   },
   "file_extension": ".py",
   "mimetype": "text/x-python",
   "name": "python",
   "nbconvert_exporter": "python",
   "pygments_lexer": "ipython3",
   "version": "3.10.6"
  }
 },
 "nbformat": 4,
 "nbformat_minor": 2
}
