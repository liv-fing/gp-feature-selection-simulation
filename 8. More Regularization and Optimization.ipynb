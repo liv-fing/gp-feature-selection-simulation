{
 "cells": [
  {
   "cell_type": "markdown",
   "metadata": {},
   "source": [
    "# 8. Multi-Pass Feature Selection and Optimization\n",
    "\n"
   ]
  },
  {
   "cell_type": "markdown",
   "metadata": {},
   "source": [
    "## Math"
   ]
  },
  {
   "cell_type": "markdown",
   "metadata": {},
   "source": [
    "**To simulate data:**\n",
    "\n",
    "We can define our simulation output $y_i$ as follows:\n",
    "\n",
    "$$ y_i = f(x_i) + \\varepsilon(x_i) + \\eta_i $$\n",
    "\n",
    "Where:  \n",
    "- $f(x_i) = x_i^\\top \\beta $ represents the linear mean function  \n",
    "- $\\varepsilon(x_i) \\sim \\mathcal{GP}(0, k(x_i, x_i')) $ represents structured noise from a Gaussian Process  \n",
    "- $ \\eta_i \\sim \\mathcal{N}(0, \\sigma^2) $ represents small independent Gaussian noise"
   ]
  },
  {
   "cell_type": "markdown",
   "metadata": {},
   "source": [
    "**Methods Used**\n",
    "\n",
    "0. Standard Gaussian Process\n",
    "    - RBF Kernel using a shared lengthscale for all features\n",
    "1. GPFLow's Automatic Relevance Detection (ARD): \n",
    "    - Uses an RBF kernel with a separate lengthscale for each feature\n",
    "    - Features with large lengthscales can be considered irrelevant\n",
    "2. ARD with Custom Feature Selection Function\n",
    "    - Applies Lasso-based feature selection\n",
    "    - Uses an ARD RBF kernel (separate lengthscales per selected feature)\n",
    "3. No ARD, Custom Feature Selection Function\n",
    "    - Applies Lasso-based feature selection\n",
    "    - Uses an RBF kernel with a shared lengthscale across selected features\n",
    "4. Direct Optimization\n",
    "    - Adds an L1 penalty term directly to the training loss during optimization\n",
    "    - Features with coefficients close to zero can be considered irrelevant"
   ]
  },
  {
   "cell_type": "markdown",
   "metadata": {},
   "source": [
    "**Spoiler**\n",
    "\n",
    "- While direct optimization performs better than plain ARD on very sparse data, the custom method of feature selection consistently outperform the other methods–whether using separate or shared lengthscales with the RBF kernel."
   ]
  },
  {
   "cell_type": "markdown",
   "metadata": {},
   "source": [
    "## Code"
   ]
  },
  {
   "cell_type": "markdown",
   "metadata": {},
   "source": [
    "### Setup"
   ]
  },
  {
   "cell_type": "code",
   "execution_count": 714,
   "metadata": {},
   "outputs": [],
   "source": [
    "# import libraries\n",
    "\n",
    "import pandas as pd\n",
    "import numpy as np\n",
    "import seaborn as sns\n",
    "import matplotlib.pyplot as plt\n",
    "import gpflow as gpf\n",
    "import tensorflow as tf\n",
    "\n",
    "from sklearn.linear_model import LinearRegression, LassoLars\n",
    "from sklearn.metrics import mean_squared_error, r2_score\n",
    "from sklearn.model_selection import train_test_split\n",
    "from sklearn.preprocessing import StandardScaler"
   ]
  },
  {
   "cell_type": "markdown",
   "metadata": {},
   "source": [
    "### Simulating Sparse Data"
   ]
  },
  {
   "cell_type": "code",
   "execution_count": 715,
   "metadata": {},
   "outputs": [],
   "source": [
    "def sim_sparse(n = 100, m = 20, seed = 22, same_lengthscales = False):\n",
    "\n",
    "    X = np.random.randn(n,m)\n",
    "\n",
    "    # linear mean\n",
    "    beta = np.zeros(m)\n",
    "    beta[3] = 7.3\n",
    "    beta[5] = 0.5\n",
    "    beta[7] = -2.0\n",
    "    beta[11] = 1.1\n",
    "    beta[12] = -0.8\n",
    "    beta[20] = 1\n",
    "    lin_mean = X @ beta\n",
    "\n",
    "    if same_lengthscales:\n",
    "        lengthscales = 2.1\n",
    "        sigma = 0.6\n",
    "        \n",
    "        z = X[:, 3].reshape(-1, 1) # create column vector n x 1 based on third feature\n",
    "        z_pairwise_diff = z - z.T # (n x n) matrix of pairwise differences\n",
    "        z_squared_dist = z_pairwise_diff ** 2 \n",
    "\n",
    "        K = sigma **2 * np.exp(-z_squared_dist / (2 * lengthscales **2))\n",
    "\n",
    "        # ard rbf kernel\n",
    "    else: \n",
    "        gp_features = [3, 12, 20] # separate from linear features\n",
    "        lengthscales = np.array([0.2, 0.8, 3.0])\n",
    "        sigma = 0.6\n",
    "\n",
    "        X_gp = X[:, gp_features] / lengthscales\n",
    "        sq_norms = np.sum(X_gp**2, axis=1).reshape(-1, 1)\n",
    "        dists = sq_norms + sq_norms.T - 2 * (X_gp @ X_gp.T)\n",
    "        K = sigma**2 * np.exp(-0.5 * dists)\n",
    "\n",
    "    # gaussian process noise\n",
    "    gp_noise = np.random.multivariate_normal(mean = np.zeros(n), cov = K)\n",
    "\n",
    "    # iid normal noise\n",
    "    eta = np.random.normal(0, 0.05, size = n)\n",
    "\n",
    "    # combined\n",
    "    y = lin_mean + gp_noise + eta\n",
    "\n",
    "    return X, y, beta, lengthscales\n"
   ]
  },
  {
   "cell_type": "markdown",
   "metadata": {},
   "source": [
    "### Main Function"
   ]
  },
  {
   "cell_type": "code",
   "execution_count": 716,
   "metadata": {},
   "outputs": [],
   "source": [
    "def l1_feat_select (model, X, y, init_kernel, shared_lengthscale = 0, penalty_strength = 0.1, max_iter = 10, verbose = 1):\n",
    "    \"\"\" \n",
    "    Multi-pass optimization using Lasso-based feature selection and Gaussian Process optimization.\n",
    "\n",
    "    Runs an iterative loop that uses LassoCV to select relevant input features, then updates the kernel of GP model to use only those features. \n",
    "    The loop stops when feature selection and mean function coefficients converge, or when the maximum number of iterations is reached\n",
    "\n",
    "    Parameters:\n",
    "    ----------\n",
    "        model: gpflow.models.GPR\n",
    "            The GP model to optimize. \n",
    "        X: tf.Tensor or np.ndarray\n",
    "            Input features\n",
    "        y: tf.Tensor or np.ndarray\n",
    "            Target values\n",
    "        init_kernel: gpflow.kernels.Kernel\n",
    "            The initial GP kernel\n",
    "        shared_lengthscale: bool, optional\n",
    "            If true, all features will share one lengthscale. Default is 0. \n",
    "        penalty_strength: float, optional\n",
    "            Strength of L1 penalty term. Default is 0.1. Must be positive.\n",
    "        max_iter: int, optional\n",
    "            Maximum number of alternating iterations. Default is 10\n",
    "        verbose: bool, optional\n",
    "            Will show output. Default is 1\n",
    "\n",
    "    Returns:\n",
    "    -------\n",
    "        model: gpflow.models.GPR\n",
    "            The optimized GP model\n",
    "        selected_feats: \n",
    "            Indices of selected features\n",
    "    \n",
    "    \"\"\"\n",
    "\n",
    "    X_current = X\n",
    "    m = X_current.shape[1]\n",
    "    current_kernel = init_kernel\n",
    "    active_dims = list(range(X.shape[1]))\n",
    "    count = 0\n",
    "    tol = 1e-6\n",
    "\n",
    "    selected_feats = None\n",
    "\n",
    "    while True:\n",
    "\n",
    "        count += 1\n",
    "\n",
    "        alt_las = LassoLars(alpha = penalty_strength, random_state = 22)\n",
    "        alt_las.fit(X_current, y.reshape(-1))\n",
    "\n",
    "        # Store old values\n",
    "        prev_A = model.mean_function.A \n",
    "        prev_b = model.mean_function.b\n",
    "        \n",
    "        if verbose:\n",
    "            print(f\"\\n --- Beginning Iteration {count} --- \")\n",
    "            print(f'Lasso Coefficients: {alt_las.coef_}')\n",
    "\n",
    "\n",
    "        # Select features\n",
    "        select_mask = np.abs(alt_las.coef_) > 0\n",
    "        if not np.any(select_mask):\n",
    "            if verbose:\n",
    "                print(f\"No features selected. Skipping.\")\n",
    "            return model, selected_feats\n",
    "\n",
    "\n",
    "        prev_active_dims = active_dims # save old value\n",
    "        active_dims = np.where(select_mask)[0].tolist() # set new value for active dimensions\n",
    "\n",
    "        if selected_feats == None:\n",
    "            selected_feats = active_dims.copy()\n",
    "        if verbose:\n",
    "            print(f'Selected Features: {select_mask}')\n",
    "            print('active dims', active_dims)\n",
    "\n",
    "        # Update\n",
    "        m = X_current.shape[1]\n",
    "        new_A = alt_las.coef_[select_mask].reshape(-1,1)\n",
    "\n",
    "        X_current = X_current[:, active_dims]\n",
    "        model.data = (X_current, y)\n",
    "        new_active_dims = list(range(X_current.shape[1])) # because indices change\n",
    "\n",
    "        if shared_lengthscale:\n",
    "            model.kernel = gpf.kernels.SquaredExponential(\n",
    "                lengthscales = 1,\n",
    "                active_dims=new_active_dims\n",
    "            )\n",
    "        else:\n",
    "            model.kernel = gpf.kernels.SquaredExponential(\n",
    "                lengthscales = np.ones(len(new_active_dims)),\n",
    "                active_dims=new_active_dims\n",
    "            )\n",
    "\n",
    "        model.mean_function = gpf.functions.Linear(A=new_A, b = prev_b) # where is beta 0?\n",
    "\n",
    "        # Use Lasso coefficients, don't optimize\n",
    "        gpf.set_trainable(model.mean_function.A, False)\n",
    "        gpf.set_trainable(model.mean_function.b, False)\n",
    "\n",
    "        # Optimize kernel parameters\n",
    "        opt = gpf.optimizers.Scipy()\n",
    "        opt.minimize(model.training_loss, model.trainable_variables)\n",
    "\n",
    "        if count >= max_iter:\n",
    "            print('Too Many Iterations')\n",
    "            break\n",
    "\n",
    "        # stop when active dimensions and linear weights stabilize, \n",
    "        if active_dims == prev_active_dims and tf.reduce_max(tf.abs(new_A - prev_A)) < tol:\n",
    "            if verbose:\n",
    "                print(f\"\\n ! Converged ! \")\n",
    "            break\n",
    "\n",
    "    return model, selected_feats"
   ]
  },
  {
   "cell_type": "markdown",
   "metadata": {},
   "source": [
    "### Data"
   ]
  },
  {
   "cell_type": "code",
   "execution_count": 717,
   "metadata": {},
   "outputs": [],
   "source": [
    "X, y, beta_star, lengthscales = sim_sparse(n = 200, m = 100, seed = 22, same_lengthscales = False)\n",
    "\n",
    "Xtrain_unscaled, Xtest_unscaled, ytrain, ytest = train_test_split(X, y, test_size = 0.2, random_state = 22)\n",
    "\n",
    "scaler = StandardScaler()\n",
    "Xtrain = scaler.fit_transform(Xtrain_unscaled)\n",
    "Xtest = scaler.transform(Xtest_unscaled)\n",
    "ytrain = ytrain.reshape(-1,1)\n",
    "ytest = ytest.reshape(-1,1)\n",
    "m = Xtrain.shape[1]"
   ]
  },
  {
   "cell_type": "markdown",
   "metadata": {},
   "source": [
    "### 0. GP - shared lengthscale"
   ]
  },
  {
   "cell_type": "code",
   "execution_count": 718,
   "metadata": {},
   "outputs": [],
   "source": [
    "A_init = tf.zeros((m, 1), dtype=tf.float64)\n",
    "b_init = tf.zeros((1,), dtype=tf.float64)\n",
    "\n",
    "kernel = gpf.kernels.SquaredExponential(lengthscales=1)\n",
    "likelihood = gpf.likelihoods.Gaussian()\n",
    "mean_function = gpf.functions.Linear(A=A_init, b = b_init) \n",
    "\n",
    "opt = gpf.optimizers.Scipy()"
   ]
  },
  {
   "cell_type": "code",
   "execution_count": 719,
   "metadata": {},
   "outputs": [
    {
     "data": {
      "text/plain": [
       "  message: CONVERGENCE: REL_REDUCTION_OF_F_<=_FACTR*EPSMCH\n",
       "  success: True\n",
       "   status: 0\n",
       "      fun: 38.97548928423001\n",
       "        x: [ 5.413e-01 -3.020e+00 ...  5.429e-02 -6.670e-01]\n",
       "      nit: 71\n",
       "      jac: [ 0.000e+00  3.998e-04 ...  1.243e-04 -3.746e-05]\n",
       "     nfev: 86\n",
       "     njev: 86\n",
       " hess_inv: <104x104 LbfgsInvHessProduct with dtype=float64>"
      ]
     },
     "execution_count": 719,
     "metadata": {},
     "output_type": "execute_result"
    }
   ],
   "source": [
    "mod0 = gpf.models.GPR(\n",
    "    data=(Xtrain, ytrain), \n",
    "    kernel=kernel, \n",
    "    likelihood = likelihood,\n",
    "    mean_function = mean_function\n",
    "    )\n",
    "\n",
    "opt = gpf.optimizers.Scipy()\n",
    "opt.minimize(mod0.training_loss, mod0.trainable_variables)"
   ]
  },
  {
   "cell_type": "code",
   "execution_count": 720,
   "metadata": {},
   "outputs": [
    {
     "name": "stdout",
     "output_type": "stream",
     "text": [
      "RMSE Model 1: 0.858\n"
     ]
    }
   ],
   "source": [
    "y_pred0, y_var0 = mod0.predict_y(Xtest)\n",
    "rmse0 = mean_squared_error(ytest, y_pred0, squared=False)\n",
    "print(f'RMSE Model 1: {rmse0:.3f}')"
   ]
  },
  {
   "cell_type": "code",
   "execution_count": 721,
   "metadata": {},
   "outputs": [
    {
     "data": {
      "text/html": [
       "&lt;gpflow.models.gpr.GPR object at 0x45f7b0a00&gt;\n",
       "<table>\n",
       "<thead>\n",
       "<tr><th>name                   </th><th>class    </th><th>transform       </th><th>prior  </th><th>trainable  </th><th>shape   </th><th>dtype  </th><th>value               </th></tr>\n",
       "</thead>\n",
       "<tbody>\n",
       "<tr><td>GPR.mean_function.A    </td><td>Parameter</td><td>Identity        </td><td>       </td><td>True       </td><td>(100, 1)</td><td>float64</td><td>[[-3.83879325e-02...</td></tr>\n",
       "<tr><td>GPR.mean_function.b    </td><td>Parameter</td><td>Identity        </td><td>       </td><td>True       </td><td>(1,)    </td><td>float64</td><td>[-0.6670382]        </td></tr>\n",
       "<tr><td>GPR.kernel.variance    </td><td>Parameter</td><td>Softplus        </td><td>       </td><td>True       </td><td>()      </td><td>float64</td><td>0.0476520147573713  </td></tr>\n",
       "<tr><td>GPR.kernel.lengthscales</td><td>Parameter</td><td>Softplus        </td><td>       </td><td>True       </td><td>()      </td><td>float64</td><td>1.0                 </td></tr>\n",
       "<tr><td>GPR.likelihood.variance</td><td>Parameter</td><td>Softplus + Shift</td><td>       </td><td>True       </td><td>()      </td><td>float64</td><td>0.04765296510543715 </td></tr>\n",
       "</tbody>\n",
       "</table>"
      ],
      "text/plain": [
       "<gpflow.models.gpr.GPR object at 0x45f7b0a00>\n",
       "╒═════════════════════════╤═══════════╤══════════════════╤═════════╤═════════════╤══════════╤═════════╤══════════════════════╕\n",
       "│ name                    │ class     │ transform        │ prior   │ trainable   │ shape    │ dtype   │ value                │\n",
       "╞═════════════════════════╪═══════════╪══════════════════╪═════════╪═════════════╪══════════╪═════════╪══════════════════════╡\n",
       "│ GPR.mean_function.A     │ Parameter │ Identity         │         │ True        │ (100, 1) │ float64 │ [[-3.83879325e-02... │\n",
       "├─────────────────────────┼───────────┼──────────────────┼─────────┼─────────────┼──────────┼─────────┼──────────────────────┤\n",
       "│ GPR.mean_function.b     │ Parameter │ Identity         │         │ True        │ (1,)     │ float64 │ [-0.6670382]         │\n",
       "├─────────────────────────┼───────────┼──────────────────┼─────────┼─────────────┼──────────┼─────────┼──────────────────────┤\n",
       "│ GPR.kernel.variance     │ Parameter │ Softplus         │         │ True        │ ()       │ float64 │ 0.0476520147573713   │\n",
       "├─────────────────────────┼───────────┼──────────────────┼─────────┼─────────────┼──────────┼─────────┼──────────────────────┤\n",
       "│ GPR.kernel.lengthscales │ Parameter │ Softplus         │         │ True        │ ()       │ float64 │ 1.0                  │\n",
       "├─────────────────────────┼───────────┼──────────────────┼─────────┼─────────────┼──────────┼─────────┼──────────────────────┤\n",
       "│ GPR.likelihood.variance │ Parameter │ Softplus + Shift │         │ True        │ ()       │ float64 │ 0.04765296510543715  │\n",
       "╘═════════════════════════╧═══════════╧══════════════════╧═════════╧═════════════╧══════════╧═════════╧══════════════════════╛"
      ]
     },
     "execution_count": 721,
     "metadata": {},
     "output_type": "execute_result"
    }
   ],
   "source": [
    "mod0"
   ]
  },
  {
   "cell_type": "markdown",
   "metadata": {},
   "source": [
    "### 1. GPFlow's Automatic Relevance Detection - allowing separate lengthscales"
   ]
  },
  {
   "cell_type": "code",
   "execution_count": 722,
   "metadata": {},
   "outputs": [],
   "source": [
    "A_init = tf.zeros((m, 1), dtype=tf.float64)\n",
    "b_init = tf.zeros((1,), dtype=tf.float64)\n",
    "\n",
    "kernel = gpf.kernels.SquaredExponential(lengthscales=np.ones(m))\n",
    "likelihood = gpf.likelihoods.Gaussian()\n",
    "mean_function = gpf.functions.Linear(A=A_init, b = b_init) \n",
    "\n",
    "opt = gpf.optimizers.Scipy()"
   ]
  },
  {
   "cell_type": "code",
   "execution_count": 723,
   "metadata": {},
   "outputs": [
    {
     "data": {
      "text/plain": [
       "  message: CONVERGENCE: REL_REDUCTION_OF_F_<=_FACTR*EPSMCH\n",
       "  success: True\n",
       "   status: 0\n",
       "      fun: 38.97548928423018\n",
       "        x: [ 5.413e-01  5.413e-01 ...  5.429e-02 -6.670e-01]\n",
       "      nit: 71\n",
       "      jac: [ 0.000e+00  0.000e+00 ...  1.243e-04 -3.746e-05]\n",
       "     nfev: 86\n",
       "     njev: 86\n",
       " hess_inv: <203x203 LbfgsInvHessProduct with dtype=float64>"
      ]
     },
     "execution_count": 723,
     "metadata": {},
     "output_type": "execute_result"
    }
   ],
   "source": [
    "mod1 = gpf.models.GPR(\n",
    "    data=(Xtrain, ytrain), \n",
    "    kernel=kernel, \n",
    "    likelihood = likelihood,\n",
    "    mean_function = mean_function\n",
    "    )\n",
    "\n",
    "opt = gpf.optimizers.Scipy()\n",
    "opt.minimize(mod1.training_loss, mod1.trainable_variables)"
   ]
  },
  {
   "cell_type": "code",
   "execution_count": 724,
   "metadata": {},
   "outputs": [
    {
     "data": {
      "text/plain": [
       "<Parameter: name=softplus, dtype=float64, shape=[100], fn=\"softplus\", numpy=\n",
       "array([1., 1., 1., 1., 1., 1., 1., 1., 1., 1., 1., 1., 1., 1., 1., 1., 1.,\n",
       "       1., 1., 1., 1., 1., 1., 1., 1., 1., 1., 1., 1., 1., 1., 1., 1., 1.,\n",
       "       1., 1., 1., 1., 1., 1., 1., 1., 1., 1., 1., 1., 1., 1., 1., 1., 1.,\n",
       "       1., 1., 1., 1., 1., 1., 1., 1., 1., 1., 1., 1., 1., 1., 1., 1., 1.,\n",
       "       1., 1., 1., 1., 1., 1., 1., 1., 1., 1., 1., 1., 1., 1., 1., 1., 1.,\n",
       "       1., 1., 1., 1., 1., 1., 1., 1., 1., 1., 1., 1., 1., 1., 1.])>"
      ]
     },
     "execution_count": 724,
     "metadata": {},
     "output_type": "execute_result"
    }
   ],
   "source": [
    "mod1.kernel.lengthscales"
   ]
  },
  {
   "cell_type": "code",
   "execution_count": 725,
   "metadata": {},
   "outputs": [
    {
     "name": "stdout",
     "output_type": "stream",
     "text": [
      "RMSE Model 1: 0.858\n"
     ]
    }
   ],
   "source": [
    "y_pred1, y_var1 = mod1.predict_y(Xtest)\n",
    "rmse1 = mean_squared_error(ytest, y_pred1, squared=False)\n",
    "print(f'RMSE Model 1: {rmse1:.3f}')"
   ]
  },
  {
   "cell_type": "markdown",
   "metadata": {},
   "source": [
    "### 2. ARD + Selecting Active Dimensions - separate lengthscales, selecting features"
   ]
  },
  {
   "cell_type": "code",
   "execution_count": 726,
   "metadata": {},
   "outputs": [],
   "source": [
    "A_init = tf.zeros((m, 1), dtype=tf.float64)\n",
    "b_init = tf.zeros((1,), dtype=tf.float64)\n",
    "\n",
    "kernel = gpf.kernels.SquaredExponential(lengthscales=np.ones(m))\n",
    "likelihood = gpf.likelihoods.Gaussian()\n",
    "mean_function = gpf.functions.Linear(A=A_init, b = b_init) \n",
    "\n",
    "opt = gpf.optimizers.Scipy()"
   ]
  },
  {
   "cell_type": "code",
   "execution_count": 727,
   "metadata": {},
   "outputs": [
    {
     "name": "stdout",
     "output_type": "stream",
     "text": [
      "\n",
      " --- Beginning Iteration 1 --- \n",
      "Lasso Coefficients: [ 0.          0.          0.          6.61485423  0.          0.1975199\n",
      "  0.         -1.51363904  0.          0.          0.          0.9297189\n",
      " -0.65320401  0.          0.          0.          0.          0.\n",
      "  0.          0.          0.8221961   0.          0.          0.\n",
      "  0.          0.          0.          0.          0.          0.\n",
      "  0.          0.          0.          0.          0.          0.\n",
      "  0.          0.          0.          0.          0.          0.\n",
      "  0.          0.          0.          0.          0.          0.\n",
      "  0.          0.          0.          0.          0.          0.\n",
      "  0.          0.          0.          0.          0.          0.\n",
      "  0.          0.          0.          0.          0.          0.\n",
      "  0.          0.          0.          0.          0.          0.\n",
      "  0.          0.          0.          0.          0.          0.\n",
      "  0.          0.          0.          0.          0.          0.\n",
      "  0.          0.          0.          0.          0.          0.\n",
      "  0.          0.          0.          0.          0.          0.\n",
      "  0.          0.          0.          0.        ]\n",
      "Selected Features: [False False False  True False  True False  True False False False  True\n",
      "  True False False False False False False False  True False False False\n",
      " False False False False False False False False False False False False\n",
      " False False False False False False False False False False False False\n",
      " False False False False False False False False False False False False\n",
      " False False False False False False False False False False False False\n",
      " False False False False False False False False False False False False\n",
      " False False False False False False False False False False False False\n",
      " False False False False]\n",
      "active dims [3, 5, 7, 11, 12, 20]\n",
      "\n",
      " --- Beginning Iteration 2 --- \n",
      "Lasso Coefficients: [ 6.61485423  0.1975199  -1.51363904  0.9297189  -0.65320401  0.8221961 ]\n",
      "Selected Features: [ True  True  True  True  True  True]\n",
      "active dims [0, 1, 2, 3, 4, 5]\n",
      "\n",
      " --- Beginning Iteration 3 --- \n",
      "Lasso Coefficients: [ 6.61485423  0.1975199  -1.51363904  0.9297189  -0.65320401  0.8221961 ]\n",
      "Selected Features: [ True  True  True  True  True  True]\n",
      "active dims [0, 1, 2, 3, 4, 5]\n",
      "\n",
      " ! Converged ! \n"
     ]
    }
   ],
   "source": [
    "mod2 = gpf.models.GPR(\n",
    "    data=(Xtrain, ytrain), \n",
    "    kernel=kernel, \n",
    "    likelihood = likelihood,\n",
    "    mean_function = mean_function\n",
    "    )\n",
    "\n",
    "mod2, selected_feats2 = l1_feat_select(\n",
    "    model = mod2, \n",
    "    X = Xtrain, \n",
    "    y = ytrain, \n",
    "    init_kernel = gpf.kernels.SquaredExponential(\n",
    "        lengthscales=np.ones(m)), \n",
    "    penalty_strength = 0.2)"
   ]
  },
  {
   "cell_type": "code",
   "execution_count": 728,
   "metadata": {},
   "outputs": [
    {
     "name": "stdout",
     "output_type": "stream",
     "text": [
      "RMSE Model 2: 0.533\n"
     ]
    }
   ],
   "source": [
    "y_pred2, y_var2 = mod2.predict_y(Xtest[:,selected_feats2])\n",
    "rmse2 = mean_squared_error(ytest, y_pred2, squared=False)\n",
    "print(f'RMSE Model 2: {rmse2:.3f}')"
   ]
  },
  {
   "cell_type": "markdown",
   "metadata": {},
   "source": [
    "#### 2b. Testing Against Different Lambda Values"
   ]
  },
  {
   "cell_type": "code",
   "execution_count": 729,
   "metadata": {},
   "outputs": [],
   "source": [
    "rmse_vals_2b = []\n",
    "lbda_vals_2b = []\n",
    "\n",
    "\n",
    "for lbda in np.logspace(-2, 2, 40):\n",
    "    A_init = tf.zeros((m, 1), dtype=tf.float64)\n",
    "    b_init = tf.zeros((1,), dtype=tf.float64)\n",
    "\n",
    "    kernel = gpf.kernels.SquaredExponential(lengthscales = np.ones(m))\n",
    "    likelihood = gpf.likelihoods.Gaussian()\n",
    "    mean_function = gpf.functions.Linear(A=A_init, b = b_init) \n",
    "\n",
    "    opt = gpf.optimizers.Scipy()\n",
    "\n",
    "    mod2b = gpf.models.GPR(\n",
    "        data=(Xtrain, ytrain), \n",
    "        kernel=kernel, \n",
    "        likelihood = likelihood,\n",
    "        mean_function = mean_function\n",
    "        )\n",
    "    \n",
    "    mod2b, selected_feats2b = l1_feat_select(\n",
    "        model = mod2b, \n",
    "        X = Xtrain, \n",
    "        y = ytrain, \n",
    "        init_kernel = gpf.kernels.SquaredExponential(\n",
    "            lengthscales=np.ones(m)), \n",
    "        penalty_strength = lbda,\n",
    "        verbose=0)\n",
    "    \n",
    "    y_pred, y_var = mod2b.predict_y(Xtest[:, selected_feats2b])\n",
    "    y_pred = np.squeeze(y_pred) # remove weirdness with dimensions when nothing is chosen\n",
    "    y_var = np.squeeze(y_var)\n",
    "    rmse = mean_squared_error(ytest, y_pred, squared=False)\n",
    "\n",
    "    rmse_vals_2b.append(rmse)\n",
    "    lbda_vals_2b.append(lbda)"
   ]
  },
  {
   "cell_type": "code",
   "execution_count": 730,
   "metadata": {},
   "outputs": [
    {
     "data": {
      "image/png": "[encoded data removed]",
      "text/plain": [
       "<Figure size 640x480 with 1 Axes>"
      ]
     },
     "metadata": {},
     "output_type": "display_data"
    }
   ],
   "source": [
    "plt.scatter(lbda_vals_2b, rmse_vals_2b)\n",
    "plt.title('RMSE by Lambda Value for ARD + Selective Active Dimensions')\n",
    "plt.ylabel('RMSE')\n",
    "plt.xlabel('Lambda Value')\n",
    "plt.show()"
   ]
  },
  {
   "cell_type": "code",
   "execution_count": 731,
   "metadata": {},
   "outputs": [
    {
     "name": "stdout",
     "output_type": "stream",
     "text": [
      "Lowest RMSE: 0.312\n",
      "Best Lambda: 0.134\n"
     ]
    }
   ],
   "source": [
    "rmse2b = np.min(rmse_vals_2b)\n",
    "lbda2b = lbda_vals_2b[np.argmin(rmse_vals_2b)]\n",
    "\n",
    "print(f'Lowest RMSE: {rmse2b:.3f}')\n",
    "print(f'Best Lambda: {lbda2b:.3f}')"
   ]
  },
  {
   "cell_type": "markdown",
   "metadata": {},
   "source": [
    "### 3. No ARD + Selecting Active Dimensions - shared lengthscale, selecting features"
   ]
  },
  {
   "cell_type": "code",
   "execution_count": 732,
   "metadata": {},
   "outputs": [],
   "source": [
    "A_init = tf.zeros((m, 1), dtype=tf.float64)\n",
    "b_init = tf.zeros((1,), dtype=tf.float64)\n",
    "\n",
    "kernel = gpf.kernels.SquaredExponential()\n",
    "likelihood = gpf.likelihoods.Gaussian()\n",
    "mean_function = gpf.functions.Linear(A=A_init, b = b_init) \n",
    "\n",
    "opt = gpf.optimizers.Scipy()"
   ]
  },
  {
   "cell_type": "code",
   "execution_count": 733,
   "metadata": {},
   "outputs": [
    {
     "name": "stdout",
     "output_type": "stream",
     "text": [
      "\n",
      " --- Beginning Iteration 1 --- \n",
      "Lasso Coefficients: [ 0.          0.          0.          6.61485423  0.          0.1975199\n",
      "  0.         -1.51363904  0.          0.          0.          0.9297189\n",
      " -0.65320401  0.          0.          0.          0.          0.\n",
      "  0.          0.          0.8221961   0.          0.          0.\n",
      "  0.          0.          0.          0.          0.          0.\n",
      "  0.          0.          0.          0.          0.          0.\n",
      "  0.          0.          0.          0.          0.          0.\n",
      "  0.          0.          0.          0.          0.          0.\n",
      "  0.          0.          0.          0.          0.          0.\n",
      "  0.          0.          0.          0.          0.          0.\n",
      "  0.          0.          0.          0.          0.          0.\n",
      "  0.          0.          0.          0.          0.          0.\n",
      "  0.          0.          0.          0.          0.          0.\n",
      "  0.          0.          0.          0.          0.          0.\n",
      "  0.          0.          0.          0.          0.          0.\n",
      "  0.          0.          0.          0.          0.          0.\n",
      "  0.          0.          0.          0.        ]\n",
      "Selected Features: [False False False  True False  True False  True False False False  True\n",
      "  True False False False False False False False  True False False False\n",
      " False False False False False False False False False False False False\n",
      " False False False False False False False False False False False False\n",
      " False False False False False False False False False False False False\n",
      " False False False False False False False False False False False False\n",
      " False False False False False False False False False False False False\n",
      " False False False False False False False False False False False False\n",
      " False False False False]\n",
      "active dims [3, 5, 7, 11, 12, 20]\n",
      "\n",
      " --- Beginning Iteration 2 --- \n",
      "Lasso Coefficients: [ 6.61485423  0.1975199  -1.51363904  0.9297189  -0.65320401  0.8221961 ]\n",
      "Selected Features: [ True  True  True  True  True  True]\n",
      "active dims [0, 1, 2, 3, 4, 5]\n",
      "\n",
      " --- Beginning Iteration 3 --- \n",
      "Lasso Coefficients: [ 6.61485423  0.1975199  -1.51363904  0.9297189  -0.65320401  0.8221961 ]\n",
      "Selected Features: [ True  True  True  True  True  True]\n",
      "active dims [0, 1, 2, 3, 4, 5]\n",
      "\n",
      " ! Converged ! \n"
     ]
    }
   ],
   "source": [
    "mod3 = gpf.models.GPR(\n",
    "    data=(Xtrain, ytrain), \n",
    "    kernel=kernel, \n",
    "    likelihood = likelihood,\n",
    "    mean_function = mean_function\n",
    "    )\n",
    "\n",
    "mod3, selected_feats3 = l1_feat_select(\n",
    "    model = mod3, \n",
    "    X = Xtrain, \n",
    "    y = ytrain, \n",
    "    init_kernel = gpf.kernels.SquaredExponential(),\n",
    "    shared_lengthscale=True,\n",
    "    penalty_strength = 0.2)"
   ]
  },
  {
   "cell_type": "code",
   "execution_count": 734,
   "metadata": {},
   "outputs": [
    {
     "data": {
      "text/html": [
       "&lt;gpflow.models.gpr.GPR object at 0x478a26e30&gt;\n",
       "<table>\n",
       "<thead>\n",
       "<tr><th>name                   </th><th>class    </th><th>transform       </th><th>prior  </th><th>trainable  </th><th>shape  </th><th>dtype  </th><th>value              </th></tr>\n",
       "</thead>\n",
       "<tbody>\n",
       "<tr><td>GPR.mean_function.A    </td><td>Parameter</td><td>Identity        </td><td>       </td><td>False      </td><td>(6, 1) </td><td>float64</td><td>[[6.61485...       </td></tr>\n",
       "<tr><td>GPR.mean_function.b    </td><td>Parameter</td><td>Identity        </td><td>       </td><td>False      </td><td>(1,)   </td><td>float64</td><td>[0.]               </td></tr>\n",
       "<tr><td>GPR.kernel.variance    </td><td>Parameter</td><td>Softplus        </td><td>       </td><td>True       </td><td>()     </td><td>float64</td><td>1.83929            </td></tr>\n",
       "<tr><td>GPR.kernel.lengthscales</td><td>Parameter</td><td>Softplus        </td><td>       </td><td>True       </td><td>()     </td><td>float64</td><td>5.60385            </td></tr>\n",
       "<tr><td>GPR.likelihood.variance</td><td>Parameter</td><td>Softplus + Shift</td><td>       </td><td>True       </td><td>()     </td><td>float64</td><td>0.18656807822378904</td></tr>\n",
       "</tbody>\n",
       "</table>"
      ],
      "text/plain": [
       "<gpflow.models.gpr.GPR object at 0x478a26e30>\n",
       "╒═════════════════════════╤═══════════╤══════════════════╤═════════╤═════════════╤═════════╤═════════╤═════════════════════╕\n",
       "│ name                    │ class     │ transform        │ prior   │ trainable   │ shape   │ dtype   │ value               │\n",
       "╞═════════════════════════╪═══════════╪══════════════════╪═════════╪═════════════╪═════════╪═════════╪═════════════════════╡\n",
       "│ GPR.mean_function.A     │ Parameter │ Identity         │         │ False       │ (6, 1)  │ float64 │ [[6.61485...        │\n",
       "├─────────────────────────┼───────────┼──────────────────┼─────────┼─────────────┼─────────┼─────────┼─────────────────────┤\n",
       "│ GPR.mean_function.b     │ Parameter │ Identity         │         │ False       │ (1,)    │ float64 │ [0.]                │\n",
       "├─────────────────────────┼───────────┼──────────────────┼─────────┼─────────────┼─────────┼─────────┼─────────────────────┤\n",
       "│ GPR.kernel.variance     │ Parameter │ Softplus         │         │ True        │ ()      │ float64 │ 1.83929             │\n",
       "├─────────────────────────┼───────────┼──────────────────┼─────────┼─────────────┼─────────┼─────────┼─────────────────────┤\n",
       "│ GPR.kernel.lengthscales │ Parameter │ Softplus         │         │ True        │ ()      │ float64 │ 5.60385             │\n",
       "├─────────────────────────┼───────────┼──────────────────┼─────────┼─────────────┼─────────┼─────────┼─────────────────────┤\n",
       "│ GPR.likelihood.variance │ Parameter │ Softplus + Shift │         │ True        │ ()      │ float64 │ 0.18656807822378904 │\n",
       "╘═════════════════════════╧═══════════╧══════════════════╧═════════╧═════════════╧═════════╧═════════╧═════════════════════╛"
      ]
     },
     "execution_count": 734,
     "metadata": {},
     "output_type": "execute_result"
    }
   ],
   "source": [
    "mod3"
   ]
  },
  {
   "cell_type": "code",
   "execution_count": 735,
   "metadata": {},
   "outputs": [
    {
     "name": "stdout",
     "output_type": "stream",
     "text": [
      "RMSE Model 3: 0.550\n"
     ]
    }
   ],
   "source": [
    "y_pred3, y_var3 = mod3.predict_y(Xtest[:,selected_feats3])\n",
    "rmse3 = mean_squared_error(ytest, y_pred3, squared=False)\n",
    "print(f'RMSE Model 3: {rmse3:.3f}')"
   ]
  },
  {
   "cell_type": "markdown",
   "metadata": {},
   "source": [
    "#### 3b. Testing Against Different Lambda Values - shared lengthscale, selecting features"
   ]
  },
  {
   "cell_type": "code",
   "execution_count": 736,
   "metadata": {},
   "outputs": [],
   "source": [
    "rmse_vals_3b = []\n",
    "lbda_vals_3b = []\n",
    "\n",
    "\n",
    "for lbda in np.logspace(-2, 2, 40):\n",
    "\n",
    "    A_init = tf.zeros((m, 1), dtype=tf.float64)\n",
    "    b_init = tf.zeros((1,), dtype=tf.float64)\n",
    "\n",
    "    kernel = gpf.kernels.SquaredExponential()\n",
    "    likelihood = gpf.likelihoods.Gaussian()\n",
    "    mean_function = gpf.functions.Linear(A=A_init, b = b_init) \n",
    "\n",
    "    opt = gpf.optimizers.Scipy()\n",
    "\n",
    "    mod3b = gpf.models.GPR(\n",
    "        data=(Xtrain, ytrain), \n",
    "        kernel=kernel, \n",
    "        likelihood = likelihood,\n",
    "        mean_function = mean_function\n",
    "        )\n",
    "    \n",
    "    mod3b, selected_feats3b = l1_feat_select(\n",
    "        model = mod3b, \n",
    "        X = Xtrain, \n",
    "        y = ytrain, \n",
    "        init_kernel = gpf.kernels.SquaredExponential(), \n",
    "        shared_lengthscale=True,\n",
    "        penalty_strength = lbda,\n",
    "        verbose=0)\n",
    "    \n",
    "    y_pred, y_var = mod3b.predict_y(Xtest[:, selected_feats3b])\n",
    "    y_pred = np.squeeze(y_pred) # remove weirdness with dimensions when nothing is chosen\n",
    "    y_var = np.squeeze(y_var)\n",
    "    rmse = mean_squared_error(ytest, y_pred, squared=False)\n",
    "\n",
    "    rmse_vals_3b.append(rmse)\n",
    "    lbda_vals_3b.append(lbda)"
   ]
  },
  {
   "cell_type": "code",
   "execution_count": 737,
   "metadata": {},
   "outputs": [
    {
     "data": {
      "image/png": "[encoded data removed]",
      "text/plain": [
       "<Figure size 640x480 with 1 Axes>"
      ]
     },
     "metadata": {},
     "output_type": "display_data"
    }
   ],
   "source": [
    "plt.scatter(lbda_vals_3b, rmse_vals_3b)\n",
    "plt.title('RMSE by Lambda Value for No ARD + Selective Active Dimensions')\n",
    "plt.ylabel('RMSE')\n",
    "plt.xlabel('Lambda Value')\n",
    "plt.show()"
   ]
  },
  {
   "cell_type": "code",
   "execution_count": 738,
   "metadata": {},
   "outputs": [
    {
     "name": "stdout",
     "output_type": "stream",
     "text": [
      "Lowest RMSE: 0.548\n",
      "Best Lambda: 0.134\n"
     ]
    }
   ],
   "source": [
    "rmse3b = np.min(rmse_vals_3b)\n",
    "lbda3b = lbda_vals_3b[np.argmin(rmse_vals_3b)]\n",
    "\n",
    "print(f'Lowest RMSE: {rmse3b:.3f}')\n",
    "print(f'Best Lambda: {lbda3b:.3f}')"
   ]
  },
  {
   "cell_type": "markdown",
   "metadata": {},
   "source": [
    "### 4. Optimizing Directly - separate lengthscales"
   ]
  },
  {
   "cell_type": "code",
   "execution_count": 739,
   "metadata": {},
   "outputs": [],
   "source": [
    "A_init = tf.zeros((m, 1), dtype=tf.float64)\n",
    "b_init = tf.zeros((1,), dtype=tf.float64)\n",
    "\n",
    "kernel = gpf.kernels.SquaredExponential(lengthscales = np.ones(m))\n",
    "likelihood = gpf.likelihoods.Gaussian()\n",
    "mean_function = gpf.functions.Linear(A=A_init, b = b_init) \n",
    "\n",
    "opt = gpf.optimizers.Scipy()\n",
    "\n",
    "\n",
    "mod4 = gpf.models.GPR(\n",
    "    data=(Xtrain, ytrain), \n",
    "    kernel=kernel, \n",
    "    likelihood = likelihood,\n",
    "    mean_function = mean_function\n",
    "    )"
   ]
  },
  {
   "cell_type": "code",
   "execution_count": 740,
   "metadata": {},
   "outputs": [
    {
     "data": {
      "text/plain": [
       "  message: CONVERGENCE: REL_REDUCTION_OF_F_<=_FACTR*EPSMCH\n",
       "  success: True\n",
       "   status: 0\n",
       "      fun: 42.25723455886967\n",
       "        x: [ 5.413e-01  5.413e-01 ...  5.236e-02 -6.670e-01]\n",
       "      nit: 65\n",
       "      jac: [ 0.000e+00  0.000e+00 ... -1.372e-03  1.071e-04]\n",
       "     nfev: 76\n",
       "     njev: 76\n",
       " hess_inv: <203x203 LbfgsInvHessProduct with dtype=float64>"
      ]
     },
     "execution_count": 740,
     "metadata": {},
     "output_type": "execute_result"
    }
   ],
   "source": [
    "def training_loss_lasso(model, lambda_val = 0):\n",
    "    base_loss = model.training_loss()\n",
    "    l1_penalty = lambda_val * tf.reduce_sum(tf.abs(model.mean_function.A))\n",
    "    total_loss = base_loss + l1_penalty\n",
    "    return total_loss\n",
    "\n",
    "opt = gpf.optimizers.Scipy()\n",
    "opt.minimize(\n",
    "    lambda: training_loss_lasso(mod4, 0.2), \n",
    "    mod4.trainable_variables,   \n",
    ")"
   ]
  },
  {
   "cell_type": "code",
   "execution_count": 741,
   "metadata": {},
   "outputs": [
    {
     "data": {
      "text/html": [
       "&lt;gpflow.models.gpr.GPR object at 0x48635e710&gt;\n",
       "<table>\n",
       "<thead>\n",
       "<tr><th>name                   </th><th>class    </th><th>transform       </th><th>prior  </th><th>trainable  </th><th>shape   </th><th>dtype  </th><th>value               </th></tr>\n",
       "</thead>\n",
       "<tbody>\n",
       "<tr><td>GPR.mean_function.A    </td><td>Parameter</td><td>Identity        </td><td>       </td><td>True       </td><td>(100, 1)</td><td>float64</td><td>[[-3.52494372e-02...</td></tr>\n",
       "<tr><td>GPR.mean_function.b    </td><td>Parameter</td><td>Identity        </td><td>       </td><td>True       </td><td>(1,)    </td><td>float64</td><td>[-0.66703811]       </td></tr>\n",
       "<tr><td>GPR.kernel.variance    </td><td>Parameter</td><td>Softplus        </td><td>       </td><td>True       </td><td>()      </td><td>float64</td><td>0.047653380237039515</td></tr>\n",
       "<tr><td>GPR.kernel.lengthscales</td><td>Parameter</td><td>Softplus        </td><td>       </td><td>True       </td><td>(100,)  </td><td>float64</td><td>[1., 1., 1....      </td></tr>\n",
       "<tr><td>GPR.likelihood.variance</td><td>Parameter</td><td>Softplus + Shift</td><td>       </td><td>True       </td><td>()      </td><td>float64</td><td>0.04765433836031327 </td></tr>\n",
       "</tbody>\n",
       "</table>"
      ],
      "text/plain": [
       "<gpflow.models.gpr.GPR object at 0x48635e710>\n",
       "╒═════════════════════════╤═══════════╤══════════════════╤═════════╤═════════════╤══════════╤═════════╤══════════════════════╕\n",
       "│ name                    │ class     │ transform        │ prior   │ trainable   │ shape    │ dtype   │ value                │\n",
       "╞═════════════════════════╪═══════════╪══════════════════╪═════════╪═════════════╪══════════╪═════════╪══════════════════════╡\n",
       "│ GPR.mean_function.A     │ Parameter │ Identity         │         │ True        │ (100, 1) │ float64 │ [[-3.52494372e-02... │\n",
       "├─────────────────────────┼───────────┼──────────────────┼─────────┼─────────────┼──────────┼─────────┼──────────────────────┤\n",
       "│ GPR.mean_function.b     │ Parameter │ Identity         │         │ True        │ (1,)     │ float64 │ [-0.66703811]        │\n",
       "├─────────────────────────┼───────────┼──────────────────┼─────────┼─────────────┼──────────┼─────────┼──────────────────────┤\n",
       "│ GPR.kernel.variance     │ Parameter │ Softplus         │         │ True        │ ()       │ float64 │ 0.047653380237039515 │\n",
       "├─────────────────────────┼───────────┼──────────────────┼─────────┼─────────────┼──────────┼─────────┼──────────────────────┤\n",
       "│ GPR.kernel.lengthscales │ Parameter │ Softplus         │         │ True        │ (100,)   │ float64 │ [1., 1., 1....       │\n",
       "├─────────────────────────┼───────────┼──────────────────┼─────────┼─────────────┼──────────┼─────────┼──────────────────────┤\n",
       "│ GPR.likelihood.variance │ Parameter │ Softplus + Shift │         │ True        │ ()       │ float64 │ 0.04765433836031327  │\n",
       "╘═════════════════════════╧═══════════╧══════════════════╧═════════╧═════════════╧══════════╧═════════╧══════════════════════╛"
      ]
     },
     "execution_count": 741,
     "metadata": {},
     "output_type": "execute_result"
    }
   ],
   "source": [
    "mod4"
   ]
  },
  {
   "cell_type": "code",
   "execution_count": 742,
   "metadata": {},
   "outputs": [
    {
     "name": "stdout",
     "output_type": "stream",
     "text": [
      "RMSE Model 4: 0.850\n"
     ]
    }
   ],
   "source": [
    "y_pred4, y_var4 = mod4.predict_y(Xtest)\n",
    "rmse4 = mean_squared_error(ytest, y_pred4, squared=False)\n",
    "print(f'RMSE Model 4: {rmse4:.3f}')"
   ]
  },
  {
   "cell_type": "markdown",
   "metadata": {},
   "source": [
    "#### 4b. Testing Against Different Lambda Values"
   ]
  },
  {
   "cell_type": "code",
   "execution_count": 743,
   "metadata": {},
   "outputs": [],
   "source": [
    "A_init = tf.zeros((m, 1), dtype=tf.float64)\n",
    "b_init = tf.zeros((1,), dtype=tf.float64)\n",
    "\n",
    "kernel = gpf.kernels.SquaredExponential(lengthscales = np.ones(m))\n",
    "likelihood = gpf.likelihoods.Gaussian()\n",
    "mean_function = gpf.functions.Linear(A=A_init, b = b_init) \n",
    "\n",
    "opt = gpf.optimizers.Scipy()"
   ]
  },
  {
   "cell_type": "code",
   "execution_count": 744,
   "metadata": {},
   "outputs": [],
   "source": [
    "rmse_vals_4b = []\n",
    "lbda_vals_4b = []\n",
    "\n",
    "\n",
    "for lbda in np.logspace(-2, 2, 40):\n",
    "    A_init = tf.zeros((m, 1), dtype=tf.float64)\n",
    "    b_init = tf.zeros((1,), dtype=tf.float64)\n",
    "\n",
    "    kernel = gpf.kernels.SquaredExponential(lengthscales = np.ones(m))\n",
    "    likelihood = gpf.likelihoods.Gaussian()\n",
    "    mean_function = gpf.functions.Linear(A=A_init, b = b_init) \n",
    "    mod4b= gpf.models.GPR(\n",
    "        data=(Xtrain, ytrain), \n",
    "        kernel=kernel, \n",
    "        likelihood = likelihood,\n",
    "        mean_function = mean_function\n",
    "        )\n",
    "    \n",
    "    opt.minimize(\n",
    "    lambda: training_loss_lasso(mod4b, lbda), \n",
    "    mod4b.trainable_variables)\n",
    "    y_pred, y_var = mod4b.predict_y(Xtest)\n",
    "    rmse = mean_squared_error(ytest, y_pred, squared=False)\n",
    "\n",
    "    rmse_vals_4b.append(rmse)\n",
    "    lbda_vals_4b.append(lbda)"
   ]
  },
  {
   "cell_type": "code",
   "execution_count": 745,
   "metadata": {},
   "outputs": [
    {
     "data": {
      "image/png": "[encoded data removed]",
      "text/plain": [
       "<Figure size 640x480 with 1 Axes>"
      ]
     },
     "metadata": {},
     "output_type": "display_data"
    }
   ],
   "source": [
    "plt.scatter(lbda_vals_4b, rmse_vals_4b)\n",
    "plt.title('RMSE by Lambda Value for Direct Optimization')\n",
    "plt.ylabel('RMSE')\n",
    "plt.xlabel('Lambda Value')\n",
    "plt.show()"
   ]
  },
  {
   "cell_type": "code",
   "execution_count": 746,
   "metadata": {},
   "outputs": [
    {
     "name": "stdout",
     "output_type": "stream",
     "text": [
      "Lowest RMSE: 0.681\n",
      "Best Lambda: 11.938\n"
     ]
    }
   ],
   "source": [
    "rmse4b = np.min(rmse_vals_4b)\n",
    "lbda4b = lbda_vals_4b[np.argmin(rmse_vals_4b)]\n",
    "\n",
    "print(f'Lowest RMSE: {rmse4b:.3f}')\n",
    "print(f'Best Lambda: {lbda4b:.3f}')"
   ]
  },
  {
   "cell_type": "markdown",
   "metadata": {},
   "source": [
    "## Results of All Models"
   ]
  },
  {
   "cell_type": "code",
   "execution_count": 747,
   "metadata": {},
   "outputs": [
    {
     "data": {
      "image/png": "[encoded data removed]",
      "text/plain": [
       "<Figure size 640x480 with 1 Axes>"
      ]
     },
     "metadata": {},
     "output_type": "display_data"
    }
   ],
   "source": [
    "rmse_vals = [rmse0, rmse1, rmse2, rmse3, rmse4]\n",
    "\n",
    "plt.bar(range(5), rmse_vals)\n",
    "plt.ylabel('RMSE')\n",
    "plt.xlabel('Model')\n",
    "plt.title('RMSE by Model (Lambda = 0.2)')\n",
    "plt.show()"
   ]
  },
  {
   "cell_type": "code",
   "execution_count": 748,
   "metadata": {},
   "outputs": [
    {
     "data": {
      "image/png": "[encoded data removed]",
      "text/plain": [
       "<Figure size 640x480 with 1 Axes>"
      ]
     },
     "metadata": {},
     "output_type": "display_data"
    }
   ],
   "source": [
    "rmse_vals_b = [rmse0, rmse1, rmse2b, rmse3b, rmse4b]\n",
    "\n",
    "plt.bar(range(5), rmse_vals_b)\n",
    "plt.ylabel('RMSE')\n",
    "plt.xlabel('Model')\n",
    "plt.title('RMSE by Model (Variable Lambda)')\n",
    "plt.show()"
   ]
  }
 ],
 "metadata": {
  "kernelspec": {
   "display_name": "Python 3",
   "language": "python",
   "name": "python3"
  },
  "language_info": {
   "codemirror_mode": {
    "name": "ipython",
    "version": 3
   },
   "file_extension": ".py",
   "mimetype": "text/x-python",
   "name": "python",
   "nbconvert_exporter": "python",
   "pygments_lexer": "ipython3",
   "version": "3.10.6"
  }
 },
 "nbformat": 4,
 "nbformat_minor": 2
}
