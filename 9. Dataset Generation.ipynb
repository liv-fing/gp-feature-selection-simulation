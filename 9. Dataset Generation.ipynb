{
 "cells": [
  {
   "cell_type": "markdown",
   "metadata": {},
   "source": [
    "# 9. Dataset Generation"
   ]
  },
  {
   "cell_type": "markdown",
   "metadata": {},
   "source": [
    "**To simulate data:**\n",
    "\n",
    "We can define our simulation output $y_i$ as follows:\n",
    "\n",
    "$$ y_i = f(x_i) + \\varepsilon(x_i) + \\eta_i $$\n",
    "\n",
    "Where:  \n",
    "- $f(x_i) = x_i^\\top \\beta $ represents the linear mean function  \n",
    "- $\\varepsilon(x_i) \\sim \\mathcal{GP}(0, k(x_i, x_i')) $ represents structured noise from a Gaussian Process  \n",
    "- $ \\eta_i \\sim \\mathcal{N}(0, \\sigma^2) $ represents small independent Gaussian noise"
   ]
  },
  {
   "cell_type": "markdown",
   "metadata": {},
   "source": [
    "**Dataset Generation:**\n",
    "\n",
    "This simulation will use 27 unique combinations of dataset parameters to test the models on, defined by combinations of sparsity, sample size, and noise level. Each combination will have 5 replications to stabilize results and assess generalization. \n",
    "\n",
    "Fixed characteristics:\n",
    "- Dimensionality: 30 features\n",
    "- Lengthscale Values: Random, positive, and independently assigned per feature\n",
    "\n",
    "Variable characteristics:\n",
    "- Active Proportion: [0.10, 0.20, 0.30]\n",
    "- Sample Size: [100, 500, 1000]\n",
    "- i.i.d. Gaussian noise: [0.1, 0.5, 1.0]\n",
    "\n"
   ]
  },
  {
   "cell_type": "code",
   "execution_count": 6,
   "metadata": {},
   "outputs": [],
   "source": [
    "import pandas as pd\n",
    "import numpy as np\n",
    "import itertools\n",
    "import os\n",
    "import json\n",
    "from sklearn.metrics.pairwise import euclidean_distances\n",
    "from sklearn.preprocessing import StandardScaler\n",
    "\n",
    "output_dir = \"Simulation Datasets\"\n",
    "os.makedirs(output_dir, exist_ok=True)"
   ]
  },
  {
   "cell_type": "code",
   "execution_count": 7,
   "metadata": {},
   "outputs": [],
   "source": [
    "def sim_sparse_lin_mean(n = 100, active_prop = 0.10, noise = 0.1, seed = 22):\n",
    "\n",
    "    np.random.seed(seed) # set seed\n",
    "    m = 30 # number of dimensions\n",
    "    X = np.random.randn(n,m) # generate i.i.d standard normal data\n",
    "\n",
    "    # construct linear mean\n",
    "    beta = np.zeros(m)\n",
    "    active_num = int(np.floor(m * active_prop)) # integer number of active dimensions\n",
    "    active_indices = np.random.choice(m, size=active_num, replace=False) # randomly choose indices from range of m features\n",
    "    beta[active_indices] = np.random.uniform(low = -5, high = 5, size = active_num) # assign values\n",
    "    lin_mean = X @ beta \n",
    "\n",
    "    # GP kernel input features\n",
    "    gp_features = np.random.choice(active_indices, size=min(3, active_num), replace=False) # choose subset of 3 of the linear features\n",
    "    X_gp = X[:, gp_features]\n",
    "    sigma = 0.5\n",
    "\n",
    "    # generate different lengthscales for each GP input feature\n",
    "    lengthscales = np.random.lognormal(mean=0, sigma=0.5, size=len(gp_features)) # log-normal prior\n",
    "    X_gp_scaled = X_gp / lengthscales\n",
    "    sq_norms = np.sum(X_gp_scaled**2, axis=1).reshape(-1, 1)\n",
    "    dists = sq_norms + sq_norms.T - 2 * (X_gp_scaled @ X_gp_scaled.T)\n",
    "    K = sigma**2 * np.exp(-0.5 * dists)\n",
    "\n",
    "    # construct GP noise\n",
    "    gp_noise = np.random.multivariate_normal(mean = np.zeros(n), cov = K)\n",
    "\n",
    "    # iid normal noise\n",
    "    eta = np.random.normal(0, noise, size = n)\n",
    "\n",
    "    # combined\n",
    "    y = lin_mean + gp_noise + eta\n",
    "\n",
    "    return X, y, beta, lengthscales, active_indices, gp_features"
   ]
  },
  {
   "cell_type": "code",
   "execution_count": 22,
   "metadata": {},
   "outputs": [],
   "source": [
    "param_grid = {\n",
    "    'n': [100, 500, 1000],\n",
    "    'active_prop': [0.10, 0.20, 0.30],\n",
    "    'noise': [0.1, 0.5, 1.0]}\n",
    "\n",
    "param_combinations = list(itertools.product(\n",
    "    param_grid['n'],\n",
    "    param_grid['active_prop'],\n",
    "    param_grid['noise']\n",
    "))\n",
    "\n",
    "num_reps = 5"
   ]
  },
  {
   "cell_type": "code",
   "execution_count": 23,
   "metadata": {},
   "outputs": [],
   "source": [
    "for i, (n, active_prop, noise) in enumerate(param_combinations):\n",
    "    for rep in range(num_reps):\n",
    "        seed = i * num_reps + rep\n",
    "\n",
    "        X, y, beta, lengthscales, active_indices, gp_features = sim_sparse_lin_mean(\n",
    "            n = n,\n",
    "            active_prop = active_prop,\n",
    "            noise = noise,\n",
    "            seed = seed\n",
    "        )\n",
    "\n",
    "\n",
    "        unique_name = f\"N{n}_AP{active_prop*100:.0f}_noise{noise:.1f}_seed{seed}\"\n",
    "        folder_path = os.path.join(output_dir, unique_name)\n",
    "        os.makedirs(folder_path, exist_ok=True)\n",
    "\n",
    "        # save files\n",
    "        Xy = pd.DataFrame(X, columns=[f\"x{j}\" for j in range(X.shape[1])])\n",
    "        Xy[\"y\"] = y\n",
    "        Xy.to_csv(os.path.join(folder_path, f\"{unique_name}_data.csv\"), index=False)\n",
    "\n",
    "        meta = {\n",
    "            \"n\": n,\n",
    "            \"active_prop\": active_prop,\n",
    "            \"noise\": noise,\n",
    "            \"seed\": seed,\n",
    "            \"active_indices\": active_indices.tolist(),\n",
    "            \"gp_features\": gp_features.tolist(),\n",
    "            \"lengthscales\": lengthscales.tolist(),\n",
    "            \"beta\": beta.tolist()}\n",
    "        with open(os.path.join(folder_path, f\"{unique_name}_meta.json\"), \"w\") as f:\n",
    "            json.dump(meta, f, indent=4)"
   ]
  }
 ],
 "metadata": {
  "kernelspec": {
   "display_name": "Python 3",
   "language": "python",
   "name": "python3"
  },
  "language_info": {
   "codemirror_mode": {
    "name": "ipython",
    "version": 3
   },
   "file_extension": ".py",
   "mimetype": "text/x-python",
   "name": "python",
   "nbconvert_exporter": "python",
   "pygments_lexer": "ipython3",
   "version": "3.10.6"
  }
 },
 "nbformat": 4,
 "nbformat_minor": 2
}
