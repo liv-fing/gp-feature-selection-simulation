{
 "cells": [
  {
   "cell_type": "markdown",
   "metadata": {},
   "source": [
    "# 10. Running Simulation on Synthetic Datasets"
   ]
  },
  {
   "cell_type": "code",
   "execution_count": 55,
   "metadata": {},
   "outputs": [],
   "source": [
    "from joblib import Parallel, delayed\n",
    "from gp_feature_select import GPFeatureSelect\n",
    "import numpy as np\n",
    "import pandas as pd\n",
    "import json\n",
    "import os\n",
    "\n",
    "from sklearn.model_selection import train_test_split"
   ]
  },
  {
   "cell_type": "markdown",
   "metadata": {},
   "source": [
    "# testing GPFeatureSelect with a simple dataset\n",
    "\n",
    "Xtrain = pd.read_csv('Simulation Datasets/N11000_AP10_noise0.1_seed0/Size500/Rep1.csv').drop(columns='y') \n",
    "ytrain = pd.read_csv('Simulation Datasets/N11000_AP10_noise0.1_seed0/Size500/Rep1.csv')['y']\n",
    "\n",
    "mod = GPFeatureSelect(model_type = 'lasso_ard')\n",
    "mod.fit(Xtrain, ytrain)\n"
   ]
  },
  {
   "cell_type": "markdown",
   "metadata": {},
   "source": [
    "### Actual Simulation"
   ]
  },
  {
   "cell_type": "code",
   "execution_count": 56,
   "metadata": {},
   "outputs": [],
   "source": [
    "def run_one_synthetic(unique_name, size, num_rep, model_type, seed):\n",
    "\n",
    "    meta_path = f'Simulation Datasets/{unique_name}/{unique_name}_meta.json'\n",
    "    test_path = f'Simulation Datasets/{unique_name}/{unique_name}_test.csv'\n",
    "\n",
    "    data_path = f'Simulation Datasets/{unique_name}/Size{size}/Rep{num_rep}.csv' \n",
    "\n",
    "    X = pd.read_csv(data_path).drop(columns='y') \n",
    "    y = pd.read_csv(data_path)['y']\n",
    "\n",
    "    Xtest = pd.read_csv(test_path).drop(columns='y')\n",
    "    ytest = pd.read_csv(test_path)['y']\n",
    "\n",
    "    # open meta data and true beta values\n",
    "    with open(meta_path, 'r') as f:\n",
    "        meta = json.load(f)\n",
    "    beta_true = np.array(meta['beta'])\n",
    "                \n",
    "\n",
    "    mod = GPFeatureSelect(model_type=model_type)\n",
    "    mod.fit(X, y)\n",
    "    results = mod.get_metrics(X, y, Xtest, ytest, beta_true=beta_true)\n",
    "\n",
    "    for k, v in results.items():\n",
    "        if isinstance(v, np.ndarray):\n",
    "            results[k] = v.tolist()\n",
    "\n",
    "    # store results in a file in the proper folder\n",
    "    results_path = f'Simulation Datasets/{unique_name}/Size{size}/Rep{num_rep}_{model_type}results.json'\n",
    "    # if the directory already exists, skip saving  \n",
    "    if os.path.exists(results_path):\n",
    "        print(f\"Results file {results_path} already exists, skipping save.\")\n",
    "        return\n",
    "\n",
    "    with open(results_path, 'w') as f:\n",
    "        json.dump(results, f, indent=4)\n",
    "\n",
    "def extract_seed(unique_name):\n",
    "    seed_str = unique_name.split('_')[-1]\n",
    "    return int(seed_str.replace('seed', ''))\n",
    "\n"
   ]
  },
  {
   "cell_type": "code",
   "execution_count": 61,
   "metadata": {},
   "outputs": [
    {
     "name": "stdout",
     "output_type": "stream",
     "text": [
      "Extracting Seed from N11000_AP20_noise1.0_seed5: 5\n"
     ]
    }
   ],
   "source": [
    "root_dir = 'Simulation Datasets'\n",
    "unique_names = [d for d in os.listdir(root_dir) if os.path.isdir(os.path.join(root_dir, d))]\n",
    "\n",
    "print(f'Extracting Seed from {unique_names[0]}: {extract_seed(unique_names[0])}')\n",
    "\n",
    "model_types = ['std', 'ard', 'lasso_std', 'lasso_ard', 'l1_gp']\n",
    "\n",
    "sizes = [500, 1000] # can also do 50 or 2000\n",
    "num_reps = 5"
   ]
  },
  {
   "cell_type": "code",
   "execution_count": 60,
   "metadata": {},
   "outputs": [
    {
     "name": "stderr",
     "output_type": "stream",
     "text": [
      "[Parallel(n_jobs=-1)]: Using backend LokyBackend with 10 concurrent workers.\n",
      "[Parallel(n_jobs=-1)]: Done   5 tasks      | elapsed:    4.4s\n",
      "[Parallel(n_jobs=-1)]: Done  12 tasks      | elapsed:   16.4s\n",
      "[Parallel(n_jobs=-1)]: Done  21 tasks      | elapsed:   40.7s\n",
      "[Parallel(n_jobs=-1)]: Done  30 tasks      | elapsed:  8.3min\n",
      "[Parallel(n_jobs=-1)]: Done  41 tasks      | elapsed: 42.9min\n",
      "[Parallel(n_jobs=-1)]: Done  52 tasks      | elapsed: 46.7min\n",
      "[Parallel(n_jobs=-1)]: Done  65 tasks      | elapsed: 59.1min\n",
      "[Parallel(n_jobs=-1)]: Done  78 tasks      | elapsed: 89.5min\n",
      "[Parallel(n_jobs=-1)]: Done  93 tasks      | elapsed: 173.0min\n",
      "[Parallel(n_jobs=-1)]: Done 108 tasks      | elapsed: 251.3min\n",
      "[Parallel(n_jobs=-1)]: Done 125 tasks      | elapsed: 429.3min\n",
      "[Parallel(n_jobs=-1)]: Done 142 tasks      | elapsed: 446.8min\n",
      "[Parallel(n_jobs=-1)]: Done 161 tasks      | elapsed: 463.5min\n",
      "[Parallel(n_jobs=-1)]: Done 180 tasks      | elapsed: 472.2min\n",
      "[Parallel(n_jobs=-1)]: Done 201 tasks      | elapsed: 513.5min\n",
      "[Parallel(n_jobs=-1)]: Done 222 tasks      | elapsed: 528.5min\n",
      "[Parallel(n_jobs=-1)]: Done 245 tasks      | elapsed: 553.0min\n",
      "[Parallel(n_jobs=-1)]: Done 268 tasks      | elapsed: 635.8min\n",
      "[Parallel(n_jobs=-1)]: Done 293 tasks      | elapsed: 694.8min\n",
      "[Parallel(n_jobs=-1)]: Done 318 tasks      | elapsed: 731.6min\n",
      "[Parallel(n_jobs=-1)]: Done 345 tasks      | elapsed: 819.0min\n",
      "[Parallel(n_jobs=-1)]: Done 372 tasks      | elapsed: 972.1min\n",
      "[Parallel(n_jobs=-1)]: Done 401 tasks      | elapsed: 1092.3min\n",
      "[Parallel(n_jobs=-1)]: Done 430 tasks      | elapsed: 1192.8min\n"
     ]
    }
   ],
   "source": [
    "sim_synthetic = Parallel(n_jobs=-1, verbose=10)(\n",
    "    delayed(run_one_synthetic)(unique_name, size, num_rep, model_type, extract_seed(unique_name)) \n",
    "    for unique_name in unique_names\n",
    "    for size in sizes\n",
    "    for num_rep in range(1, num_reps + 1)\n",
    "    for model_type in model_types)"
   ]
  }
 ],
 "metadata": {
  "kernelspec": {
   "display_name": "Python 3",
   "language": "python",
   "name": "python3"
  },
  "language_info": {
   "codemirror_mode": {
    "name": "ipython",
    "version": 3
   },
   "file_extension": ".py",
   "mimetype": "text/x-python",
   "name": "python",
   "nbconvert_exporter": "python",
   "pygments_lexer": "ipython3",
   "version": "3.10.6"
  }
 },
 "nbformat": 4,
 "nbformat_minor": 2
}
