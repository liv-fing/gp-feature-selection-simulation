{
 "cells": [
  {
   "cell_type": "markdown",
   "metadata": {},
   "source": [
    "# 10. Running Simulation on Synthetic Datasets"
   ]
  },
  {
   "cell_type": "code",
   "execution_count": 9,
   "metadata": {},
   "outputs": [],
   "source": [
    "from joblib import Parallel, delayed\n",
    "from gp_feature_select import GPFeatureSelect\n",
    "import numpy as np\n",
    "import pandas as pd\n",
    "import json\n",
    "\n",
    "from sklearn.model_selection import train_test_split"
   ]
  },
  {
   "cell_type": "code",
   "execution_count": 6,
   "metadata": {},
   "outputs": [],
   "source": [
    "mod = GPFeatureSelect(model_type='std')\n",
    "mod.fit(X_train, y_train)\n",
    "mod."
   ]
  },
  {
   "cell_type": "code",
   "execution_count": null,
   "metadata": {},
   "outputs": [],
   "source": [
    "def run_sim_synthetic(n):\n",
    "\n",
    "    for i in range(idk):\n",
    "\n",
    "        # load data # can i search by just seed instead of the full unique name? \n",
    "        unique_name = 'N500_AP10_noise0.1_seed49'\n",
    "        data_path = 'Simulation Datasets/{unique_name}/{unique_name}_data.csv'\n",
    "        meta_path = 'Simulation Datasets/{unique_name}/{unique_name}_meta.json'\n",
    "\n",
    "        data = pd.read_csv(data_path)   \n",
    "        X = data.drop(columns = 'y')\n",
    "        y = data['y']\n",
    "        Xtrain, Xtest, ytrain, ytest = train_test_split(X, y, test_size=0.2, random_state=i)\n",
    "\n",
    "        # open meta data and true beta values\n",
    "        with open(meta_path, 'r') as f:\n",
    "            meta = json.load(f)\n",
    "        beta_true = np.array(meta['beta'])\n",
    "        \n",
    "        types = ['std', 'ard', 'lasso_std', 'lasso_ard', 'l1_gp']\n",
    "        for i in range(5):\n",
    "            type = types[i]\n",
    "            mod = GPFeatureSelect(model_type=type)\n",
    "            mod.fit(Xtrain, ytrain)\n",
    "            results = mod.get_metrics(Xtrain, ytrain, Xtest, ytest, beta_true=beta_true)\n",
    "\n",
    "            # store results in a file in the proper folder\n",
    "            results_path = f'Simulation Datasets/{unique_name}/{unique_name}_results.json'\n",
    "\n",
    "\n"
   ]
  },
  {
   "cell_type": "code",
   "execution_count": 3,
   "metadata": {},
   "outputs": [
    {
     "data": {
      "text/plain": [
       "(0.0, 0.5, 0.0, 0.5, 0.0, 0.5, 0.0, 0.5, 0.0, 0.5)"
      ]
     },
     "execution_count": 3,
     "metadata": {},
     "output_type": "execute_result"
    }
   ],
   "source": [
    "from math import modf\n",
    "\n",
    "\n",
    "sim_synthetic = Parallel(n_jobs=2, verbose=10)(\n",
    "    delayed(modf)(i/2.) for i in range(10))\n",
    "\n",
    "\n",
    "\n",
    "\n",
    "res, i = zip(*r)\n",
    "res"
   ]
  },
  {
   "cell_type": "code",
   "execution_count": 8,
   "metadata": {},
   "outputs": [
    {
     "ename": "SyntaxError",
     "evalue": "invalid syntax (3237922024.py, line 1)",
     "output_type": "error",
     "traceback": [
      "\u001b[0;36m  Cell \u001b[0;32mIn[8], line 1\u001b[0;36m\u001b[0m\n\u001b[0;31m    jupyter nbconvert --to python /Users/liviafingerson/Documents/GitHub/IEMS399-GP/GPFeatureSelect.ipynb\u001b[0m\n\u001b[0m            ^\u001b[0m\n\u001b[0;31mSyntaxError\u001b[0m\u001b[0;31m:\u001b[0m invalid syntax\n"
     ]
    }
   ],
   "source": []
  }
 ],
 "metadata": {
  "kernelspec": {
   "display_name": "Python 3",
   "language": "python",
   "name": "python3"
  },
  "language_info": {
   "codemirror_mode": {
    "name": "ipython",
    "version": 3
   },
   "file_extension": ".py",
   "mimetype": "text/x-python",
   "name": "python",
   "nbconvert_exporter": "python",
   "pygments_lexer": "ipython3",
   "version": "3.10.6"
  }
 },
 "nbformat": 4,
 "nbformat_minor": 2
}
