{
 "cells": [
  {
   "cell_type": "markdown",
   "id": "68ddaca4",
   "metadata": {},
   "source": [
    "## Hierarchical GP with Bilby"
   ]
  },
  {
   "cell_type": "code",
   "execution_count": null,
   "id": "4ddcc172",
   "metadata": {},
   "outputs": [],
   "source": [
    "import pandas as pd\n",
    "import numpy as np\n",
    "import matplotlib.pyplot as plt\n",
    "import bilby\n",
    "from bilby.core.utils import random\n",
    "import json\n",
    "\n",
    "# set up\n",
    "random.seed(123)\n",
    "label = \"GP\"\n",
    "outdir = \"outdir\"\n",
    "bilby.utils.check_directory_exists_and_if_not_mkdir(outdir)\n",
    "\n",
    "sample_dat_path = \"../synthetic_data/N11000_AP10_noise0.5_seed1/Size500/Rep3.csv\"\n",
    "sample_dat = pd.read_csv(sample_dat_path)\n",
    "\n",
    "val_dat_path = \"../synthetic_data/N11000_AP10_noise0.5_seed1/N11000_AP10_noise0.5_seed1_meta.json\"\n",
    "with open(val_dat_path, 'r') as f:\n",
    "    val_dat = json.load(f)\n",
    "\n",
    "from sklearn.model_selection import train_test_split\n",
    "\n",
    "X = sample_dat.iloc[:, :-1].values  #all columns except the last\n",
    "y = sample_dat.iloc[:, -1].values   #last column\n",
    "\n",
    "Xtrain, Xtest, ytrain, ytest = train_test_split(X, y, test_size=0.2, random_state=22)"
   ]
  },
  {
   "cell_type": "code",
   "execution_count": null,
   "id": "e4ef2c05",
   "metadata": {},
   "outputs": [],
   "source": [
    "# custom likelihood for multi-dimensional linear regression\n",
    "class HierarchicalGP(bilby.Likelihood):\n",
    "    def __init__(self, X, y, sigma):\n",
    "        # store data\n",
    "        self.X = np.asarray(X)\n",
    "        self.y = np.asarray(y)\n",
    "        self.sigma = sigma\n",
    "\n",
    "        # define parameters\n",
    "        parameters = {f\"beta{i}\": None for i in range(self.X.shape[1])}\n",
    "        super().__init__(parameters=parameters)\n",
    "\n",
    "    def log_likelihood(self):\n",
    "        betas = np.array([self.parameters[f\"beta{i}\"] for i in range(self.X.shape[1])])\n",
    "        y_model = self.X @ betas\n",
    "        residual = self.y - y_model\n",
    "        return np.sum(-0.5 * (residual / self.sigma) ** 2 - 0.5 * np.log(2 * np.pi * self.sigma ** 2)) # log likelihood for Gaussian noise"
   ]
  },
  {
   "cell_type": "code",
   "execution_count": null,
   "id": "3ff7b943",
   "metadata": {},
   "outputs": [],
   "source": [
    "# model function\n",
    "\n",
    "def model_function(X, **params): \n",
    "    betas = np.array([params[f\"beta{i}\"] for i in range(X.shape[1])]) # make beta for each column\n",
    "    return X @ betas \n",
    "\n",
    "# make priors\n",
    "priors = dict()\n",
    "for i in range(30):\n",
    "    priors[f\"beta{i}\"] = bilby.core.prior.Uniform(-5, 5, f\"beta{i}\") # define uniform priors for each beta coefficient\n",
    "\n",
    "# define the likelihood based on the Gaussian noise model\n",
    "likelihood = LinearRegressionLikelihood(\n",
    "    X = Xtrain,\n",
    "    y = ytrain,\n",
    "    sigma = 0.5)\n",
    "\n",
    "#define injection parameters for validation (true coefficient values)\n",
    "injection_parameters = {\n",
    "   f\"beta{i}\": val_dat['beta'][i] for i in range(len(val_dat['beta']))}\n",
    "\n",
    "# run MCMC sampler\n",
    "result = bilby.run_sampler(\n",
    "    likelihood=likelihood, # likelihood function\n",
    "    priors=priors, # prior distributions\n",
    "    sampler=\"dynesty\", \n",
    "    nlive=250,\n",
    "    injection_parameters=injection_parameters, # used for validation\n",
    "    outdir=outdir,\n",
    "    label=label\n",
    "    #plot=True\n",
    ")"
   ]
  }
 ],
 "metadata": {
  "language_info": {
   "name": "python"
  }
 },
 "nbformat": 4,
 "nbformat_minor": 5
}
