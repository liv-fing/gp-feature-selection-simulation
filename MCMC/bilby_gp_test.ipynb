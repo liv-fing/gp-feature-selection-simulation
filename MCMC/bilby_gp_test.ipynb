{
 "cells": [
  {
   "cell_type": "markdown",
   "id": "68ddaca4",
   "metadata": {},
   "source": [
    "## Hierarchical GP with Bilby"
   ]
  },
  {
   "cell_type": "code",
   "execution_count": 2,
   "id": "4ddcc172",
   "metadata": {},
   "outputs": [],
   "source": [
    "import pandas as pd\n",
    "import numpy as np\n",
    "import matplotlib.pyplot as plt\n",
    "import bilby\n",
    "from bilby.core.utils import random\n",
    "import json\n",
    "\n",
    "# set up\n",
    "random.seed(123)\n",
    "label = \"GP\"\n",
    "outdir = \"outdir\"\n",
    "bilby.utils.check_directory_exists_and_if_not_mkdir(outdir)\n",
    "\n",
    "sample_dat_path = \"../synthetic_data/N11000_AP10_noise0.5_seed1/Size500/Rep3.csv\"\n",
    "sample_dat = pd.read_csv(sample_dat_path)\n",
    "\n",
    "val_dat_path = \"../synthetic_data/N11000_AP10_noise0.5_seed1/N11000_AP10_noise0.5_seed1_meta.json\"\n",
    "with open(val_dat_path, 'r') as f:\n",
    "    val_dat = json.load(f)\n",
    "\n",
    "from sklearn.model_selection import train_test_split\n",
    "\n",
    "X = sample_dat.iloc[:, :-1].values  #all columns except the last\n",
    "y = sample_dat.iloc[:, -1].values   #last column\n",
    "\n",
    "Xtrain, Xtest, ytrain, ytest = train_test_split(X, y, test_size=0.2, random_state=22)"
   ]
  },
  {
   "cell_type": "code",
   "execution_count": 1,
   "id": "4dd0bae1",
   "metadata": {},
   "outputs": [],
   "source": [
    "# helper function to compute the RBF kernel\n",
    "def rbf_kernel(X, ell, sigma_gp):\n",
    "    N = X.shape[0]\n",
    "    K = np.zeros((N, N))\n",
    "    for i in range(N):\n",
    "        for j in range(N):\n",
    "            diff = X[i] - X[j] / ell\n",
    "            K[i, j] = sigma_gp**2 * np.exp(-0.5 * np.dot(diff, diff))\n",
    "    return K\n",
    "        "
   ]
  },
  {
   "cell_type": "code",
   "execution_count": null,
   "id": "e4ef2c05",
   "metadata": {},
   "outputs": [],
   "source": [
    "# custom likelihood for multi-dimensional linear regression\n",
    "class HierarchicalGPLikelihood(bilby.Likelihood):\n",
    "    def __init__(self, X, y):\n",
    "        # store data\n",
    "        self.X = np.asarray(X)\n",
    "        self.y = np.asarray(y)\n",
    "\n",
    "        # define parameters\n",
    "        parameters = {}\n",
    "        for i in range(self.X.shape[1]):\n",
    "            parameters[f\"beta{i}\"] = None\n",
    "\n",
    "        for i in range(self.X.shape[1]):\n",
    "            parameters[f\"tau{i}\"] = None\n",
    "        \n",
    "        # lengthscale\n",
    "        for i in range(self.X.shape[1]):\n",
    "            parameters[f\"ell{i}\"] = None\n",
    "\n",
    "        parameters[\"sigma_noise\"] = None\n",
    "        parameters[\"sigma_gp\"] = None\n",
    "        parameters[\"lambda\"] = None\n",
    "        \n",
    "        super().__init__(parameters=parameters)\n",
    "\n",
    "\n",
    "\n",
    "    def log_likelihood(self):\n",
    "\n",
    "        betas = np.array([self.parameters[f\"beta{i}\"] for i in range(self.X.shape[1])])\n",
    "        lin_mean = self.X @ betas \n",
    "\n",
    "        residual = self.y - lin_mean\n",
    "\n",
    "        log_likelihood = ...\n",
    "        return log_likelihood\n"
   ]
  },
  {
   "cell_type": "code",
   "execution_count": null,
   "id": "3ff7b943",
   "metadata": {},
   "outputs": [],
   "source": [
    "# model function\n",
    "\n",
    "def model_function(X, **params): \n",
    "    betas = np.array([params[f\"beta{i}\"] for i in range(X.shape[1])]) # make beta for each column\n",
    "    return X @ betas \n",
    "\n",
    "# make priors\n",
    "priors = dict()\n",
    "for i in range(30):\n",
    "    priors[f\"beta{i}\"] = bilby.core.prior.Uniform(-5, 5, f\"beta{i}\") # define uniform priors for each beta coefficient\n",
    "\n",
    "\n",
    "\n",
    "# define the likelihood based on the Gaussian noise model\n",
    "likelihood = HierarchicalGPLikelihood(\n",
    "    X = Xtrain,\n",
    "    y = ytrain)\n",
    "\n",
    "# run MCMC sampler\n",
    "result = bilby.run_sampler(\n",
    "    likelihood=likelihood, # likelihood function\n",
    "    priors=priors, # prior distributions\n",
    "    sampler=\"dynesty\", \n",
    "    nlive=250,\n",
    "    outdir=outdir,\n",
    "    label=label\n",
    "    #plot=True\n",
    ")"
   ]
  }
 ],
 "metadata": {
  "kernelspec": {
   "display_name": ".venv",
   "language": "python",
   "name": "python3"
  },
  "language_info": {
   "codemirror_mode": {
    "name": "ipython",
    "version": 3
   },
   "file_extension": ".py",
   "mimetype": "text/x-python",
   "name": "python",
   "nbconvert_exporter": "python",
   "pygments_lexer": "ipython3",
   "version": "3.13.5"
  }
 },
 "nbformat": 4,
 "nbformat_minor": 5
}
