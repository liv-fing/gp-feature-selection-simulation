{
 "cells": [
  {
   "cell_type": "markdown",
   "id": "10616685",
   "metadata": {},
   "source": [
    "# Bilby Test Run\n",
    "\n",
    "Estimating GP linear coefficients with MCMC"
   ]
  },
  {
   "cell_type": "code",
   "execution_count": 1,
   "id": "8b0ccec4",
   "metadata": {},
   "outputs": [],
   "source": [
    "import pandas as pd\n",
    "import numpy as np\n",
    "import matplotlib.pyplot as plt\n",
    "import bilby\n",
    "from bilby.core.utils import random\n",
    "import json"
   ]
  },
  {
   "cell_type": "code",
   "execution_count": 2,
   "id": "864d4fed",
   "metadata": {},
   "outputs": [],
   "source": [
    "# set up\n",
    "random.seed(123)\n",
    "label = \"test\"\n",
    "outdir = \"outdir\"\n",
    "bilby.utils.check_directory_exists_and_if_not_mkdir(outdir)"
   ]
  },
  {
   "cell_type": "code",
   "execution_count": 3,
   "id": "e83855b3",
   "metadata": {},
   "outputs": [],
   "source": [
    "sample_dat_path = \"../synthetic_data/N11000_AP10_noise0.5_seed1/Size500/Rep3.csv\"\n",
    "sample_dat = pd.read_csv(sample_dat_path)\n",
    "\n",
    "val_dat_path = \"../synthetic_data/N11000_AP10_noise0.5_seed1/N11000_AP10_noise0.5_seed1_meta.json\"\n",
    "with open(val_dat_path, 'r') as f:\n",
    "    val_dat = json.load(f)\n",
    "\n",
    "from sklearn.model_selection import train_test_split\n",
    "\n",
    "X = sample_dat.iloc[:, :-1].values  #all columns except the last\n",
    "y = sample_dat.iloc[:, -1].values   #last column\n",
    "\n",
    "Xtrain, Xtest, ytrain, ytest = train_test_split(X, y, test_size=0.2, random_state=22)"
   ]
  },
  {
   "cell_type": "code",
   "execution_count": 50,
   "id": "0e209fcb",
   "metadata": {},
   "outputs": [],
   "source": [
    "# custom likelihood for multi-dimensional linear regression\n",
    "class LinearRegressionLikelihood(bilby.Likelihood):\n",
    "    def __init__(self, X, y, sigma):\n",
    "        # store data\n",
    "        self.X = np.asarray(X)\n",
    "        self.y = np.asarray(y)\n",
    "        self.sigma = sigma\n",
    "\n",
    "        # define parameters\n",
    "        parameters = {f\"beta{i}\": None for i in range(self.X.shape[1])}\n",
    "        super().__init__(parameters=parameters)\n",
    "\n",
    "    def log_likelihood(self):\n",
    "        betas = np.array([self.parameters[f\"beta{i}\"] for i in range(self.X.shape[1])])\n",
    "        y_model = self.X @ betas\n",
    "        residual = self.y - y_model\n",
    "        return np.sum(-0.5 * (residual / self.sigma) ** 2 - 0.5 * np.log(2 * np.pi * self.sigma ** 2)) # log likelihood for Gaussian noise"
   ]
  },
  {
   "cell_type": "code",
   "execution_count": 7,
   "id": "d22be27b",
   "metadata": {},
   "outputs": [
    {
     "name": "stderr",
     "output_type": "stream",
     "text": [
      "13:55 bilby INFO    : Running for label 'test', output will be saved to 'outdir'\n",
      "13:55 bilby INFO    : Analysis priors:\n",
      "13:55 bilby INFO    : beta0=Uniform(minimum=-5, maximum=5, name='beta0', latex_label='beta0', unit=None, boundary=None)\n",
      "13:55 bilby INFO    : beta1=Uniform(minimum=-5, maximum=5, name='beta1', latex_label='beta1', unit=None, boundary=None)\n",
      "13:55 bilby INFO    : beta2=Uniform(minimum=-5, maximum=5, name='beta2', latex_label='beta2', unit=None, boundary=None)\n",
      "13:55 bilby INFO    : beta3=Uniform(minimum=-5, maximum=5, name='beta3', latex_label='beta3', unit=None, boundary=None)\n",
      "13:55 bilby INFO    : beta4=Uniform(minimum=-5, maximum=5, name='beta4', latex_label='beta4', unit=None, boundary=None)\n",
      "13:55 bilby INFO    : beta5=Uniform(minimum=-5, maximum=5, name='beta5', latex_label='beta5', unit=None, boundary=None)\n",
      "13:55 bilby INFO    : beta6=Uniform(minimum=-5, maximum=5, name='beta6', latex_label='beta6', unit=None, boundary=None)\n",
      "13:55 bilby INFO    : beta7=Uniform(minimum=-5, maximum=5, name='beta7', latex_label='beta7', unit=None, boundary=None)\n",
      "13:55 bilby INFO    : beta8=Uniform(minimum=-5, maximum=5, name='beta8', latex_label='beta8', unit=None, boundary=None)\n",
      "13:55 bilby INFO    : beta9=Uniform(minimum=-5, maximum=5, name='beta9', latex_label='beta9', unit=None, boundary=None)\n",
      "13:55 bilby INFO    : beta10=Uniform(minimum=-5, maximum=5, name='beta10', latex_label='beta10', unit=None, boundary=None)\n",
      "13:55 bilby INFO    : beta11=Uniform(minimum=-5, maximum=5, name='beta11', latex_label='beta11', unit=None, boundary=None)\n",
      "13:55 bilby INFO    : beta12=Uniform(minimum=-5, maximum=5, name='beta12', latex_label='beta12', unit=None, boundary=None)\n",
      "13:55 bilby INFO    : beta13=Uniform(minimum=-5, maximum=5, name='beta13', latex_label='beta13', unit=None, boundary=None)\n",
      "13:55 bilby INFO    : beta14=Uniform(minimum=-5, maximum=5, name='beta14', latex_label='beta14', unit=None, boundary=None)\n",
      "13:55 bilby INFO    : beta15=Uniform(minimum=-5, maximum=5, name='beta15', latex_label='beta15', unit=None, boundary=None)\n",
      "13:55 bilby INFO    : beta16=Uniform(minimum=-5, maximum=5, name='beta16', latex_label='beta16', unit=None, boundary=None)\n",
      "13:55 bilby INFO    : beta17=Uniform(minimum=-5, maximum=5, name='beta17', latex_label='beta17', unit=None, boundary=None)\n",
      "13:55 bilby INFO    : beta18=Uniform(minimum=-5, maximum=5, name='beta18', latex_label='beta18', unit=None, boundary=None)\n",
      "13:55 bilby INFO    : beta19=Uniform(minimum=-5, maximum=5, name='beta19', latex_label='beta19', unit=None, boundary=None)\n",
      "13:55 bilby INFO    : beta20=Uniform(minimum=-5, maximum=5, name='beta20', latex_label='beta20', unit=None, boundary=None)\n",
      "13:55 bilby INFO    : beta21=Uniform(minimum=-5, maximum=5, name='beta21', latex_label='beta21', unit=None, boundary=None)\n",
      "13:55 bilby INFO    : beta22=Uniform(minimum=-5, maximum=5, name='beta22', latex_label='beta22', unit=None, boundary=None)\n",
      "13:55 bilby INFO    : beta23=Uniform(minimum=-5, maximum=5, name='beta23', latex_label='beta23', unit=None, boundary=None)\n",
      "13:55 bilby INFO    : beta24=Uniform(minimum=-5, maximum=5, name='beta24', latex_label='beta24', unit=None, boundary=None)\n",
      "13:55 bilby INFO    : beta25=Uniform(minimum=-5, maximum=5, name='beta25', latex_label='beta25', unit=None, boundary=None)\n",
      "13:55 bilby INFO    : beta26=Uniform(minimum=-5, maximum=5, name='beta26', latex_label='beta26', unit=None, boundary=None)\n",
      "13:55 bilby INFO    : beta27=Uniform(minimum=-5, maximum=5, name='beta27', latex_label='beta27', unit=None, boundary=None)\n",
      "13:55 bilby INFO    : beta28=Uniform(minimum=-5, maximum=5, name='beta28', latex_label='beta28', unit=None, boundary=None)\n",
      "13:55 bilby INFO    : beta29=Uniform(minimum=-5, maximum=5, name='beta29', latex_label='beta29', unit=None, boundary=None)\n",
      "13:55 bilby INFO    : Analysis likelihood class: <class '__main__.LinearRegressionLikelihood'>\n",
      "13:55 bilby INFO    : Analysis likelihood noise evidence: nan\n",
      "13:55 bilby INFO    : Single likelihood evaluation took 1.299e-04 s\n",
      "13:55 bilby INFO    : Using sampler Dynesty with kwargs {'nlive': 250, 'bound': 'live', 'sample': 'act-walk', 'periodic': None, 'reflective': None, 'update_interval': 600, 'first_update': None, 'npdim': None, 'rstate': None, 'queue_size': 1, 'pool': None, 'use_pool': None, 'live_points': None, 'logl_args': None, 'logl_kwargs': None, 'ptform_args': None, 'ptform_kwargs': None, 'gradient': None, 'grad_args': None, 'grad_kwargs': None, 'compute_jac': False, 'enlarge': None, 'bootstrap': None, 'walks': 100, 'facc': 0.2, 'slices': None, 'fmove': 0.9, 'max_move': 100, 'update_func': None, 'ncdim': None, 'blob': False, 'save_history': False, 'history_filename': None, 'maxiter': None, 'maxcall': None, 'dlogz': 0.1, 'logl_max': inf, 'n_effective': None, 'add_live': True, 'print_progress': True, 'print_func': <bound method Dynesty._print_func of <bilby.core.sampler.dynesty.Dynesty object at 0x11d3f4830>>, 'save_bounds': False, 'checkpoint_file': None, 'checkpoint_every': 60, 'resume': False, 'seed': None}\n",
      "13:55 bilby INFO    : Global meta data was removed from the result object for compatibility. Use the `BILBY_INCLUDE_GLOBAL_METADATA` environment variable to include it. This behaviour will be removed in a future release. For more details see: https://bilby-dev.github.io/bilby/faq.html#global-meta-data\n",
      "13:55 bilby INFO    : Checkpoint every check_point_delta_t = 600s\n",
      "13:55 bilby INFO    : Using dynesty version 2.1.5\n",
      "13:55 bilby INFO    : Using the bilby-implemented act-walk sampling tracking the autocorrelation function and thinning by 2 with maximum length 10000\n",
      "13:55 bilby INFO    : Resume file outdir/test_resume.pickle does not exist.\n",
      "13:55 bilby INFO    : Generating initial points from the prior\n",
      "/Users/liviafingerson/Documents/GitHub/IBM/IEMS399-GP/.venv/lib/python3.13/site-packages/tqdm/auto.py:21: TqdmWarning: IProgress not found. Please update jupyter and ipywidgets. See https://ipywidgets.readthedocs.io/en/stable/user_install.html\n",
      "  from .autonotebook import tqdm as notebook_tqdm\n"
     ]
    },
    {
     "name": "stdout",
     "output_type": "stream",
     "text": [
      "21676it [10:24, 29.53it/s, bound:9215 nc:490 ncall:7.4e+06 eff:0.3% logz=-942.05+/-0.59 dlogz:17.1>0.1]    "
     ]
    },
    {
     "name": "stderr",
     "output_type": "stream",
     "text": [
      "14:05 bilby INFO    : Written checkpoint file outdir/test_resume.pickle\n",
      "/Users/liviafingerson/Documents/GitHub/IBM/IEMS399-GP/.venv/lib/python3.13/site-packages/dynesty/plotting.py:318: UserWarning: Attempting to set identical low and high ylims makes transformation singular; automatically expanding.\n",
      "  axes[i].set_ylim([ymin, ymax])\n"
     ]
    },
    {
     "name": "stdout",
     "output_type": "stream",
     "text": [
      "28147it [14:07, 31.96it/s, bound:12486 nc:414 ncall:1.0e+07 eff:0.3% logz=-923.82+/-0.64 dlogz:0.108>0.1]"
     ]
    },
    {
     "name": "stderr",
     "output_type": "stream",
     "text": [
      "14:09 bilby INFO    : Written checkpoint file outdir/test_resume.pickle\n"
     ]
    },
    {
     "name": "stdout",
     "output_type": "stream",
     "text": [
      "28167it [14:20, 31.96it/s, bound:12496 nc:  1 ncall:1.0e+07 eff:0.3% logz=-923.80+/-0.64 dlogz:0.000408>0.1]"
     ]
    },
    {
     "name": "stderr",
     "output_type": "stream",
     "text": [
      "/Users/liviafingerson/Documents/GitHub/IBM/IEMS399-GP/.venv/lib/python3.13/site-packages/dynesty/plotting.py:318: UserWarning: Attempting to set identical low and high ylims makes transformation singular; automatically expanding.\n",
      "  axes[i].set_ylim([ymin, ymax])\n"
     ]
    },
    {
     "name": "stdout",
     "output_type": "stream",
     "text": [
      "28167it [14:21, 32.70it/s, bound:12496 nc:  1 ncall:1.0e+07 eff:0.3% logz=-923.80+/-0.64 dlogz:0.000408>0.1]"
     ]
    },
    {
     "name": "stderr",
     "output_type": "stream",
     "text": [
      "14:09 bilby INFO    : Rejection sampling nested samples to obtain 2300 posterior samples\n",
      "14:09 bilby INFO    : Sampling time: 0:14:21.293616\n"
     ]
    },
    {
     "name": "stdout",
     "output_type": "stream",
     "text": [
      "\n",
      "\n"
     ]
    },
    {
     "name": "stderr",
     "output_type": "stream",
     "text": [
      "14:09 bilby INFO    : Summary of results:\n",
      "nsamples: 2300\n",
      "ln_noise_evidence:    nan\n",
      "ln_evidence: -923.799 +/-  0.719\n",
      "ln_bayes_factor:    nan +/-  0.719\n",
      "\n"
     ]
    }
   ],
   "source": [
    "# model function\n",
    "\n",
    "def model_function(X, **params): \n",
    "    betas = np.array([params[f\"beta{i}\"] for i in range(X.shape[1])]) # make beta for each column\n",
    "    return X @ betas \n",
    "\n",
    "# make priors\n",
    "priors = dict()\n",
    "for i in range(30):\n",
    "    priors[f\"beta{i}\"] = bilby.core.prior.Uniform(-5, 5, f\"beta{i}\") # define uniform priors for each beta coefficient\n",
    "\n",
    "# define the likelihood based on the Gaussian noise model\n",
    "likelihood = LinearRegressionLikelihood(\n",
    "    X = Xtrain,\n",
    "    y = ytrain,\n",
    "    sigma = 0.5)\n",
    "\n",
    "#define injection parameters for validation (true coefficient values)\n",
    "injection_parameters = {\n",
    "   f\"beta{i}\": val_dat['beta'][i] for i in range(len(val_dat['beta']))}\n",
    "\n",
    "# run MCMC sampler\n",
    "result = bilby.run_sampler(\n",
    "    likelihood=likelihood, # likelihood function\n",
    "    priors=priors, # prior distributions\n",
    "    sampler=\"dynesty\", \n",
    "    nlive=250,\n",
    "    injection_parameters=injection_parameters, # used for validation\n",
    "    outdir=outdir,\n",
    "    label=label\n",
    "    #plot=True\n",
    ")"
   ]
  },
  {
   "cell_type": "code",
   "execution_count": 47,
   "id": "4fbc2735",
   "metadata": {},
   "outputs": [],
   "source": [
    "# open test result file\n",
    "with open(f\"{outdir}/test_result.json\", 'r') as f:\n",
    "    test_result = json.load(f)"
   ]
  },
  {
   "cell_type": "code",
   "execution_count": 48,
   "id": "9bf2cdec",
   "metadata": {},
   "outputs": [
    {
     "data": {
      "image/png": "[encoded data removed]",
      "text/plain": [
       "<Figure size 640x480 with 1 Axes>"
      ]
     },
     "metadata": {},
     "output_type": "display_data"
    }
   ],
   "source": [
    "plt.boxplot([test_result['posterior']['content'][f'beta{i}'] for i in range(30)], \n",
    "            tick_labels=[f'beta{i}' for i in range(30)])\n",
    "# add true values (injection parameters) as red dots\n",
    "true_betas = [injection_parameters[f'beta{i}'] for i in range(30)]\n",
    "plt.scatter([f'beta{i}' for i in range(30)], true_betas, color='red', label='True Values')\n",
    "plt.xlabel('Beta Coefficients') \n",
    "plt.xticks(rotation=90)\n",
    "plt.title('Posterior distributions of beta coefficients')\n",
    "plt.ylabel('Value')\n",
    "plt.tight_layout()\n",
    "plt.legend()\n",
    "plt.show()"
   ]
  },
  {
   "cell_type": "code",
   "execution_count": 49,
   "id": "dfa17245",
   "metadata": {},
   "outputs": [
    {
     "name": "stdout",
     "output_type": "stream",
     "text": [
      "beta0: 0.25116467169998025\n",
      "beta1: 0.22765209562255978\n",
      "beta2: -0.05177463786634877\n",
      "beta3: -0.09846366506092905\n",
      "beta4: 0.20065929940051727\n",
      "beta5: 0.18565350946573514\n",
      "beta6: -0.005932849762674988\n",
      "beta7: 0.04369682638033782\n",
      "beta8: -0.1691537911372738\n",
      "beta9: 4.441795431781442\n",
      "beta10: 0.036682638354022204\n",
      "beta11: 0.149841685383388\n",
      "beta12: -0.05439109214115156\n",
      "beta13: 0.14442830088560393\n",
      "beta14: 0.17414109330971078\n",
      "beta15: -0.27721296574034715\n",
      "beta16: -0.09987231346068731\n",
      "beta17: 0.05183853956001567\n",
      "beta18: 0.07397362920331017\n",
      "beta19: 0.37010675632790435\n",
      "beta20: -0.31961834243195203\n",
      "beta21: 0.07752347929313685\n",
      "beta22: 0.1274529218394118\n",
      "beta23: 0.006251717852154821\n",
      "beta24: -0.23121232311778434\n",
      "beta25: 0.22494889389475642\n",
      "beta26: -0.11463178698877359\n",
      "beta27: 0.281983858709005\n",
      "beta28: 0.11861232918273312\n",
      "beta29: -0.09817082933286285\n",
      "beta0 95% CI: [0.06891242663737876, 0.434294926897959]\n",
      "beta1 95% CI: [0.05304543275946805, 0.40435422209165384]\n",
      "beta2 95% CI: [-0.22932923497943636, 0.12592121560120303]\n",
      "beta3 95% CI: [-0.273842249307267, 0.07333084694659044]\n",
      "beta4 95% CI: [0.016801073464665507, 0.38315799103630405]\n",
      "beta5 95% CI: [0.02355962312600424, 0.3532382886116086]\n",
      "beta6 95% CI: [-0.1761916085750699, 0.16283302052520046]\n",
      "beta7 95% CI: [-0.13109875223635087, 0.21719347117323057]\n",
      "beta8 95% CI: [-0.34553077951908606, 0.001097918402180731]\n",
      "beta9 95% CI: [4.2608852771358094, 4.618732721153324]\n",
      "beta10 95% CI: [-0.13470368058831333, 0.2118027794483949]\n",
      "beta11 95% CI: [-0.019847579280074967, 0.3266156075952107]\n",
      "beta12 95% CI: [-0.22660287157841197, 0.12665811153377685]\n",
      "beta13 95% CI: [-0.03260777055834838, 0.3167096221010329]\n",
      "beta14 95% CI: [-0.000244715516160031, 0.3602277598032518]\n",
      "beta15 95% CI: [-0.45331096062948795, -0.10263884998511953]\n",
      "beta16 95% CI: [-0.27162096870641317, 0.07373774267532052]\n",
      "beta17 95% CI: [-0.12282736660096973, 0.23142297337929968]\n",
      "beta18 95% CI: [-0.10093890701641141, 0.2502883257302055]\n",
      "beta19 95% CI: [0.1961616522442053, 0.5486172996460824]\n",
      "beta20 95% CI: [-0.4898438625179797, -0.14881927197698214]\n",
      "beta21 95% CI: [-0.10642097353803068, 0.25428309154067247]\n",
      "beta22 95% CI: [-0.058429993307746494, 0.3092535963893943]\n",
      "beta23 95% CI: [-0.1636692820722408, 0.18516919124929526]\n",
      "beta24 95% CI: [-0.40435362278948894, -0.05501634946495506]\n",
      "beta25 95% CI: [0.05081053046675084, 0.4040137137557423]\n",
      "beta26 95% CI: [-0.30270275313045303, 0.07729522979742397]\n",
      "beta27 95% CI: [0.103950797769553, 0.4601708001170778]\n",
      "beta28 95% CI: [-0.06567424399606125, 0.29957812979397236]\n",
      "beta29 95% CI: [-0.2739308746105121, 0.08122149176439203]\n"
     ]
    }
   ],
   "source": [
    "# print posterior means for beta coefficients\n",
    "for i in range(30):\n",
    "    print(f\"beta{i}: {np.array(test_result['posterior']['content'][f'beta{i}']).mean()}\")\n",
    "\n",
    "\n",
    "# print credible intervals for beta coefficients\n",
    "for i in range(30):\n",
    "    lower = np.percentile(test_result['posterior']['content'][f'beta{i}'], 2.5)\n",
    "    upper = np.percentile(test_result['posterior']['content'][f'beta{i}'], 97.5)\n",
    "    print(f\"beta{i} 95% CI: [{lower}, {upper}]\")"
   ]
  }
 ],
 "metadata": {
  "kernelspec": {
   "display_name": ".venv",
   "language": "python",
   "name": "python3"
  },
  "language_info": {
   "codemirror_mode": {
    "name": "ipython",
    "version": 3
   },
   "file_extension": ".py",
   "mimetype": "text/x-python",
   "name": "python",
   "nbconvert_exporter": "python",
   "pygments_lexer": "ipython3",
   "version": "3.13.5"
  }
 },
 "nbformat": 4,
 "nbformat_minor": 5
}
